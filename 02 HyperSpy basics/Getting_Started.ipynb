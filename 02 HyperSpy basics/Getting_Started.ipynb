{
 "cells": [
  {
   "cell_type": "markdown",
   "metadata": {},
   "source": [
    "# Getting started\n",
    "\n",
    "Requires **HyperSpy 1.5.1 or above**\n",
    "\n",
    "## Summary\n",
    "\n",
    "This tutorial introduces you to the syntax of hyperspy and shows you how to load, save and visualise data with HyperSpy as well as other basic functionalities, such as using indexing and regions of interest.\n",
    "\n",
    "Although not strictly required, some knowledge of Python can help with getting the most out of HyperSpy. If you are new to Python, the [official tutorial](https://docs.python.org/2/tutorial/index.html) is an excellent way to start.\n",
    "\n",
    "This tutorial can be enjoyed interactively thanks to the [Jupyter Notebook](http://jupyter.org) and [IPython](http://ipython.org). If you are not familiar with the Jupyter Notebook, having a look at the `Help` menu above and the [IPython documentation](http://ipython.readthedocs.io/en/stable/interactive/index.html) is highly recommended.\n",
    "\n",
    "Important note: in the Jupyter notebook, to execute a command or group of commands in a cell, place the cursor in the cell and press `Shift+Enter`.\n",
    "\n",
    "## Objective\n",
    "\n",
    "By going through this notebook, you should be able to:\n",
    "* import libraries\n",
    "* read information from docstrings\n",
    "* Use autocompletion\n",
    "* discover functions and method\n",
    "* create hyperspy signals\n",
    "* load data from file\n",
    "* change scale of signals\n",
    "* visualise data\n",
    "* index and slice data\n",
    "* use ROI and interactive operation\n",
    "\n",
    "\n",
    "### Credits and changes\n",
    "\n",
    "* 22/7/2022 Joshua Taillon. Small tweaks for the M&M Sunday short course.\n",
    "* 15/4/2021 Eric Prestat. Improvement for the Diamond ePSIC workshop\n",
    "* 29/7/2019 Eric Prestat. Small tweaks for the M&M Sunday short course.\n",
    "* 22/6/2018 Eric Prestat. Tweak ROIs and interactive operations for the SuperSTEM summer school.\n",
    "* 24/3/2018 Eric Prestat. Add GUIs and ROIs sections; change some comments.\n",
    "* 22/8/2016 Michael Walls. Include some more comments and explanations\n",
    "* 9/8/2016 Francisco de la Peña. Update it for HyperSpy 1.1\n",
    "* 27/7/2016 Francisco de la Peña. Update it for HyperSpy 1.0.1.\n",
    "* 6/3/2016 Francisco de la Peña. Adapted from previous tutorials for the SCANDEM workshop.\n",
    "\n",
    "## Table of Contents\n",
    "\n",
    "1. [Importing HyperSpy](#1.-Importing-HyperSpy)\n",
    "2. [Getting help](#2.-Getting-help)\n",
    "3. [Structure overview](#3.-Structure-overview)\n",
    "4. [Loading data from a file](#4.-Loading-data-from-a-file)\n",
    "5. [Axis properties](#5.-Axis-properties)\n",
    "6. [GUIs](#6.-GUIs)\n",
    "7. [Visualisation](#7.-Visualisation)\n",
    "8. [Swapping signal and navigation axes](#8.-Swaping-signal-and-navigation-axes)\n",
    "9. [Saving to file](#9.-Saving-to-file)\n",
    "10. [Indexing](#10.-Indexing)\n",
    "11. [ROIs and interactive operations](#11.-ROIs-and-interactive-operations)\n",
    "12. [Process with external function](#12.-Process-with-external-function)\n"
   ]
  },
  {
   "cell_type": "markdown",
   "metadata": {},
   "source": [
    "## 1. Importing HyperSpy\n",
    "\n",
    "As any other Python library, to use HyperSpy you first need to \"import\" it. The public HyperSpy API can be imported by executing\n",
    "\n",
    "    import hyperspy.api as hs\n",
    "    \n",
    "However, in order to enable interactive plotting, the matplotlib \"backend\" need to be set **first** using the [%matplotlib IPython magic](http://ipython.readthedocs.io/en/stable/interactive/plotting.html) command.\n",
    "\n",
    "Typically, you may come to use the following backend:\n",
    "- `notebook` (Jupyter Notebook only)\n",
    "- `qt`\n",
    "- `widget` (Jupyter Lab and Notebook only).\n",
    "\n",
    "With the `notebook` and `widget` backend, the figure will be embedded in the notebook, while with other backends (`qt` or `tk`), the figure will be displayed as separate windows outside of the notebook.\n",
    "\n",
    "**NOTE:** A \"backend\" in this context refers to the code determining the way in which the plotted data will be displayed. In the online version of this document we use the `notebook` backend that displays interactive figures inside the Jupyter Notebook. Other backends, such as `qt` or `tk` can be used. If you get an error message, it is most likely that the selected backend is not available on your system.\n",
    "\n",
    "For more detailed explanation on the compatibility of the different matplotlib backends with the HyperSpy GUIs, read the [starting HyperSpy in the notebook](http://hyperspy.org/hyperspy-doc/current/user_guide/getting_started.html#starting-hyperspy-in-the-notebook-or-terminal) section of the documentation."
   ]
  },
  {
   "cell_type": "code",
   "execution_count": null,
   "metadata": {
    "scrolled": true
   },
   "outputs": [],
   "source": [
    "# This is a Python comment line - anything after a hashtag is a non-executed comment\n",
    "# Use the %matplotlib IPython magic to set the matploltib backend:\n",
    "\n",
    "# we will use the \"qt\" backend interactively, \n",
    "# but \"notebook\" will leave all the plots visible when you close and later open the notebook document\n",
    "%matplotlib notebook\n",
    "\n",
    "# If running remotely (such as on a cloud service) use the `widget` or `notebook` \n",
    "# backend, otherwise you can use one of the GUI-toolkit backends e.g `qt`, `tk`, ..."
   ]
  },
  {
   "cell_type": "code",
   "execution_count": null,
   "metadata": {},
   "outputs": [],
   "source": [
    "# Import hyperspy:\n"
   ]
  },
  {
   "cell_type": "markdown",
   "metadata": {},
   "source": [
    "## 2. Getting help\n",
    "\n",
    "HyperSpy documentation includes\n",
    "\n",
    "* The [User Guide](http://hyperspy.org/hyperspy-doc/current/index.html)\n",
    "* The docstrings (see below)\n",
    "* The [demos](http://nbviewer.jupyter.org/github/hyperspy/hyperspy-demos/tree/master/) such as this one.\n",
    "* The [gitter chat](https://gitter.im/hyperspy/hyperspy)  \n",
    "\n",
    "\n",
    "### Docstrings\n",
    "\n",
    "In Python most objects include their own documentation (docstring in Python jargon). In the Jupyter notebook you can consult the documentation interactively by:\n",
    "\n",
    "* Adding a question mark to the object, e.g. load?\n",
    "* If the object is a function or a method, by pressing the ``Shift + Tab`` keys after writing the first brackets, e.g. load (&lt;``Shift + Tab``>)\n",
    "\n",
    "\n",
    "All HyperSpy public objects are contained in the ``hs`` variable that we have imported above. Let's practice the different methods to access the docstrings by inspecting the ``hs`` docstring:"
   ]
  },
  {
   "cell_type": "code",
   "execution_count": null,
   "metadata": {},
   "outputs": [],
   "source": [
    "# Use the question mark to inspect the `hs` object:\n"
   ]
  },
  {
   "cell_type": "markdown",
   "metadata": {},
   "source": [
    "The `dir` function is very helpful to inspect the attributes of Python objects"
   ]
  },
  {
   "cell_type": "code",
   "execution_count": null,
   "metadata": {},
   "outputs": [],
   "source": [
    "# Use the dir function to inspect the attribute of the `hs` object:\n"
   ]
  },
  {
   "cell_type": "markdown",
   "metadata": {},
   "source": [
    "## 3. Structure overview\n",
    "\n",
    "HyperSpy provides (among other things):\n",
    "* A collection of \"signals\" which are specialised data containers with functions (methods in Python jargon) that operate on the data. They can be found in ``hs.signals``.\n",
    "* Functions that operate on the signals. For example ``hs.stack`` to stack signals and the several functions in ``hs.plot``.\n",
    "* A collection of \"model\" classes that generate models (usually for fitting) by linearly combining the components in ``hs.model.components``.\n",
    "* A database of chemical elements with EELS ionisation edges and X-ray lines in ``hs.material``.\n",
    "* Some example data in `hs.datasets`"
   ]
  },
  {
   "cell_type": "code",
   "execution_count": null,
   "metadata": {},
   "outputs": [],
   "source": [
    "# Inspect the attribute of hs.signals by typeing \"hs.signals.\" then pressing <tab>\n",
    "# (it may take a moment the first time)\n",
    "hs.signals."
   ]
  },
  {
   "cell_type": "code",
   "execution_count": null,
   "metadata": {},
   "outputs": [],
   "source": [
    "# Assign an example dataset to `s`:\n"
   ]
  },
  {
   "cell_type": "code",
   "execution_count": null,
   "metadata": {},
   "outputs": [],
   "source": [
    "# To know what is stored in the variable `s`, write `s` and execute the cell:\n"
   ]
  },
  {
   "cell_type": "code",
   "execution_count": null,
   "metadata": {},
   "outputs": [],
   "source": [
    "# Plot `s` using the plot() method of the Signal:\n"
   ]
  },
  {
   "cell_type": "markdown",
   "metadata": {},
   "source": [
    "### Very useful tip: \"Autocompletion\"\n",
    "\n",
    "Long commands can be entered more quickly using the ``tab`` key. Just enter the first few letters of the command, press ``tab`` and a list of the possible commands will appear. Navigate to the required command with the arrow keys (you still need the brackets at the end). If you are in interactive mode, try it in the cell below:\n",
    "\n",
    "To create a HyperSpy signal, just pass some data to one of the signals in ``hs.signals`` e.g."
   ]
  },
  {
   "cell_type": "code",
   "execution_count": null,
   "metadata": {},
   "outputs": [],
   "source": [
    "# Create a 1D signal named `ten_points` which contains integer values from one to ten:\n",
    "__ = hs.signals.Signal1D([0, 1, 2, 3, 4, 5, 6, 7])"
   ]
  },
  {
   "cell_type": "markdown",
   "metadata": {},
   "source": [
    "Now the `ten_points` variable contains a `Signal1D` instance.\n",
    "\n",
    "Note that, thanks to [IPython](http://ipython.readthedocs.io/en/stable/interactive/tutorial.html#tab-completion), there is no need to type all the commands or paths manually—it is enough to write the first letters and press the `Tab` key."
   ]
  },
  {
   "cell_type": "code",
   "execution_count": null,
   "metadata": {},
   "outputs": [],
   "source": [
    "# Use Tab to use the autocompletion of the `ten_points` variable after just typing `ten`:\n"
   ]
  },
  {
   "cell_type": "markdown",
   "metadata": {},
   "source": [
    "Most of the operations that we can perform on our data are available inside this \"Signal\" object, and can be accessed by writing a *dot* i.e. `.` after the name of the variable, pressing the ``Tab`` key and choosing an option from the list that appears. Alternatively, use the `dir` function to print them all."
   ]
  },
  {
   "cell_type": "code",
   "execution_count": null,
   "metadata": {},
   "outputs": [],
   "source": [
    "# Use Tab after `ten_points.` or the `dir` function to inspect all attributes (variables or methods) attached to `ten_points`:\n"
   ]
  },
  {
   "cell_type": "markdown",
   "metadata": {},
   "source": [
    "For example:"
   ]
  },
  {
   "cell_type": "code",
   "execution_count": null,
   "metadata": {},
   "outputs": [],
   "source": [
    "# Call the `print_summary_statistics` function of the `ten` object using autocompletion:\n"
   ]
  },
  {
   "cell_type": "markdown",
   "metadata": {},
   "source": [
    "## 4. Loading data from a file\n",
    "\n",
    "More typically we load data from files using the `hs.load` function and assign the results of the `hs.load` function to a variable, for example `s`\n",
    "\n",
    "The data set we use as an example here is an EELS spectrum image - see [Azough *et al.* Inorg. Chem. (2016) 55 (7), pp 3338]( https://pubs.acs.org/doi/10.1021/acs.inorgchem.5b02594) for details."
   ]
  },
  {
   "cell_type": "code",
   "execution_count": null,
   "metadata": {},
   "outputs": [],
   "source": [
    "# Load the file named `005_EELS_SI_ap2_full range (dark ref corrected).dm3` \n",
    "# by passing the filename path to the `load` function, i.e. inside the parentheses:\n"
   ]
  },
  {
   "cell_type": "markdown",
   "metadata": {},
   "source": [
    "Let's check what is inside the `s` variable:"
   ]
  },
  {
   "cell_type": "code",
   "execution_count": null,
   "metadata": {},
   "outputs": [],
   "source": [
    "# print the contents of the \"s\" variable"
   ]
  },
  {
   "cell_type": "markdown",
   "metadata": {},
   "source": [
    "HyperSpy has loaded the data into an `EELSSpectrum` object that we have stored in the `s` variable. The symbol `|` separates the navigation dimensions *x*, *y* and the signal dimensions, in this case *energy loss*. This distinction betwen the *types* of dimensions (\"navigation\" vs. \"signal\") is a fundamental concept of accessing data using HyperSpy. \n",
    "\n",
    "The metadata read from the file is stored in the ``original_metadata`` attribute. In this case, this matches what you might see if you examined the file's \"Tag structure\" using Gatan's DigitalMicrograph"
   ]
  },
  {
   "cell_type": "code",
   "execution_count": null,
   "metadata": {},
   "outputs": [],
   "source": [
    "# Display the original metadata: \n"
   ]
  },
  {
   "cell_type": "markdown",
   "metadata": {},
   "source": [
    "Some of this information is parsed into a standardized set of metadata available in the ``metadata`` attribute. \n",
    "HyperSpy only uses the information in the ``metadata`` attribute when operating on data; the `original_metadata` is stored only for reference..\n",
    "\n",
    "The set of metadata supported by HyperSpy is described in the [user guide](http://hyperspy.org/hyperspy-doc/current/user_guide/metadata_structure.html)."
   ]
  },
  {
   "cell_type": "code",
   "execution_count": null,
   "metadata": {},
   "outputs": [],
   "source": [
    "# Display the metadata: \n"
   ]
  },
  {
   "cell_type": "markdown",
   "metadata": {},
   "source": [
    "The metadata can be easily modified:"
   ]
  },
  {
   "cell_type": "code",
   "execution_count": null,
   "metadata": {},
   "outputs": [],
   "source": [
    "# Set the convergence angle to 30 in the metadata:\n"
   ]
  },
  {
   "cell_type": "code",
   "execution_count": null,
   "metadata": {},
   "outputs": [],
   "source": [
    "# Display again the metadata to check the convergence angle has been changed: \n"
   ]
  },
  {
   "cell_type": "markdown",
   "metadata": {},
   "source": [
    "## 5. Axis properties\n",
    "\n",
    "The axes for each signal (*x*, *y* and *energy loss*) are stored in the `axes_manager` attribute:"
   ]
  },
  {
   "cell_type": "code",
   "execution_count": null,
   "metadata": {},
   "outputs": [],
   "source": [
    "# Display the axes manager (look for the `axes_manager` attribute):\n"
   ]
  },
  {
   "cell_type": "markdown",
   "metadata": {},
   "source": [
    "HyperSpy distinguishes between *signal* and *navigation* axes and most functions operate on the signal axes and iterate on the navigation axes. With our current signal `s`, `x` and `y` are the navigation dimensions and the `Energy loss` axis is the signal dimension.\n",
    "\n",
    "The `AxesManager` can be indexed using the standard python indexing syntax (square brackets):"
   ]
  },
  {
   "cell_type": "code",
   "execution_count": null,
   "metadata": {},
   "outputs": [],
   "source": [
    "# Get the first axis of the axes manager:\n"
   ]
  },
  {
   "cell_type": "markdown",
   "metadata": {},
   "source": [
    "It is also possible to index the `AxesManager` by name:"
   ]
  },
  {
   "cell_type": "code",
   "execution_count": null,
   "metadata": {},
   "outputs": [],
   "source": [
    "# Get the axis named `Energy loss` of the `axes_manager` (indexing using string):\n"
   ]
  },
  {
   "cell_type": "markdown",
   "metadata": {},
   "source": [
    "The axes have `offset`, `scale`, `units` and `name` attributes"
   ]
  },
  {
   "cell_type": "code",
   "execution_count": null,
   "metadata": {},
   "outputs": [],
   "source": [
    "# Get the scale of the energy axis (look for the scale attribute of an axis):\n"
   ]
  },
  {
   "cell_type": "code",
   "execution_count": null,
   "metadata": {},
   "outputs": [],
   "source": [
    "# Get the units of the energy axis (look for the units attribute of an axis):\n"
   ]
  },
  {
   "cell_type": "markdown",
   "metadata": {},
   "source": [
    "## 6. GUIs\n",
    "\n",
    "For historical reasons, the interactive parts of HyperSpy can be used with two different GUIs:\n",
    "- `traitsui` GUI (requires the `hyperspy_gui_traitsui` package),\n",
    "- `ipywidgets` GUI (requires the `hyperspy_gui_ipywidgets` package).\n",
    "\n",
    "The two GUIs provide the same functionality, but have differing displays, and both are installed as part of the \"HyperSpy bundle\".\n",
    "\n",
    "The `traitsui` GUI displays UI components in pop-up windows, and can be used in Jupyter or \"regular\" python scripts if run locally (i.e. not on a remote server or cloud environment). \n",
    "\n",
    "The `ipywidgets` GUI can only be used in Jupyter, and will be displayed in the browser window in the context of the current cell (rather than opening a new window).\n",
    "\n",
    "If you attempt to use a GUI toolkit that is not applicable for the given interface (e.g. `ipywidgets` in a Jupyter notebook), HyperSpy will show you a warning the first time you try that can be safely ignored.\n",
    "\n",
    "For example, the properties of the different axes can be set interactively using the GUI of the `axes_manager`."
   ]
  },
  {
   "cell_type": "code",
   "execution_count": null,
   "metadata": {},
   "outputs": [],
   "source": [
    "# Call the `gui` method of the `axes_manager`:\n"
   ]
  },
  {
   "cell_type": "markdown",
   "metadata": {},
   "source": [
    "The interactive widgets that appear inside the notebook are the ipywidgets, while the dialogs popping up outside of the notebook are the traitsui GUI elements.\n",
    "Since both GUIs are equivalent, it is recommended to use one or the other and this option can be set in the GUIs tab of the HyperSpy preferences (`hs.preferences`):"
   ]
  },
  {
   "cell_type": "code",
   "execution_count": null,
   "metadata": {},
   "outputs": [],
   "source": [
    "# Call the `gui` method of the preferences (`preferences` is an attribute of the `hs` object) to display the GUI:\n"
   ]
  },
  {
   "cell_type": "markdown",
   "metadata": {},
   "source": [
    "In case no GUI is enabled, the preference can be set manually:"
   ]
  },
  {
   "cell_type": "code",
   "execution_count": null,
   "metadata": {},
   "outputs": [],
   "source": [
    "# set these options as desired\n",
    "# hs.preferences.GUIs.enable_ipywidgets_gui = False\n",
    "# hs.preferences.GUIs.enable_traitsui_gui = True"
   ]
  },
  {
   "cell_type": "markdown",
   "metadata": {},
   "source": [
    "## 7. Visualisation"
   ]
  },
  {
   "cell_type": "markdown",
   "metadata": {},
   "source": [
    "To visualise the data contained in a signal, use the `plot` method:"
   ]
  },
  {
   "cell_type": "code",
   "execution_count": null,
   "metadata": {},
   "outputs": [],
   "source": [
    "# Plot\n"
   ]
  },
  {
   "cell_type": "markdown",
   "metadata": {},
   "source": [
    "### Moving around \n",
    "\n",
    "* Using the keyboard arrow keys\n",
    "* Using the pointer\n",
    "\n",
    "### Other shortcuts\n",
    "\n",
    "* Two pointers: enable/disable by pressing **e**\n",
    "* Adjust image contrast:  press **h** (matplotlib qt backend only)\n",
    "* Increase/decrease the pointer size: **+** and **-** keys (doesn't sum nor average over the navigation axes, this is only to move the pointer more easily)\n",
    "\n",
    "When using HyperSpy, it is common to have many open figures at a given time. The `close` [matplotlib](http://matplotlib.org) command is useful to close all the images at once, but, for that, first we have to import matplotlib:"
   ]
  },
  {
   "cell_type": "code",
   "execution_count": null,
   "metadata": {},
   "outputs": [],
   "source": [
    "# import matplotlib:\n",
    "import matplotlib.pyplot as plt\n",
    "\n",
    "# Use the `close` matplotlib function to close all figures:\n",
    "plt.close('all')"
   ]
  },
  {
   "cell_type": "markdown",
   "metadata": {},
   "source": [
    "The visualisation of the data can be customised by specifying the arguments of the `plot` methods. See its docstring or the [data visualisation](http://hyperspy.org/hyperspy-doc/current/user_guide/visualisation.html) section of the user guide."
   ]
  },
  {
   "cell_type": "markdown",
   "metadata": {},
   "source": [
    "## 8. Swapping signal and navigation axes\n",
    "\n",
    "We can change the way in which Hyperspy \"sees\" the data by converting the ``EELSSpectrum`` into a ``Signal2D`` object"
   ]
  },
  {
   "cell_type": "code",
   "execution_count": null,
   "metadata": {},
   "outputs": [],
   "source": [
    "# Use the `to_signal2D` to convert the `EELSSpectrum` to `Signal2D` and assign the returned object to `im`:\n"
   ]
  },
  {
   "cell_type": "markdown",
   "metadata": {},
   "source": [
    "The ``im`` variable now contains a ``Signal2D`` object that shares the data with the ``EELSSpectrum`` object in ``s``."
   ]
  },
  {
   "cell_type": "code",
   "execution_count": null,
   "metadata": {},
   "outputs": [],
   "source": [
    "# Print what is `im`:\n"
   ]
  },
  {
   "cell_type": "markdown",
   "metadata": {},
   "source": [
    "Now we can visualize the same data in the \"energy filtered\" way"
   ]
  },
  {
   "cell_type": "code",
   "execution_count": null,
   "metadata": {},
   "outputs": [],
   "source": [
    "# Plot `im`:\n"
   ]
  },
  {
   "cell_type": "markdown",
   "metadata": {},
   "source": [
    "Similar operations can be performed using the `tranpose()` function or `T()` its shortcut:"
   ]
  },
  {
   "cell_type": "code",
   "execution_count": null,
   "metadata": {},
   "outputs": [],
   "source": [
    "# print the signal in s:\n",
    "\n",
    "\n",
    "# print the transpose of s:\n"
   ]
  },
  {
   "cell_type": "code",
   "execution_count": null,
   "metadata": {},
   "outputs": [],
   "source": [
    "# use the `T` method to plot the `s_EELS` data in \"energy filtered\" way:\n"
   ]
  },
  {
   "cell_type": "markdown",
   "metadata": {},
   "source": [
    "Using the `transpose` (or `T`) function, the dataset dimensions can be interpreted as desired: either as signal or navigation axes. See the [transposing section](http://hyperspy.readthedocs.io/en/stable/user_guide/tools.html#transposing-changing-signal-spaces) to the user guide for more information.\n",
    "\n",
    "## 9. Saving to file\n",
    "\n",
    "A signal can be saved by calling its `save` method and passing the filename as first argument. "
   ]
  },
  {
   "cell_type": "code",
   "execution_count": null,
   "metadata": {},
   "outputs": [],
   "source": [
    "# Save the `im` signal:\n"
   ]
  },
  {
   "cell_type": "markdown",
   "metadata": {},
   "source": [
    "By default HyperSpy writes to the HDF5 file format with the extension `hspy`.\n",
    "\n",
    "To save to another format you must specify the extension, e.g.:"
   ]
  },
  {
   "cell_type": "code",
   "execution_count": null,
   "metadata": {},
   "outputs": [],
   "source": [
    "# Save the 'im' signal as tif file:\n"
   ]
  },
  {
   "cell_type": "markdown",
   "metadata": {},
   "source": [
    "We can load it to verify that we do get back what we saved"
   ]
  },
  {
   "cell_type": "code",
   "execution_count": null,
   "metadata": {},
   "outputs": [],
   "source": [
    "# Load `im`:\n"
   ]
  },
  {
   "cell_type": "code",
   "execution_count": null,
   "metadata": {},
   "outputs": [],
   "source": [
    "# Plot the reloaded `im` signal\n"
   ]
  },
  {
   "cell_type": "markdown",
   "metadata": {},
   "source": [
    "## 10. Indexing\n",
    "\n",
    "HyperSpy signals can be indexed using the `isig` and `inav` attributes. Indexing is a very powerful feature. To go beyond the basic examples here have a look at the [User Guide](http://hyperspy.org/hyperspy-doc/current/user_guide/tools.html#indexing).\n",
    "\n",
    "Firstly we'll load an RGB image"
   ]
  },
  {
   "cell_type": "code",
   "execution_count": null,
   "metadata": {},
   "outputs": [],
   "source": [
    "# Load the astronaut.hspy file and store it in `im`;\n",
    "\n",
    "\n",
    "# As an aside, this is an image of Eileen Collins, an American astronaut and first female Shuttle Commander"
   ]
  },
  {
   "cell_type": "markdown",
   "metadata": {},
   "source": [
    "Notice that the navigation dimension is 3 because there is one axis per color channel."
   ]
  },
  {
   "cell_type": "code",
   "execution_count": null,
   "metadata": {},
   "outputs": [],
   "source": [
    "# Display what is `im` to know what is the dimension of navigation and signal axis:\n"
   ]
  },
  {
   "cell_type": "code",
   "execution_count": null,
   "metadata": {},
   "outputs": [],
   "source": [
    "# Plot `im`:\n"
   ]
  },
  {
   "cell_type": "markdown",
   "metadata": {},
   "source": [
    "Let's plot the three channels:\n",
    "\n",
    "Note here that we can use the convenience function `hs.plot.plot_images` instead of the `plot` method of the `im` object."
   ]
  },
  {
   "cell_type": "code",
   "execution_count": null,
   "metadata": {},
   "outputs": [],
   "source": [
    "# Plot the three channels side by side using the `plot_images`:\n"
   ]
  },
  {
   "cell_type": "markdown",
   "metadata": {},
   "source": [
    "We can index the navigation axes using the `inav` attribute, which will returns another signal.\n",
    "\n",
    "For example, to obtain just the image in the first channel (R):"
   ]
  },
  {
   "cell_type": "code",
   "execution_count": null,
   "metadata": {},
   "outputs": [],
   "source": [
    "# Use the `inav` attribute \"chained\" with the `plot` method to plot only the first channel:\n"
   ]
  },
  {
   "cell_type": "markdown",
   "metadata": {},
   "source": [
    "A range of incides can be obtained using the `:` between the first and the last indices wanted. If the first or the last index isn't provided, hyperspy will ignore the first or the last, respectively"
   ]
  },
  {
   "cell_type": "code",
   "execution_count": null,
   "metadata": {},
   "outputs": [],
   "source": [
    "# Use the `plot_images` function to plot the two last channels:\n"
   ]
  },
  {
   "cell_type": "markdown",
   "metadata": {},
   "source": [
    "Negative indices are interpreted as counting from the end, so the following is an alternative syntax to obtain the last two channels:"
   ]
  },
  {
   "cell_type": "code",
   "execution_count": null,
   "metadata": {},
   "outputs": [],
   "source": [
    "# Use negative indices indexing to plot the two last channels:\n"
   ]
  },
  {
   "cell_type": "markdown",
   "metadata": {},
   "source": [
    "Equivalently, we can use `isig` to index the signal axes"
   ]
  },
  {
   "cell_type": "code",
   "execution_count": null,
   "metadata": {},
   "outputs": [],
   "source": [
    "# Plot a small portion of the image (for example 128 to -128 and 0 to -256):\n"
   ]
  },
  {
   "cell_type": "markdown",
   "metadata": {},
   "source": [
    "Like most other methods, `isig` and `inav` can be chained e.g.:"
   ]
  },
  {
   "cell_type": "code",
   "execution_count": null,
   "metadata": {},
   "outputs": [],
   "source": [
    "# Do the same as above with the first navigation index only:\n"
   ]
  },
  {
   "cell_type": "markdown",
   "metadata": {},
   "source": [
    "The image is calibrated in centimetres and the centre of the coordinates is located between the astronaut's eyes:"
   ]
  },
  {
   "cell_type": "code",
   "execution_count": null,
   "metadata": {},
   "outputs": [],
   "source": [
    "# plot the image:\n",
    "\n",
    "\n",
    "# add a point marker at (0, 0)\n"
   ]
  },
  {
   "cell_type": "markdown",
   "metadata": {},
   "source": [
    "HyperSpy signals allow indexing using float numbers to index using the axes calibration instead of the data indices. For example:"
   ]
  },
  {
   "cell_type": "code",
   "execution_count": null,
   "metadata": {},
   "outputs": [],
   "source": [
    "# Use the float indexing syntax to plot a small portion of the image (e. g., -5.0 to 5.0 and -2.0 to 2.0):\n"
   ]
  },
  {
   "cell_type": "markdown",
   "metadata": {},
   "source": [
    "Indexing can also be done with different units by specifying the values as string containing an unit, e. g. `\"20 mm\"`:"
   ]
  },
  {
   "cell_type": "code",
   "execution_count": null,
   "metadata": {},
   "outputs": [],
   "source": [
    "# Use the string indexing syntax to plot a small portion of the image (e. g., 20 mm to 5.0 cm and -2.0 to 2.0):\n"
   ]
  },
  {
   "cell_type": "markdown",
   "metadata": {},
   "source": [
    "## 11. ROIs and interactive operations\n",
    "\n",
    "For a more responsive interaction with plot, we will change the matplotlib backend from the `notebook` to `qt`. To do this, the notebook needs to be restarted.\n",
    "\n",
    "Fore more information on setting the matplotlib backend, see the first section of this tutorial on [importing HyperSpy](#1.-Importing-HyperSpy)."
   ]
  },
  {
   "cell_type": "code",
   "execution_count": null,
   "metadata": {},
   "outputs": [],
   "source": [
    "# Restart kernel and the qt instead of the notebook backend (if that's what you were using previously), \n",
    "# since the responsiveness is better with qt:\n",
    "%matplotlib qt\n",
    "import hyperspy.api as hs"
   ]
  },
  {
   "cell_type": "code",
   "execution_count": null,
   "metadata": {},
   "outputs": [],
   "source": [
    "# Reload the data\n",
    "s_EELS = hs.load('005_EELS_SI_ap2_full range (dark ref corrected).dm3')\n",
    "s_HAADF = hs.load('005_EELS_SI_15nm_HAADF_defect.dm3')"
   ]
  },
  {
   "cell_type": "code",
   "execution_count": null,
   "metadata": {},
   "outputs": [],
   "source": [
    "# Plot `s_EELS`\n"
   ]
  },
  {
   "cell_type": "code",
   "execution_count": null,
   "metadata": {},
   "outputs": [],
   "source": [
    "# Plot `s_HAADF`\n"
   ]
  },
  {
   "cell_type": "markdown",
   "metadata": {},
   "source": [
    "There are several types of regions of interest (ROI) available, and are available in `hs.roi`"
   ]
  },
  {
   "cell_type": "code",
   "execution_count": null,
   "metadata": {},
   "outputs": [],
   "source": [
    "# List all ROIs available using the `dir` function:\n"
   ]
  },
  {
   "cell_type": "code",
   "execution_count": null,
   "metadata": {},
   "outputs": [],
   "source": [
    "# Create a rectangular roi using `RectangularROI` and assign it to `roi_rectangle`\n",
    "# Hint: remember to use built-in documentation to know what arguments are required:\n",
    "#       as a default parameter, you can use: left=0.5, top=1.5, right=1.5, bottom=1.5:\n"
   ]
  },
  {
   "cell_type": "markdown",
   "metadata": {},
   "source": [
    "This only creates the roi object and it isn't attached to any signal yet. To do so, plot the signal and use the `interactive` method of the roi object."
   ]
  },
  {
   "cell_type": "code",
   "execution_count": null,
   "metadata": {},
   "outputs": [],
   "source": [
    "# Add the `roi_rectangle` object to the plot of `s_EELS` by calling the `interactive` method of `roi_rectangle`:\n"
   ]
  },
  {
   "cell_type": "markdown",
   "metadata": {},
   "source": [
    "The `interactive` method returns a signal *sliced* from `s_EELS`. It is designed to perform operations, which can be automatically updated when an event is triggered. By default it recomputes the operation when data or the axes of the original signal change."
   ]
  },
  {
   "cell_type": "code",
   "execution_count": null,
   "metadata": {},
   "outputs": [],
   "source": [
    "# Plot the signal defined by s_EELS_roi:\n"
   ]
  },
  {
   "cell_type": "markdown",
   "metadata": {},
   "source": [
    "This is slow because by default, some events are redundant and the same computation is repeated several times!\n",
    "In this specific case, we can set the argument `recompute_out_event` to `None` to speed up the interactive operation:"
   ]
  },
  {
   "cell_type": "code",
   "execution_count": null,
   "metadata": {},
   "outputs": [],
   "source": [
    "# Create a circular roi and name it `roi_circle`\n",
    "# For example, you can use the parameters: cx=2, cy=2, r=1\n",
    "\n",
    "# Add the `roi_rectangle2` object to the plot of `s_EELS` but this time set `recompute_out_event` to `None` and \n",
    "# set the color of the roi to blue by using the `color` argument:\n"
   ]
  },
  {
   "cell_type": "markdown",
   "metadata": {},
   "source": [
    "The same roi can also be added to several signals. For example, we can add the roi to the HAADF signal acquired simultaneously."
   ]
  },
  {
   "cell_type": "code",
   "execution_count": null,
   "metadata": {},
   "outputs": [],
   "source": [
    "# Add the `roi_rectangle2` to the plot of `s_HAADF` by calling the `add_widgets` method of `roi_rectangle2`:\n"
   ]
  },
  {
   "cell_type": "markdown",
   "metadata": {},
   "source": [
    "It is possible to chain interactive operations: in the following, we take the sum of `s_EELS_roi` and "
   ]
  },
  {
   "cell_type": "code",
   "execution_count": null,
   "metadata": {},
   "outputs": [],
   "source": [
    "# Use the 'hs.interactive' function to interactively compute the sum of s_EELS_roi_fast \n",
    "# and assign its output to 's_EELS_roi_sum':\n"
   ]
  },
  {
   "cell_type": "markdown",
   "metadata": {},
   "source": [
    "The plot of `s_EELS_roi_sum` is updated when one of the two rois is moved:"
   ]
  },
  {
   "cell_type": "code",
   "execution_count": null,
   "metadata": {},
   "outputs": [],
   "source": [
    "# Plot `s_EELS_roi_sum`:\n"
   ]
  },
  {
   "cell_type": "markdown",
   "metadata": {},
   "source": [
    "## 12. Process with external function\n",
    "\n",
    "**IMPORTANT:** Before you start this section, you need to generate the dataset by executing the code in the [Appendix](#Appendix).\n",
    "\n",
    "The HyperSpy signals contain a number of methods that operate on their data. However, we often need to operate on the data using external functions. HyperSpy provides the `map` method to make it easy to apply external functions to multi-dimensional datasets.\n",
    "\n",
    "We will use the previous RGB image to show how to apply the `rotate` function from `scipy.ndimage` to an RGB image. Lets import `rotate` and load the image:"
   ]
  },
  {
   "cell_type": "code",
   "execution_count": null,
   "metadata": {},
   "outputs": [],
   "source": []
  },
  {
   "cell_type": "markdown",
   "metadata": {},
   "source": [
    "Same as above, this image navigation size is 3 because the navigation axis corresponds to the three color channels, R, G and B.\n",
    "\n",
    "`rotate` can operate on multidimensional images, but the rotation angle must be the same for all images. With HyperSpy we can easily specify the rotation angle for each image by creating a signal of the same navigation dimensions as `im` containing the rotation angle:"
   ]
  },
  {
   "cell_type": "code",
   "execution_count": null,
   "metadata": {},
   "outputs": [],
   "source": []
  },
  {
   "cell_type": "markdown",
   "metadata": {},
   "source": [
    "`angles` has the right size, but we need to swap the signal and navigation axes. We can do this using `transpose`:"
   ]
  },
  {
   "cell_type": "code",
   "execution_count": null,
   "metadata": {},
   "outputs": [],
   "source": [
    "# Tranpose the data:\n"
   ]
  },
  {
   "cell_type": "markdown",
   "metadata": {},
   "source": [
    "When no arguments are passed to transpose (as in this case) we can use the `T` shortcut instead:"
   ]
  },
  {
   "cell_type": "code",
   "execution_count": null,
   "metadata": {},
   "outputs": [],
   "source": [
    "# Same as above using the `T` shortcut:\n"
   ]
  },
  {
   "cell_type": "markdown",
   "metadata": {},
   "source": [
    "The following uses the `map` method to rotate each color channel by a different angle using SciPy's `rotate` function:"
   ]
  },
  {
   "cell_type": "code",
   "execution_count": null,
   "metadata": {},
   "outputs": [],
   "source": [
    "# Use the `map` method to rotate each channel using angles:\n",
    "# Hint: check the documentation of the `rotate` function to check what parameters need to be passed to `map`. \n"
   ]
  },
  {
   "cell_type": "code",
   "execution_count": null,
   "metadata": {},
   "outputs": [],
   "source": [
    "# Plot `im` using `hs.plot.plot_images`:\n"
   ]
  },
  {
   "cell_type": "code",
   "execution_count": null,
   "metadata": {},
   "outputs": [],
   "source": [
    "# Convert `im` to a signal1D and store the results to `im_rgb`:\n",
    "# Hint: find the corresponding function by inspecting the method of `im`.\n"
   ]
  },
  {
   "cell_type": "markdown",
   "metadata": {},
   "source": [
    "To display the result in color we need to change the data type to `rgb8`:"
   ]
  },
  {
   "cell_type": "code",
   "execution_count": null,
   "metadata": {},
   "outputs": [],
   "source": [
    "# Change the data type to \"rgb8\" and plot the signal:\n"
   ]
  },
  {
   "cell_type": "markdown",
   "metadata": {},
   "source": [
    "Notice that now there are no navigation axes:"
   ]
  },
  {
   "cell_type": "code",
   "execution_count": null,
   "metadata": {},
   "outputs": [],
   "source": [
    "# Check the shape of `im` converted to rgb:\n"
   ]
  },
  {
   "cell_type": "markdown",
   "metadata": {},
   "source": [
    "## Appendix\n",
    "\n",
    "### Create astronaut file for indexing example"
   ]
  },
  {
   "cell_type": "code",
   "execution_count": null,
   "metadata": {},
   "outputs": [],
   "source": [
    "import hyperspy.api as hs\n",
    "from skimage.data import astronaut\n",
    "s = hs.signals.Signal1D(astronaut())\n",
    "\n",
    "# Calibrate the image\n",
    "s.axes_manager[0].name = \"width\"\n",
    "s.axes_manager[0].scale = 0.13\n",
    "s.axes_manager[0].offset = -29.2\n",
    "s.axes_manager[0].units = \"cm\"\n",
    "\n",
    "s.axes_manager[1].name = \"height\"\n",
    "s.axes_manager[1].scale = 0.13\n",
    "s.axes_manager[1].offset = -12.9\n",
    "s.axes_manager[1].units = \"cm\"\n",
    "\n",
    "s.axes_manager[2].name = \"RGB\"\n",
    "s.to_signal2D().save(\"astronaut.hspy\")"
   ]
  }
 ],
 "metadata": {
  "kernelspec": {
   "display_name": "Python 3 (ipykernel)",
   "language": "python",
   "name": "python3"
  },
  "language_info": {
   "codemirror_mode": {
    "name": "ipython",
    "version": 3
   },
   "file_extension": ".py",
   "mimetype": "text/x-python",
   "name": "python",
   "nbconvert_exporter": "python",
   "pygments_lexer": "ipython3",
   "version": "3.9.13"
  }
 },
 "nbformat": 4,
 "nbformat_minor": 4
}
