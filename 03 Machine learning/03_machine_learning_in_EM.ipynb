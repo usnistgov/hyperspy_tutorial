{
 "cells": [
  {
   "cell_type": "markdown",
   "metadata": {},
   "source": [
    "# Machine learning in Electron Microscopy:\n",
    "\n",
    "## Dimensionality reduction and blind source separation"
   ]
  },
  {
   "cell_type": "markdown",
   "metadata": {},
   "source": [
    "Requires **HyperSpy v1.7.1** or above."
   ]
  },
  {
   "cell_type": "markdown",
   "metadata": {},
   "source": [
    "## Summary"
   ]
  },
  {
   "cell_type": "markdown",
   "metadata": {},
   "source": [
    "This tutorial shows how to perform matrix factorization and blind source separation on spectra using HyperSpy. The same procedure can be used to analyse objects of higher dimensionality."
   ]
  },
  {
   "cell_type": "markdown",
   "metadata": {},
   "source": [
    "## Credits and changes"
   ]
  },
  {
   "cell_type": "markdown",
   "metadata": {},
   "source": [
    "* 22/07/2022 Joshua Taillon. Touchups for 2022 M&M workshop\n",
    "* 30/07/2021 Joshua Taillon. Touchups for 2021 M&M workshop and HyperSpy 1.6.4\n",
    "* 31/07/2019 Joshua Taillon. Update for HyperSpy v1.5.1 and 2019 M&M workshop.\n",
    "* 23/08/2016 Michael Walls. Extra explanations.\n",
    "* 27/07/2016 Francisco de la Peña. Updated for HyperSpy v1.0.1.\n",
    "* 06/03/2016 Francisco de la Peña. Adapted from previous tutorials for the SCANDEM workshop."
   ]
  },
  {
   "cell_type": "markdown",
   "metadata": {},
   "source": [
    "## Table of contents"
   ]
  },
  {
   "cell_type": "markdown",
   "metadata": {},
   "source": [
    "1. [PCA via SVD](#PCA)\n",
    "2. [Blind source separation](#BSS)\n",
    "3. [Pre-processing](#preprocessing)\n"
   ]
  },
  {
   "cell_type": "markdown",
   "metadata": {},
   "source": [
    "## <a id='PCA'></a> 1. Principle Component Analysis (PCA) via singular value decomposition (SVD)"
   ]
  },
  {
   "cell_type": "markdown",
   "metadata": {},
   "source": [
    "This is a powerful method for reducing noise in hyperspectral datasets. Here we begin with a few lines of matrix algebra outlining the principles of the technique, but the demo can be followed easily without a full understanding of the mathematics. As with the \"getting started\" demo you can run this one interactively by downloading it and saving it as a .ipynb file.\n",
    "\n",
    "Lets start by supposing a line-spectrum $D$ that can be described by a\n",
    "linear model:\n",
    "\n",
    "$$D=\\left[d_{i,j}\\right]_{m\\times n}={\\displaystyle \\left[{\\color{green}p_{i,j}}\\right]_{m\\times{\\color{red}l}}\\times}\\left[{\\color{red}{\\color{blue}s_{i,j}}}\\right]_{{\\color{red}l}\\times n}$$\n",
    "\n",
    "where $m$ is the *number of pixels* in the line scan, $n$ the *number of channels* in the spectrum and $l$ the *number of components* e.g. spectra of individual compounds.\n",
    "\n",
    "Normally, what we actually measure is a noisy version of $D$, which we will call $D'$:\n",
    "\n",
    "$$D'={\\displaystyle \\left[d'_{i,j}\\right]_{m\\times n}=\\left[{\\color{green}p_{i,j}}\\right]_{m\\times{\\color{red}l}}\\times}\\left[{\\color{red}{\\color{blue}s_{i,j}}}\\right]_{{\\color{red}l}\\times n}+\\mathrm{Noise}$$\n",
    "\n",
    "\n",
    "$D'$ could be factorized as follows:\n",
    "\n",
    "$$D'={\\displaystyle \\left[{\\tilde{\\color{green}p}}_{{i,j}}\\right]_{m\\times{\\color{red}k}}\\times}\\left[\\tilde{s}_{i,j}\\right]_{{\\color{red}k}\\times n}$$ \n",
    "\n",
    "where $k\\leq\\min\\left(m,n\\right)$.\n",
    "\n",
    "Extra constraints are needed to fully determine the matrix factorization. When we add the orthogonality constraint we refer to this decomposition as singular value decomposition (SVD &mdash; see the [wiki entry](https://en.wikipedia.org/wiki/Singular_value_decomposition) for further details).\n",
    "\n",
    "In our assumption of a linear model:\n",
    "\n",
    "$$D'={\\displaystyle \\left[{\\tilde{\\color{green}p}}_{{i,j}}\\right]_{m\\times{\\color{red}l}}\\times}\\left[\\tilde{s}_{i,j}\\right]_{{\\color{red}l}\\times n}+\n",
    "{\\displaystyle \\left[{\\tilde{\\color{green}p}}_{{i,j}}\\right]_{m\\times{\\color{red}{k-l}}}\\times}\\left[\\tilde{s}_{i,j}\\right]_{{\\color{red}{k-l}}\\times n}$$\n",
    "\n",
    "With \n",
    "\n",
    "$$D\\approx{\\displaystyle \\left[{\\tilde{\\color{green}p}}_{{i,j}}\\right]_{m\\times{\\color{red}l}}\\times}\\left[\\tilde{s}_{i,j}\\right]_{{\\color{red}l}\\times n}$$\n",
    "\n",
    "and\n",
    "\n",
    "$$\\mathrm{Noise}\\approx{\\displaystyle \\left[{\\tilde{\\color{green}p}}_{{i,j}}\\right]_{m\\times{\\color{red}{k-l}}}\\times}\\left[\\tilde{s}_{i,j}\\right]_{{\\color{red}{k-l}}\\times n}$$\n",
    "\n",
    "\n",
    " "
   ]
  },
  {
   "cell_type": "markdown",
   "metadata": {},
   "source": [
    "Since the data for this demo is included with the tutorial files, we begin by activating the matplotlib backend, importing HyperSpy, and loading a dataset.   "
   ]
  },
  {
   "cell_type": "markdown",
   "metadata": {},
   "source": [
    "### Set up matplotlib and import Hyperspy\n",
    "\n",
    "**NOTE**: You can use either the `notebook/widget` or `qt` backends for matplotlib (whichever you prefer). Using `notebook` will leave the generated figures saved in the notebook document by default, which may be preferred for posterity's sake, but `qt` makes it easier to drag windows around and visualize things."
   ]
  },
  {
   "cell_type": "code",
   "execution_count": null,
   "metadata": {},
   "outputs": [],
   "source": [
    "# Set the matplotlib backend\n",
    "%matplotlib notebook \n",
    "\n",
    "# Import hyperspy\n",
    "import hyperspy.api as hs"
   ]
  },
  {
   "cell_type": "markdown",
   "metadata": {},
   "source": [
    "### Load a dataset"
   ]
  },
  {
   "cell_type": "code",
   "execution_count": null,
   "metadata": {},
   "outputs": [],
   "source": [
    "# Load a synthetic EELS dataset for machine learning signal separation\n"
   ]
  },
  {
   "cell_type": "markdown",
   "metadata": {},
   "source": [
    "This is a synthetic electron energy-loss spectroscopy dataset. The procedure, although not fully general, can easily be used as is or with minor adaptation to analyse other kinds of data including images and higher dimensional signals."
   ]
  },
  {
   "cell_type": "code",
   "execution_count": null,
   "metadata": {},
   "outputs": [],
   "source": [
    "# plot the loaded signal\n"
   ]
  },
  {
   "cell_type": "markdown",
   "metadata": {},
   "source": [
    "To perform SVD in HyperSpy we use the `decomposition` method that, by default, performs SVD."
   ]
  },
  {
   "cell_type": "code",
   "execution_count": null,
   "metadata": {},
   "outputs": [],
   "source": [
    "# Perform a signal decomposition using SVD\n"
   ]
  },
  {
   "cell_type": "markdown",
   "metadata": {},
   "source": [
    "The result of the decomposition is stored in the `learning_results` attribute, and HyperSpy will print a summary of the parameters uses in the process (noise normalization, algorithm used, etc.)"
   ]
  },
  {
   "cell_type": "markdown",
   "metadata": {},
   "source": [
    "SVD decomposes the data into so-called \"components\" and sorts them in order of decreasing relevance. It is often useful to estimate the dimensionality of the data by plotting the explained variance against the component index on a logarithmic y-scale. This plot is sometimes called a [Scree plot](https://en.wikipedia.org/wiki/Scree_plot) and it should drop quickly, eventually becoming a slowly descending line. The point at which it becomes linear (the elbow point) is often a good estimation of the dimensionality of the data (or equivalently, the number of components that should be retained). It should be noted that this estimate is an empirical rule (it is used because it usually works), and there is some subjectivity in noisy or weak signals (the elbow point may not be well defined).\n",
    "\n",
    "To plot the scree plot, run the `plot_explained_variance_ratio` method e.g.:\n"
   ]
  },
  {
   "cell_type": "code",
   "execution_count": null,
   "metadata": {},
   "outputs": [],
   "source": [
    "# Plot the \"explained variance ratio\" (scree plot)\n"
   ]
  },
  {
   "cell_type": "markdown",
   "metadata": {},
   "source": [
    "From the scree plot we estimate that there are 4 principal components.\n",
    "\n",
    "We can store the data used to create the scree plot as a `Spectrum` instance using the following method:"
   ]
  },
  {
   "cell_type": "code",
   "execution_count": null,
   "metadata": {},
   "outputs": [],
   "source": [
    "# Get the explained variance ratio\n"
   ]
  },
  {
   "cell_type": "code",
   "execution_count": null,
   "metadata": {},
   "outputs": [],
   "source": [
    "# Get the cumulative proportion of variance explained by first four components\n"
   ]
  },
  {
   "cell_type": "markdown",
   "metadata": {},
   "source": [
    "### Shot noise"
   ]
  },
  {
   "cell_type": "markdown",
   "metadata": {},
   "source": [
    "PCA assumes gaussian noise, however, the noise in EELS (and many other EM) spectra is approximately poissonian (shot noise). It is possible to approximately \"normalise\" the noise by using a liner transformation, which should result in a better decomposition of data with shot noise. This is done in HyperSpy as follows:"
   ]
  },
  {
   "cell_type": "code",
   "execution_count": null,
   "metadata": {},
   "outputs": [],
   "source": [
    "# Perform the decomposition, normalizing poissonian noise\n"
   ]
  },
  {
   "cell_type": "markdown",
   "metadata": {},
   "source": [
    "Let's plot the scree plot of this and the previous decomposition in the same figure"
   ]
  },
  {
   "cell_type": "code",
   "execution_count": null,
   "metadata": {},
   "outputs": [],
   "source": [
    "# Plot the non-normalized variance data vs. the normalized:\n"
   ]
  },
  {
   "cell_type": "markdown",
   "metadata": {},
   "source": [
    "Let's improve the plot using some [matplotlib](http://matplotlib.org/) commands:"
   ]
  },
  {
   "cell_type": "code",
   "execution_count": null,
   "metadata": {},
   "outputs": [],
   "source": [
    "# Do the same as above, but improve the plot by changing to a log scale\n",
    "#  and adding some markers for the data points\n"
   ]
  },
  {
   "cell_type": "markdown",
   "metadata": {},
   "source": [
    "As we can see, the explained variance of the first four components of the normalized decomposition are \"further away\" from the noise than those of the original data, indicating a better decomposition."
   ]
  },
  {
   "cell_type": "markdown",
   "metadata": {},
   "source": [
    "### Visualise the decomposition results"
   ]
  },
  {
   "cell_type": "markdown",
   "metadata": {},
   "source": [
    "The following commands can be used to plot the first $n$ principal components.\n",
    "(Note: the `_=` part at the beginning is for webpage rendering purposes and is not strictly needed in the command) "
   ]
  },
  {
   "cell_type": "code",
   "execution_count": null,
   "metadata": {},
   "outputs": [],
   "source": [
    "# Plot the first four principle components (loadings and factors)\n"
   ]
  },
  {
   "cell_type": "markdown",
   "metadata": {},
   "source": [
    "Alternatively (and usually more conveniently) we can use the following plotting method. Use the slider or the left/right arrow keys to change the index of the components in interactive plotting mode. "
   ]
  },
  {
   "cell_type": "code",
   "execution_count": null,
   "metadata": {},
   "outputs": [],
   "source": [
    "# Plot the PCA results with one command:\n"
   ]
  },
  {
   "cell_type": "markdown",
   "metadata": {},
   "source": [
    "### Noise reduction"
   ]
  },
  {
   "cell_type": "markdown",
   "metadata": {},
   "source": [
    "A common application of PCA is noise reduction, which is achieved by dimensionality reduction. We can create a \"denoised\" version of the dataset by inverting the decomposition using only the number of principal components that we want to retain (in this case the first 4 components). This is done with the `get_decomposition_model` command."
   ]
  },
  {
   "cell_type": "code",
   "execution_count": null,
   "metadata": {},
   "outputs": [],
   "source": [
    "# Obtain a dimension-reduced model using four components from the PCA decomposition\n"
   ]
  },
  {
   "cell_type": "markdown",
   "metadata": {},
   "source": [
    "Let's plot the spectra at coordinates (30,30) from the original and PCA-denoised datasets. By multiplying one of the signals by $i$ (the imaginary unit &mdash; represented by `1j` in Python), we create a new complex signal that allows us to see both spectrum images at once:"
   ]
  },
  {
   "cell_type": "code",
   "execution_count": null,
   "metadata": {},
   "outputs": [],
   "source": [
    "# Compare the original signal to the dimensional-reduced model using a complex signal (and plot):\n"
   ]
  },
  {
   "cell_type": "markdown",
   "metadata": {},
   "source": [
    "Calculating and plotting the residuals at a given position can be done in one single line"
   ]
  },
  {
   "cell_type": "code",
   "execution_count": null,
   "metadata": {},
   "outputs": [],
   "source": [
    "# Plot the residual between the signal and PCA-model at one pixel:\n"
   ]
  },
  {
   "cell_type": "markdown",
   "metadata": {},
   "source": [
    "We can also calculate the residuals and plot them as a spectrum image to see that we have captured (almost) all of the signal structure in the first four principle components:"
   ]
  },
  {
   "cell_type": "code",
   "execution_count": null,
   "metadata": {},
   "outputs": [],
   "source": [
    "# Plot the residual between the signal and PCA-model as a spectrum image:\n"
   ]
  },
  {
   "cell_type": "markdown",
   "metadata": {},
   "source": [
    "## <a id='BSS'></a> 2. Blind source separation"
   ]
  },
  {
   "cell_type": "markdown",
   "metadata": {},
   "source": [
    "### Independent component analysis"
   ]
  },
  {
   "cell_type": "markdown",
   "metadata": {},
   "source": [
    "As we have seen in the previous section, the principal components are a linear mixture of EELS elemental maps and spectra, but the mixing matrix is unknown. We can use blind source separation (BSS) to estimate the mixing matrix. In this case we will use independent component analysis. BSS is performed in HyperSpy using the `blind_source_separation` method that by default uses \"[FastICA](https://en.wikipedia.org/wiki/FastICA)\" which is a well-tested ICA routine implemented in [`scikit-learn`](https://scikit-learn.org/stable/modules/generated/sklearn.decomposition.FastICA.html).\n",
    "\n",
    "By default, the BSS is performed on the first derivative of the signal, which often results in a better separation:"
   ]
  },
  {
   "cell_type": "code",
   "execution_count": null,
   "metadata": {},
   "outputs": [],
   "source": [
    "# Perform BSS on the first derivative of the first four PCA components\n"
   ]
  },
  {
   "cell_type": "markdown",
   "metadata": {},
   "source": [
    "The results are also stored in the `learning_results` attribute:"
   ]
  },
  {
   "cell_type": "code",
   "execution_count": null,
   "metadata": {},
   "outputs": [],
   "source": [
    "# Show the learning results summary:\n"
   ]
  },
  {
   "cell_type": "markdown",
   "metadata": {},
   "source": [
    "And can be visualised with the following commands:"
   ]
  },
  {
   "cell_type": "code",
   "execution_count": null,
   "metadata": {},
   "outputs": [],
   "source": [
    "# Plot the loadings and factors resulting from the BSS demixing\n"
   ]
  },
  {
   "cell_type": "markdown",
   "metadata": {},
   "source": [
    "Or usually more conveniently:"
   ]
  },
  {
   "cell_type": "code",
   "execution_count": null,
   "metadata": {},
   "outputs": [],
   "source": [
    "# Plot the BSS results in one command:\n"
   ]
  },
  {
   "cell_type": "markdown",
   "metadata": {},
   "source": [
    "### Non-negative matrix factorization"
   ]
  },
  {
   "cell_type": "markdown",
   "metadata": {},
   "source": [
    "By using a different matrix factorization method, non-negative matrix factorization (NMF) we can decompose the data into \"elemental\" components directly. NMF replaces the orthogonality constraint in SVD by a positivity constraint."
   ]
  },
  {
   "cell_type": "code",
   "execution_count": null,
   "metadata": {},
   "outputs": [],
   "source": [
    "# Perform a signal decomposition using the NMF algorithm instead of SVD:\n"
   ]
  },
  {
   "cell_type": "code",
   "execution_count": null,
   "metadata": {},
   "outputs": [],
   "source": [
    "# Plot the results of the NMF decomposition (in two lines)\n",
    "\n"
   ]
  },
  {
   "cell_type": "code",
   "execution_count": null,
   "metadata": {},
   "outputs": [],
   "source": [
    "# Plot the NMF results in one command:\n"
   ]
  },
  {
   "cell_type": "markdown",
   "metadata": {},
   "source": [
    "ICA and NMF both do a good job, NMF being slightly better in this case. However, some mixing remains in both cases. In the case of ICA the main cause is noise as we will show by analysing in the same way an identical dataset with less noise."
   ]
  },
  {
   "cell_type": "markdown",
   "metadata": {},
   "source": [
    "### Investigating effect of noise"
   ]
  },
  {
   "cell_type": "code",
   "execution_count": null,
   "metadata": {},
   "outputs": [],
   "source": [
    "# Load the same dataset as before, but without any noise present\n"
   ]
  },
  {
   "cell_type": "code",
   "execution_count": null,
   "metadata": {},
   "outputs": [],
   "source": [
    "# plot both signals at a single point to compare noise levels\n"
   ]
  },
  {
   "cell_type": "code",
   "execution_count": null,
   "metadata": {},
   "outputs": [],
   "source": [
    "# Perform the PCA using SVD:\n"
   ]
  },
  {
   "cell_type": "code",
   "execution_count": null,
   "metadata": {},
   "outputs": [],
   "source": [
    "# Demix the results using the second derivative this time for BSS:\n"
   ]
  },
  {
   "cell_type": "code",
   "execution_count": null,
   "metadata": {},
   "outputs": [],
   "source": [
    "# Plot the results\n",
    "\n"
   ]
  },
  {
   "cell_type": "markdown",
   "metadata": {},
   "source": [
    "Note that the better SNR permits using a second numerical derivative which enhances the independence of the sources, improving the performance of ICA in this case."
   ]
  },
  {
   "cell_type": "code",
   "execution_count": null,
   "metadata": {},
   "outputs": [],
   "source": [
    "# Repeat the NMF process for the noiseless signal:\n"
   ]
  },
  {
   "cell_type": "code",
   "execution_count": null,
   "metadata": {},
   "outputs": [],
   "source": [
    "# plot the results\n",
    "\n"
   ]
  },
  {
   "cell_type": "markdown",
   "metadata": {},
   "source": [
    "For this dataset with better SNR ICA outperforms NMF"
   ]
  },
  {
   "cell_type": "markdown",
   "metadata": {},
   "source": [
    "## <a id='preprocessing'></a>3. Pre-processing for EELS signal separation"
   ]
  },
  {
   "cell_type": "markdown",
   "metadata": {},
   "source": [
    "EELS datasets sometime suffer from energy instability. This introduces a non-linearity in the data, resulting in a higher number of components than there are genuine spectral signatures coming from the object. As an example let's have a look at the `CL3` dataset."
   ]
  },
  {
   "cell_type": "code",
   "execution_count": null,
   "metadata": {},
   "outputs": [],
   "source": [
    "# Load the same data, but with energy instability\n"
   ]
  },
  {
   "cell_type": "code",
   "execution_count": null,
   "metadata": {},
   "outputs": [],
   "source": [
    "# Plot and inspect the signal\n"
   ]
  },
  {
   "cell_type": "code",
   "execution_count": null,
   "metadata": {},
   "outputs": [],
   "source": [
    "# Perform the PCA\n"
   ]
  },
  {
   "cell_type": "code",
   "execution_count": null,
   "metadata": {},
   "outputs": [],
   "source": [
    "# Plot a scree plot (explained variance)\n"
   ]
  },
  {
   "cell_type": "markdown",
   "metadata": {},
   "source": [
    "The scree plot now suggests that we need more components to accurately explain this dataset.\n",
    "\n",
    "In this case we can partially correct the energy instability using the low-loss spectrum image contained in the `LL.hdf5` file. (To do this with real data you would need the low-loss spectra simultaneously acquired, using a dual EELS camera)"
   ]
  },
  {
   "cell_type": "code",
   "execution_count": null,
   "metadata": {},
   "outputs": [],
   "source": [
    "# Load the corresponding zero/low-loss data\n"
   ]
  },
  {
   "cell_type": "code",
   "execution_count": null,
   "metadata": {},
   "outputs": [],
   "source": [
    "# Plot and inspect the low-loss data\n"
   ]
  },
  {
   "cell_type": "code",
   "execution_count": null,
   "metadata": {},
   "outputs": [],
   "source": [
    "# Print the contents of the ll3 object\n"
   ]
  },
  {
   "cell_type": "code",
   "execution_count": null,
   "metadata": {},
   "outputs": [],
   "source": [
    "# Align the zero loss peak for the low-loss data \n",
    "# (and also the core-loss signal at the same time)\n"
   ]
  },
  {
   "cell_type": "code",
   "execution_count": null,
   "metadata": {},
   "outputs": [],
   "source": [
    "# Perform PCA on the aligned dataset\n"
   ]
  },
  {
   "cell_type": "code",
   "execution_count": null,
   "metadata": {},
   "outputs": [],
   "source": [
    "# Plot the resulting scree plot\n"
   ]
  },
  {
   "cell_type": "markdown",
   "metadata": {},
   "source": [
    "The scree plot is now more similar to the scree plot of the `CL1` dataset. However the alignment is not perfect and the scree plot still shows the effect of the remaining instability in the dataset. Nevertheless, performing BSS on the first four components results in very similar components to those of `CL1`"
   ]
  },
  {
   "cell_type": "code",
   "execution_count": null,
   "metadata": {},
   "outputs": [],
   "source": [
    "# Perform BSS with the second derivative on the aligned signal\n"
   ]
  },
  {
   "cell_type": "code",
   "execution_count": null,
   "metadata": {},
   "outputs": [],
   "source": [
    "# Plot the BSS results\n",
    "\n"
   ]
  },
  {
   "cell_type": "markdown",
   "metadata": {},
   "source": [
    "### Signal separation with spikes and energy instabilities"
   ]
  },
  {
   "cell_type": "markdown",
   "metadata": {},
   "source": [
    "Another usual complication in real data are spikes. As an example, let's load the \"CL4\" dataset."
   ]
  },
  {
   "cell_type": "code",
   "execution_count": null,
   "metadata": {},
   "outputs": [],
   "source": [
    "# Load the same core-loss data, but with energy instabilities and spikes\n"
   ]
  },
  {
   "cell_type": "code",
   "execution_count": null,
   "metadata": {},
   "outputs": [],
   "source": [
    "# plot the signal to observe spikes, such as at navigation position (6, 7)\n"
   ]
  },
  {
   "cell_type": "code",
   "execution_count": null,
   "metadata": {},
   "outputs": [],
   "source": [
    "# Perform PCA on the raw data\n"
   ]
  },
  {
   "cell_type": "code",
   "execution_count": null,
   "metadata": {},
   "outputs": [],
   "source": [
    "# Examine the scree plot\n"
   ]
  },
  {
   "cell_type": "markdown",
   "metadata": {},
   "source": [
    "As we might expect from the scree plot output, blind source separation on this dataset performs rather poorly:"
   ]
  },
  {
   "cell_type": "code",
   "execution_count": null,
   "metadata": {},
   "outputs": [],
   "source": [
    "# Perform BSS (2nd derivative) on the raw data and plot the results\n",
    "\n",
    "\n"
   ]
  },
  {
   "cell_type": "markdown",
   "metadata": {},
   "source": [
    "In this case the increase in the number of components required to explain the dataset is due to a high  number of spikes and the same energy instability as in the `CL3` dataset. We can remove the spikes using the `spikes_removal_tool`. We'll also close all open figures and re-plot the signal so they show up together when using the `widget` or `notebook` backend (this isn't really necessary if using the `qt` backend):"
   ]
  },
  {
   "cell_type": "code",
   "execution_count": null,
   "metadata": {},
   "outputs": [],
   "source": [
    "# Use the spikes_removal_tool to remove single-channel defects (such as X-ray spikes)\n",
    "import matplotlib.pyplot as plt\n",
    "plt.close('all')\n",
    "\n",
    "# re-plot the signal and run the spike removal tool\n",
    "\n"
   ]
  },
  {
   "cell_type": "markdown",
   "metadata": {},
   "source": [
    "And the instability as above:"
   ]
  },
  {
   "cell_type": "code",
   "execution_count": null,
   "metadata": {},
   "outputs": [],
   "source": [
    "# Load the same low-loss data as before, and align it and the core-loss\n",
    "\n"
   ]
  },
  {
   "cell_type": "code",
   "execution_count": null,
   "metadata": {},
   "outputs": [],
   "source": [
    "# Now, re-run the decomposition and re-plot the scree-plot using the lines above\n"
   ]
  },
  {
   "cell_type": "code",
   "execution_count": null,
   "metadata": {},
   "outputs": [],
   "source": [
    "# Plot the scree plot\n"
   ]
  },
  {
   "cell_type": "markdown",
   "metadata": {},
   "source": [
    "As expected, the scree plot has much better separation, so we expect a better result from the BSS algorithm."
   ]
  },
  {
   "cell_type": "code",
   "execution_count": null,
   "metadata": {},
   "outputs": [],
   "source": [
    "# Perform BSS on the processed data (2nd derivative)\n"
   ]
  },
  {
   "cell_type": "code",
   "execution_count": null,
   "metadata": {},
   "outputs": [],
   "source": [
    "# Plot the BSS results\n",
    "\n"
   ]
  }
 ],
 "metadata": {
  "kernelspec": {
   "display_name": "Python 3 (ipykernel)",
   "language": "python",
   "name": "python3"
  },
  "language_info": {
   "codemirror_mode": {
    "name": "ipython",
    "version": 3
   },
   "file_extension": ".py",
   "mimetype": "text/x-python",
   "name": "python",
   "nbconvert_exporter": "python",
   "pygments_lexer": "ipython3",
   "version": "3.9.13"
  },
  "widgets": {
   "application/vnd.jupyter.widget-state+json": {
    "state": {
     "0315af053774459b80e7c95f628ed4f9": {
      "model_module": "jupyter-js-widgets",
      "model_module_version": "~2.1.4",
      "model_name": "LayoutModel",
      "state": {
       "_model_module_version": "~2.1.4",
       "_view_module_version": "~2.1.4"
      }
     },
     "042f36ddc13d4653960c98d09f2b48eb": {
      "model_module": "jupyter-js-widgets",
      "model_module_version": "~2.1.4",
      "model_name": "VBoxModel",
      "state": {
       "_model_module_version": "~2.1.4",
       "_view_module_version": "~2.1.4",
       "children": [
        "IPY_MODEL_3a95a090aa974d54aed7db2fb8019d36",
        "IPY_MODEL_be43b99b6d8c4d46ac6849922923e1ff"
       ],
       "layout": "IPY_MODEL_9ba3ec873a2a4887bc2d3847652e97dc"
      }
     },
     "0451e14d03c14a00b5a694bf2af6d612": {
      "model_module": "jupyter-js-widgets",
      "model_module_version": "~2.1.4",
      "model_name": "LayoutModel",
      "state": {
       "_model_module_version": "~2.1.4",
       "_view_module_version": "~2.1.4"
      }
     },
     "04f22b71da2c413b8d232ad38755f4c7": {
      "model_module": "jupyter-js-widgets",
      "model_module_version": "~2.1.4",
      "model_name": "HBoxModel",
      "state": {
       "_model_module_version": "~2.1.4",
       "_view_module_version": "~2.1.4",
       "children": [
        "IPY_MODEL_4c91a1a2445d491a84146654ffcd0766",
        "IPY_MODEL_69717efe58f441c595146d4815951d75",
        "IPY_MODEL_889cb3b138b04376beaada9cd2858b40",
        "IPY_MODEL_821abed83ded4898a68de20c9c1a2da1"
       ],
       "layout": "IPY_MODEL_eee20bacb82d47348305ed3d80e260b7"
      }
     },
     "074e05de3ae24b2f95eef18db5b2101e": {
      "model_module": "jupyter-js-widgets",
      "model_module_version": "~2.1.4",
      "model_name": "CheckboxModel",
      "state": {
       "_model_module_version": "~2.1.4",
       "_view_module_version": "~2.1.4",
       "disabled": false,
       "layout": "IPY_MODEL_7edb3c3f69b149249f9ace9396d47707",
       "value": true
      }
     },
     "09329738fef04c099125ca64c217849b": {
      "model_module": "jupyter-js-widgets",
      "model_module_version": "~2.1.4",
      "model_name": "CheckboxModel",
      "state": {
       "_model_module_version": "~2.1.4",
       "_view_module_version": "~2.1.4",
       "description": "Continous update",
       "disabled": false,
       "layout": "IPY_MODEL_37349a3f60d040ebb4f44396c7828d31",
       "value": true
      }
     },
     "09e520b0a2a24daf85e5c99968ab34aa": {
      "model_module": "jupyter-js-widgets",
      "model_module_version": "~2.1.4",
      "model_name": "LayoutModel",
      "state": {
       "_model_module_version": "~2.1.4",
       "_view_module_version": "~2.1.4"
      }
     },
     "0a1c846f87df445c9562597e402bd227": {
      "model_module": "jupyter-js-widgets",
      "model_module_version": "~2.1.4",
      "model_name": "LabelModel",
      "state": {
       "_model_module_version": "~2.1.4",
       "_view_module_version": "~2.1.4",
       "layout": "IPY_MODEL_c0b50494f9a64376b2c4ba940ec1d0b7",
       "value": "Spline order"
      }
     },
     "0be57797fd4f4039adcf8e204f134efe": {
      "model_module": "jupyter-js-widgets",
      "model_module_version": "~2.1.4",
      "model_name": "LayoutModel",
      "state": {
       "_model_module_version": "~2.1.4",
       "_view_module_version": "~2.1.4",
       "display": "none",
       "width": "auto"
      }
     },
     "0d1f09f0ebe84894beb4fc5f26ce6045": {
      "model_module": "jupyter-js-widgets",
      "model_module_version": "~2.1.4",
      "model_name": "SliderStyleModel",
      "state": {
       "_model_module_version": "~2.1.4",
       "_view_module_version": "~2.1.4"
      }
     },
     "0dc312623f1745f5a700744c504dd824": {
      "model_module": "jupyter-js-widgets",
      "model_module_version": "~2.1.4",
      "model_name": "SliderStyleModel",
      "state": {
       "_model_module_version": "~2.1.4",
       "_view_module_version": "~2.1.4"
      }
     },
     "0dd06be53e3f46d18472e5b37ce3e3a2": {
      "model_module": "jupyter-js-widgets",
      "model_module_version": "~2.1.4",
      "model_name": "ButtonModel",
      "state": {
       "_model_module_version": "~2.1.4",
       "_view_module_version": "~2.1.4",
       "description": "Remove spike",
       "layout": "IPY_MODEL_0315af053774459b80e7c95f628ed4f9",
       "style": "IPY_MODEL_9765c18b9d2541eda08d610ef3ffa4e1",
       "tooltip": "Remove spike and find next one."
      }
     },
     "0f212bf9b4f645a28325d9b03bff9c22": {
      "model_module": "jupyter-js-widgets",
      "model_module_version": "~2.1.4",
      "model_name": "LayoutModel",
      "state": {
       "_model_module_version": "~2.1.4",
       "_view_module_version": "~2.1.4",
       "display": "flex",
       "flex_flow": "row",
       "justify_content": "space-between"
      }
     },
     "0fd71462de984ac0ba8f0d2c6c2d5759": {
      "model_module": "jupyter-js-widgets",
      "model_module_version": "~2.1.4",
      "model_name": "ButtonModel",
      "state": {
       "_model_module_version": "~2.1.4",
       "_view_module_version": "~2.1.4",
       "description": "Show derivative histogram",
       "layout": "IPY_MODEL_35d21dcd814f4ee3968b2d300d0516da",
       "style": "IPY_MODEL_a199fd422c964584a721680febfb45c4",
       "tooltip": "This figure is useful to estimate the threshold."
      }
     },
     "1034263dd35f4b418bc99932fc436fbd": {
      "model_module": "jupyter-js-widgets",
      "model_module_version": "~2.1.4",
      "model_name": "LabelModel",
      "state": {
       "_model_module_version": "~2.1.4",
       "_view_module_version": "~2.1.4",
       "layout": "IPY_MODEL_5ad4a0ddefe246cabc4f10b488c9912d",
       "value": "Default spike width"
      }
     },
     "10998307d7e24629bab872dc01f9a564": {
      "model_module": "jupyter-js-widgets",
      "model_module_version": "~2.1.4",
      "model_name": "LayoutModel",
      "state": {
       "_model_module_version": "~2.1.4",
       "_view_module_version": "~2.1.4"
      }
     },
     "14d1466560fd413399b9d450a4b0b151": {
      "model_module": "jupyter-js-widgets",
      "model_module_version": "~2.1.4",
      "model_name": "VBoxModel",
      "state": {
       "_model_module_version": "~2.1.4",
       "_view_module_version": "~2.1.4",
       "children": [
        "IPY_MODEL_d476d61bc78849a9bb310454b8589d52",
        "IPY_MODEL_09329738fef04c099125ca64c217849b"
       ],
       "layout": "IPY_MODEL_10998307d7e24629bab872dc01f9a564"
      }
     },
     "1692061e09d44f9e923b86ea9125ed29": {
      "model_module": "jupyter-js-widgets",
      "model_module_version": "~2.1.4",
      "model_name": "LayoutModel",
      "state": {
       "_model_module_version": "~2.1.4",
       "_view_module_version": "~2.1.4"
      }
     },
     "18502fdc6def4fefb83173f766c59acd": {
      "model_module": "jupyter-js-widgets",
      "model_module_version": "~2.1.4",
      "model_name": "LabelModel",
      "state": {
       "_model_module_version": "~2.1.4",
       "_view_module_version": "~2.1.4",
       "disabled": true,
       "layout": "IPY_MODEL_390dcdc32d5b47dc9fca97b49545891d"
      }
     },
     "19fbd10459bd4963aef11830561acad4": {
      "model_module": "jupyter-js-widgets",
      "model_module_version": "~2.1.4",
      "model_name": "LayoutModel",
      "state": {
       "_model_module_version": "~2.1.4",
       "_view_module_version": "~2.1.4",
       "display": "flex",
       "flex_flow": "row",
       "justify_content": "space-between"
      }
     },
     "19fdee0e848542ea99e5a8523b571496": {
      "model_module": "jupyter-js-widgets",
      "model_module_version": "~2.1.4",
      "model_name": "LayoutModel",
      "state": {
       "_model_module_version": "~2.1.4",
       "_view_module_version": "~2.1.4",
       "width": "5%"
      }
     },
     "1af264eaefa94434a499ad8775e6a0b8": {
      "model_module": "jupyter-js-widgets",
      "model_module_version": "~2.1.4",
      "model_name": "LabelModel",
      "state": {
       "_model_module_version": "~2.1.4",
       "_view_module_version": "~2.1.4",
       "layout": "IPY_MODEL_2ee307b214f9420e8ce5b9fff5fbe816",
       "value": "Decomposition component index"
      }
     },
     "1d923cdcd82e4bfb9c29a1a253ede0bc": {
      "model_module": "jupyter-js-widgets",
      "model_module_version": "~2.1.4",
      "model_name": "ButtonStyleModel",
      "state": {
       "_model_module_version": "~2.1.4",
       "_view_module_version": "~2.1.4"
      }
     },
     "1e363dff923647b6a2162ca2cf1bbb1d": {
      "model_module": "jupyter-js-widgets",
      "model_module_version": "~2.1.4",
      "model_name": "VBoxModel",
      "state": {
       "_model_module_version": "~2.1.4",
       "_view_module_version": "~2.1.4",
       "children": [
        "IPY_MODEL_7ae184f57ee7486999152541cc74e109",
        "IPY_MODEL_aa644d0ef4a44849a8f681726e203be0",
        "IPY_MODEL_791cb3ac8e114277a7ffd49ff3a9120e"
       ],
       "layout": "IPY_MODEL_829385b270cf4ae4be3aaf26b6a4d31d"
      }
     },
     "1ecee36e5a0942dca819c3c5d566e473": {
      "model_module": "jupyter-js-widgets",
      "model_module_version": "~2.1.4",
      "model_name": "HBoxModel",
      "state": {
       "_model_module_version": "~2.1.4",
       "_view_module_version": "~2.1.4",
       "children": [
        "IPY_MODEL_5814b25a5fe04baca19b2d0dff8f2cbd",
        "IPY_MODEL_074e05de3ae24b2f95eef18db5b2101e"
       ],
       "layout": "IPY_MODEL_b0bfd32cd0464c509a0b42d586f536b5"
      }
     },
     "2185724241d24fe79a7a8d866d5f8169": {
      "model_module": "jupyter-js-widgets",
      "model_module_version": "~2.1.4",
      "model_name": "LayoutModel",
      "state": {
       "_model_module_version": "~2.1.4",
       "_view_module_version": "~2.1.4"
      }
     },
     "21de9bd83883441891d8364f618cdee3": {
      "model_module": "jupyter-js-widgets",
      "model_module_version": "~2.1.4",
      "model_name": "LayoutModel",
      "state": {
       "_model_module_version": "~2.1.4",
       "_view_module_version": "~2.1.4",
       "width": "auto"
      }
     },
     "233c2c4037e4418fb56e9d1c744e8bb6": {
      "model_module": "jupyter-js-widgets",
      "model_module_version": "~2.1.4",
      "model_name": "LabelModel",
      "state": {
       "_model_module_version": "~2.1.4",
       "_view_module_version": "~2.1.4",
       "layout": "IPY_MODEL_c84ff7a8df8a4b13b8bfdf0b532bb685",
       "value": "Progress"
      }
     },
     "242a17c0fcc341de9c05f7617193949d": {
      "model_module": "jupyter-js-widgets",
      "model_module_version": "~2.1.4",
      "model_name": "LayoutModel",
      "state": {
       "_model_module_version": "~2.1.4",
       "_view_module_version": "~2.1.4"
      }
     },
     "242afbb8d13e4b24a8894c60ceb584de": {
      "model_module": "jupyter-js-widgets",
      "model_module_version": "~2.1.4",
      "model_name": "LayoutModel",
      "state": {
       "_model_module_version": "~2.1.4",
       "_view_module_version": "~2.1.4"
      }
     },
     "277224f0182a4936a2cf867d3ded0865": {
      "model_module": "jupyter-js-widgets",
      "model_module_version": "~2.1.4",
      "model_name": "VBoxModel",
      "state": {
       "_model_module_version": "~2.1.4",
       "_view_module_version": "~2.1.4",
       "children": [
        "IPY_MODEL_1e363dff923647b6a2162ca2cf1bbb1d",
        "IPY_MODEL_8326b3438b794fecb9f9eeef45b1eab8",
        "IPY_MODEL_576d7ff5efb94ad791aac60cd96cad86",
        "IPY_MODEL_41b36b962e3d44338a7ae94fa6e0e88e"
       ],
       "layout": "IPY_MODEL_c317faf7dc474271a71b2481b988859b"
      }
     },
     "283e60be685840548ab9a017b36cdee9": {
      "model_module": "jupyter-js-widgets",
      "model_module_version": "~2.1.4",
      "model_name": "VBoxModel",
      "state": {
       "_model_module_version": "~2.1.4",
       "_view_module_version": "~2.1.4",
       "children": [
        "IPY_MODEL_0fd71462de984ac0ba8f0d2c6c2d5759",
        "IPY_MODEL_7eefc63311f24eed8e94a7f76ebba0f2",
        "IPY_MODEL_c87dbbf6b6dc436292d9301f9dbadcb2"
       ],
       "layout": "IPY_MODEL_5d082d2443984f738d8b7e35d46317f0"
      }
     },
     "28550b250aa04351bc1f6244cdfd5239": {
      "model_module": "jupyter-js-widgets",
      "model_module_version": "~2.1.4",
      "model_name": "LayoutModel",
      "state": {
       "_model_module_version": "~2.1.4",
       "_view_module_version": "~2.1.4",
       "display": "flex",
       "flex_flow": "row",
       "justify_content": "space-between"
      }
     },
     "2a6d612c2daf437d871d238d13c8f691": {
      "model_module": "jupyter-js-widgets",
      "model_module_version": "~2.1.4",
      "model_name": "LayoutModel",
      "state": {
       "_model_module_version": "~2.1.4",
       "_view_module_version": "~2.1.4"
      }
     },
     "2aa9554ae2cf4fdb9173c00af48dbf0c": {
      "model_module": "jupyter-js-widgets",
      "model_module_version": "~2.1.4",
      "model_name": "ProgressStyleModel",
      "state": {
       "_model_module_version": "~2.1.4",
       "_view_module_version": "~2.1.4"
      }
     },
     "2b5810d4ae59499fb912add3aaaca8d1": {
      "model_module": "jupyter-js-widgets",
      "model_module_version": "~2.1.4",
      "model_name": "LayoutModel",
      "state": {
       "_model_module_version": "~2.1.4",
       "_view_module_version": "~2.1.4",
       "display": "none"
      }
     },
     "2c2ddd1c643f4890b97e293450e9fca7": {
      "model_module": "jupyter-js-widgets",
      "model_module_version": "~2.1.4",
      "model_name": "HBoxModel",
      "state": {
       "_model_module_version": "~2.1.4",
       "_view_module_version": "~2.1.4",
       "children": [
        "IPY_MODEL_8a433c771b4b40489db773b9df3eda3a",
        "IPY_MODEL_5d9f246ee1954c8dbef5378c5501236d"
       ],
       "layout": "IPY_MODEL_b0bfd32cd0464c509a0b42d586f536b5"
      }
     },
     "2c3587836a3e4c449f7b10e6b18681f0": {
      "model_module": "jupyter-js-widgets",
      "model_module_version": "~2.1.4",
      "model_name": "LabelModel",
      "state": {
       "_model_module_version": "~2.1.4",
       "_view_module_version": "~2.1.4",
       "disabled": true,
       "layout": "IPY_MODEL_3a4c41bcbe8a4895bac6f097af4080f7"
      }
     },
     "2c486f164ee14334a2fb6f8fd6c909be": {
      "model_module": "jupyter-js-widgets",
      "model_module_version": "~2.1.4",
      "model_name": "FloatTextModel",
      "state": {
       "_model_module_version": "~2.1.4",
       "_view_module_version": "~2.1.4",
       "description": "value",
       "layout": "IPY_MODEL_87f94060af87426baa98db656d711549",
       "max": 3,
       "min": 0,
       "step": 1
      }
     },
     "2ee307b214f9420e8ce5b9fff5fbe816": {
      "model_module": "jupyter-js-widgets",
      "model_module_version": "~2.1.4",
      "model_name": "LayoutModel",
      "state": {
       "_model_module_version": "~2.1.4",
       "_view_module_version": "~2.1.4",
       "width": "15%"
      }
     },
     "2fb1c7cfbc144d9cb98812eadfe69378": {
      "model_module": "jupyter-js-widgets",
      "model_module_version": "~2.1.4",
      "model_name": "VBoxModel",
      "state": {
       "_model_module_version": "~2.1.4",
       "_view_module_version": "~2.1.4",
       "children": [
        "IPY_MODEL_6e05ad6c56a44f45af3d0a3fe0bae216",
        "IPY_MODEL_ff8f4d9bc1fa426b816ee84e12409acc",
        "IPY_MODEL_2c2ddd1c643f4890b97e293450e9fca7",
        "IPY_MODEL_982398e1e6f94f36aa6243a07a88daa7"
       ],
       "layout": "IPY_MODEL_aa2aefda8303479aae1cb925ecc177d3"
      }
     },
     "2ff9eb9f31684d54851154d8c121f3ec": {
      "model_module": "jupyter-js-widgets",
      "model_module_version": "~2.1.4",
      "model_name": "LayoutModel",
      "state": {
       "_model_module_version": "~2.1.4",
       "_view_module_version": "~2.1.4",
       "width": "auto"
      }
     },
     "30653d82e49d40959c8877b4c3be62e8": {
      "model_module": "jupyter-js-widgets",
      "model_module_version": "~2.1.4",
      "model_name": "IntSliderModel",
      "state": {
       "_model_module_version": "~2.1.4",
       "_view_module_version": "~2.1.4",
       "description": "index",
       "layout": "IPY_MODEL_eab894d92c914c0c801a813736340b8a",
       "max": 3,
       "style": "IPY_MODEL_9baabb52d5d241f1b276792becbc0dd2",
       "value": 2
      }
     },
     "318e2657a89149d4b37da6a23883771c": {
      "model_module": "jupyter-js-widgets",
      "model_module_version": "~2.1.4",
      "model_name": "ButtonModel",
      "state": {
       "_model_module_version": "~2.1.4",
       "_view_module_version": "~2.1.4",
       "description": "Close",
       "layout": "IPY_MODEL_b396c7b774054b4792891278048a1394",
       "style": "IPY_MODEL_68e3ca4ab1744d8fa74ef6cd5eab4993",
       "tooltip": "Close widget and remove span selector from the signal figure."
      }
     },
     "31c7828998c34a8cbbc26e48b826f03e": {
      "model_module": "jupyter-js-widgets",
      "model_module_version": "~2.1.4",
      "model_name": "AccordionModel",
      "state": {
       "_model_module_version": "~2.1.4",
       "_titles": {
        "0": "Advanced settings"
       },
       "_view_module_version": "~2.1.4",
       "children": [
        "IPY_MODEL_2fb1c7cfbc144d9cb98812eadfe69378"
       ],
       "layout": "IPY_MODEL_2a6d612c2daf437d871d238d13c8f691"
      }
     },
     "334e25696f66498c815f1ea62ebf42ed": {
      "model_module": "jupyter-js-widgets",
      "model_module_version": "~2.1.4",
      "model_name": "LayoutModel",
      "state": {
       "_model_module_version": "~2.1.4",
       "_view_module_version": "~2.1.4"
      }
     },
     "33932c20a446434abba29927164911a9": {
      "model_module": "jupyter-js-widgets",
      "model_module_version": "~2.1.4",
      "model_name": "IntSliderModel",
      "state": {
       "_model_module_version": "~2.1.4",
       "_view_module_version": "~2.1.4",
       "description": "index",
       "layout": "IPY_MODEL_3bcf577750dd4b7c81078fa6688bc46f",
       "max": 1023,
       "style": "IPY_MODEL_de95b2b3ef77402e946f0b2af4e0f447"
      }
     },
     "35d21dcd814f4ee3968b2d300d0516da": {
      "model_module": "jupyter-js-widgets",
      "model_module_version": "~2.1.4",
      "model_name": "LayoutModel",
      "state": {
       "_model_module_version": "~2.1.4",
       "_view_module_version": "~2.1.4",
       "width": "auto"
      }
     },
     "370e909d85c74531ba30baac93564f10": {
      "model_module": "jupyter-js-widgets",
      "model_module_version": "~2.1.4",
      "model_name": "LayoutModel",
      "state": {
       "_model_module_version": "~2.1.4",
       "_view_module_version": "~2.1.4"
      }
     },
     "37349a3f60d040ebb4f44396c7828d31": {
      "model_module": "jupyter-js-widgets",
      "model_module_version": "~2.1.4",
      "model_name": "LayoutModel",
      "state": {
       "_model_module_version": "~2.1.4",
       "_view_module_version": "~2.1.4"
      }
     },
     "38ff6d60c9374f769008db23b79d0f36": {
      "model_module": "jupyter-js-widgets",
      "model_module_version": "~2.1.4",
      "model_name": "LabelModel",
      "state": {
       "_model_module_version": "~2.1.4",
       "_view_module_version": "~2.1.4",
       "disabled": true,
       "layout": "IPY_MODEL_98ef7729227e4361ac974dcc38812329"
      }
     },
     "390dcdc32d5b47dc9fca97b49545891d": {
      "model_module": "jupyter-js-widgets",
      "model_module_version": "~2.1.4",
      "model_name": "LayoutModel",
      "state": {
       "_model_module_version": "~2.1.4",
       "_view_module_version": "~2.1.4",
       "width": "5%"
      }
     },
     "3a4c41bcbe8a4895bac6f097af4080f7": {
      "model_module": "jupyter-js-widgets",
      "model_module_version": "~2.1.4",
      "model_name": "LayoutModel",
      "state": {
       "_model_module_version": "~2.1.4",
       "_view_module_version": "~2.1.4",
       "width": "5%"
      }
     },
     "3a95a090aa974d54aed7db2fb8019d36": {
      "model_module": "jupyter-js-widgets",
      "model_module_version": "~2.1.4",
      "model_name": "HBoxModel",
      "state": {
       "_model_module_version": "~2.1.4",
       "_view_module_version": "~2.1.4",
       "children": [
        "IPY_MODEL_1af264eaefa94434a499ad8775e6a0b8",
        "IPY_MODEL_33932c20a446434abba29927164911a9",
        "IPY_MODEL_9f377920a6eb40c4a5f4793f81b207c1",
        "IPY_MODEL_38ff6d60c9374f769008db23b79d0f36"
       ],
       "layout": "IPY_MODEL_1692061e09d44f9e923b86ea9125ed29"
      }
     },
     "3ac9d4924d10443fa9be16c04c7d9c09": {
      "model_module": "jupyter-js-widgets",
      "model_module_version": "~2.1.4",
      "model_name": "VBoxModel",
      "state": {
       "_model_module_version": "~2.1.4",
       "_view_module_version": "~2.1.4",
       "children": [
        "IPY_MODEL_b898ca6e4e8f4c3bbdcd161f5ee62edf",
        "IPY_MODEL_9eef9836568d4f9f883e58e26c4359fa"
       ],
       "layout": "IPY_MODEL_2185724241d24fe79a7a8d866d5f8169"
      }
     },
     "3aead61be269412b95ac5d27ffe362b9": {
      "model_module": "jupyter-js-widgets",
      "model_module_version": "~2.1.4",
      "model_name": "LayoutModel",
      "state": {
       "_model_module_version": "~2.1.4",
       "_view_module_version": "~2.1.4",
       "width": "15%"
      }
     },
     "3bcf577750dd4b7c81078fa6688bc46f": {
      "model_module": "jupyter-js-widgets",
      "model_module_version": "~2.1.4",
      "model_name": "LayoutModel",
      "state": {
       "_model_module_version": "~2.1.4",
       "_view_module_version": "~2.1.4"
      }
     },
     "3be1359b54e1489e9e8d007526953d07": {
      "model_module": "jupyter-js-widgets",
      "model_module_version": "~2.1.4",
      "model_name": "LayoutModel",
      "state": {
       "_model_module_version": "~2.1.4",
       "_view_module_version": "~2.1.4",
       "width": "auto"
      }
     },
     "3e198fdf35ed4bcb9b99f1da5fc070aa": {
      "model_module": "jupyter-js-widgets",
      "model_module_version": "~2.1.4",
      "model_name": "LayoutModel",
      "state": {
       "_model_module_version": "~2.1.4",
       "_view_module_version": "~2.1.4"
      }
     },
     "3e2b218769684cdd8e59785a0a017f5d": {
      "model_module": "jupyter-js-widgets",
      "model_module_version": "~2.1.4",
      "model_name": "LayoutModel",
      "state": {
       "_model_module_version": "~2.1.4",
       "_view_module_version": "~2.1.4"
      }
     },
     "3ea9f72f04d94da8b7c754b7c27e7820": {
      "model_module": "jupyter-js-widgets",
      "model_module_version": "~2.1.4",
      "model_name": "HBoxModel",
      "state": {
       "_model_module_version": "~2.1.4",
       "_view_module_version": "~2.1.4",
       "children": [
        "IPY_MODEL_c8d6d3fc95324ecc9521ef78d1176dc6",
        "IPY_MODEL_55644b1dbae04b12b1006ae228da5d68",
        "IPY_MODEL_2c486f164ee14334a2fb6f8fd6c909be",
        "IPY_MODEL_4606c6ce871b4f2698848b3ed2d68936"
       ],
       "layout": "IPY_MODEL_242afbb8d13e4b24a8894c60ceb584de"
      }
     },
     "3ed1920c1dd844cf808f9f0d7d0dbbe0": {
      "model_module": "jupyter-js-widgets",
      "model_module_version": "~2.1.4",
      "model_name": "ButtonModel",
      "state": {
       "_model_module_version": "~2.1.4",
       "_view_module_version": "~2.1.4",
       "description": "Find next",
       "layout": "IPY_MODEL_775021236a1c46f4a71dbb430098d33b",
       "style": "IPY_MODEL_e7af5c5b23d74b5fb425a66b29563bbd",
       "tooltip": "Find next spike"
      }
     },
     "407e48db3ae2481995704679970a0013": {
      "model_module": "jupyter-js-widgets",
      "model_module_version": "~2.1.4",
      "model_name": "LayoutModel",
      "state": {
       "_model_module_version": "~2.1.4",
       "_view_module_version": "~2.1.4",
       "display": "flex",
       "flex_flow": "row",
       "justify_content": "space-between"
      }
     },
     "417f881ee3c34b729c312515fedd3dba": {
      "model_module": "jupyter-js-widgets",
      "model_module_version": "~2.1.4",
      "model_name": "LayoutModel",
      "state": {
       "_model_module_version": "~2.1.4",
       "_view_module_version": "~2.1.4"
      }
     },
     "41b36b962e3d44338a7ae94fa6e0e88e": {
      "model_module": "jupyter-js-widgets",
      "model_module_version": "~2.1.4",
      "model_name": "HBoxModel",
      "state": {
       "_model_module_version": "~2.1.4",
       "_view_module_version": "~2.1.4",
       "children": [
        "IPY_MODEL_5bea8d134776412598e9f39c79cac99b",
        "IPY_MODEL_49312ef425424d639c104c732c50f5b9",
        "IPY_MODEL_c7340e9bf2a54235ab73f417218d3706",
        "IPY_MODEL_318e2657a89149d4b37da6a23883771c"
       ],
       "layout": "IPY_MODEL_a5b4d2d027e94511a05245dbc472aa38"
      }
     },
     "4606c6ce871b4f2698848b3ed2d68936": {
      "model_module": "jupyter-js-widgets",
      "model_module_version": "~2.1.4",
      "model_name": "LabelModel",
      "state": {
       "_model_module_version": "~2.1.4",
       "_view_module_version": "~2.1.4",
       "disabled": true,
       "layout": "IPY_MODEL_19fdee0e848542ea99e5a8523b571496"
      }
     },
     "47e3d9eb1993474688033c639ccab9eb": {
      "model_module": "jupyter-js-widgets",
      "model_module_version": "~2.1.4",
      "model_name": "CheckboxModel",
      "state": {
       "_model_module_version": "~2.1.4",
       "_view_module_version": "~2.1.4",
       "description": "Continous update",
       "disabled": false,
       "layout": "IPY_MODEL_540f950e4445449eaeec60d671eafaf5",
       "value": true
      }
     },
     "484ddd8484c24a72a8b33708945fde63": {
      "model_module": "jupyter-js-widgets",
      "model_module_version": "~2.1.4",
      "model_name": "LabelModel",
      "state": {
       "_model_module_version": "~2.1.4",
       "_view_module_version": "~2.1.4",
       "layout": "IPY_MODEL_86962ab5737548c899bd3c6972afc172",
       "value": "Spline order"
      }
     },
     "49312ef425424d639c104c732c50f5b9": {
      "model_module": "jupyter-js-widgets",
      "model_module_version": "~2.1.4",
      "model_name": "ButtonModel",
      "state": {
       "_model_module_version": "~2.1.4",
       "_view_module_version": "~2.1.4",
       "description": "Find next",
       "layout": "IPY_MODEL_bf3a71f115bd4311a27915da0b7919d3",
       "style": "IPY_MODEL_6ec8aea7aebe4f41b605e2e50e798985",
       "tooltip": "Find next spike"
      }
     },
     "4b4b078f7ed24077a5768f99125b2359": {
      "model_module": "jupyter-js-widgets",
      "model_module_version": "~2.1.4",
      "model_name": "VBoxModel",
      "state": {
       "_model_module_version": "~2.1.4",
       "_view_module_version": "~2.1.4",
       "children": [
        "IPY_MODEL_b142a83821fc47bca9b31cb4523b2c20",
        "IPY_MODEL_47e3d9eb1993474688033c639ccab9eb"
       ],
       "layout": "IPY_MODEL_9b085703a91f413aad0e2b8e1911d170"
      }
     },
     "4c91a1a2445d491a84146654ffcd0766": {
      "model_module": "jupyter-js-widgets",
      "model_module_version": "~2.1.4",
      "model_name": "LabelModel",
      "state": {
       "_model_module_version": "~2.1.4",
       "_view_module_version": "~2.1.4",
       "layout": "IPY_MODEL_62695be2a8e641adb6940d0496b6fe76",
       "value": "Decomposition component index"
      }
     },
     "4d3fcf49db924620920bc9bb44591d21": {
      "model_module": "jupyter-js-widgets",
      "model_module_version": "~2.1.4",
      "model_name": "LayoutModel",
      "state": {
       "_model_module_version": "~2.1.4",
       "_view_module_version": "~2.1.4"
      }
     },
     "4db347daf03949d28a29a7106172fb62": {
      "model_module": "jupyter-js-widgets",
      "model_module_version": "~2.1.4",
      "model_name": "FloatTextModel",
      "state": {
       "_model_module_version": "~2.1.4",
       "_view_module_version": "~2.1.4",
       "description": "value",
       "layout": "IPY_MODEL_09e520b0a2a24daf85e5c99968ab34aa",
       "max": 3,
       "min": 0,
       "step": 1
      }
     },
     "50be212818764a8e8d6545c30f44eefc": {
      "model_module": "jupyter-js-widgets",
      "model_module_version": "~2.1.4",
      "model_name": "ButtonStyleModel",
      "state": {
       "_model_module_version": "~2.1.4",
       "_view_module_version": "~2.1.4"
      }
     },
     "51485561f95f421a88337cba51a89e28": {
      "model_module": "jupyter-js-widgets",
      "model_module_version": "~2.1.4",
      "model_name": "LayoutModel",
      "state": {
       "_model_module_version": "~2.1.4",
       "_view_module_version": "~2.1.4"
      }
     },
     "5269cf72574b47c0b7427f3e0545161e": {
      "model_module": "jupyter-js-widgets",
      "model_module_version": "~2.1.4",
      "model_name": "LabelModel",
      "state": {
       "_model_module_version": "~2.1.4",
       "_view_module_version": "~2.1.4",
       "layout": "IPY_MODEL_9cbba02595324b4aa3a9d2bbc6d7c4ea",
       "value": "Threshold"
      }
     },
     "52ee723b11e648fca8873448ff6ada6c": {
      "model_module": "jupyter-js-widgets",
      "model_module_version": "~2.1.4",
      "model_name": "CheckboxModel",
      "state": {
       "_model_module_version": "~2.1.4",
       "_view_module_version": "~2.1.4",
       "disabled": false,
       "layout": "IPY_MODEL_7ca39e33c0964c4394aa8c79c74c9015",
       "value": true
      }
     },
     "53038570cdea454299b11bc20a81ea7e": {
      "model_module": "jupyter-js-widgets",
      "model_module_version": "~2.1.4",
      "model_name": "HBoxModel",
      "state": {
       "_model_module_version": "~2.1.4",
       "_view_module_version": "~2.1.4",
       "children": [
        "IPY_MODEL_0a1c846f87df445c9562597e402bd227",
        "IPY_MODEL_a3b39bd0936b40428b1b5fc7a2fe7794"
       ],
       "layout": "IPY_MODEL_b0bfd32cd0464c509a0b42d586f536b5"
      }
     },
     "540f950e4445449eaeec60d671eafaf5": {
      "model_module": "jupyter-js-widgets",
      "model_module_version": "~2.1.4",
      "model_name": "LayoutModel",
      "state": {
       "_model_module_version": "~2.1.4",
       "_view_module_version": "~2.1.4"
      }
     },
     "55644b1dbae04b12b1006ae228da5d68": {
      "model_module": "jupyter-js-widgets",
      "model_module_version": "~2.1.4",
      "model_name": "IntSliderModel",
      "state": {
       "_model_module_version": "~2.1.4",
       "_view_module_version": "~2.1.4",
       "description": "index",
       "layout": "IPY_MODEL_79acda4d641b40959c13cd6181149857",
       "max": 3,
       "style": "IPY_MODEL_8506e822b62a42f9a0fe4ef6eefdfbd8"
      }
     },
     "576d7ff5efb94ad791aac60cd96cad86": {
      "model_module": "jupyter-js-widgets",
      "model_module_version": "~2.1.4",
      "model_name": "AccordionModel",
      "state": {
       "_model_module_version": "~2.1.4",
       "_titles": {
        "0": "Help"
       },
       "_view_module_version": "~2.1.4",
       "children": [
        "IPY_MODEL_8cb2bc2cf0bf467ba0d21aec7fc95e22"
       ],
       "layout": "IPY_MODEL_4d3fcf49db924620920bc9bb44591d21"
      }
     },
     "57cb080df32c47b7bef9f3c1229a8d75": {
      "model_module": "jupyter-js-widgets",
      "model_module_version": "~2.1.4",
      "model_name": "ProgressModel",
      "state": {
       "_model_module_version": "~2.1.4",
       "_view_module_version": "~2.1.4",
       "layout": "IPY_MODEL_d1316dce14794bc1be8b83dd10cbe994",
       "max": 4095,
       "style": "IPY_MODEL_c6783f0d0acf4664b60ba8974b280c86",
       "value": 454
      }
     },
     "5814b25a5fe04baca19b2d0dff8f2cbd": {
      "model_module": "jupyter-js-widgets",
      "model_module_version": "~2.1.4",
      "model_name": "LabelModel",
      "state": {
       "_model_module_version": "~2.1.4",
       "_view_module_version": "~2.1.4",
       "layout": "IPY_MODEL_913ee70ef5f84496b021737fcca2d1bf",
       "value": "Add noise"
      }
     },
     "581ab7e6f5044586b0ca25f9fd13096e": {
      "model_module": "jupyter-js-widgets",
      "model_module_version": "~2.1.4",
      "model_name": "LayoutModel",
      "state": {
       "_model_module_version": "~2.1.4",
       "_view_module_version": "~2.1.4"
      }
     },
     "5ad4a0ddefe246cabc4f10b488c9912d": {
      "model_module": "jupyter-js-widgets",
      "model_module_version": "~2.1.4",
      "model_name": "LayoutModel",
      "state": {
       "_model_module_version": "~2.1.4",
       "_view_module_version": "~2.1.4",
       "width": "auto"
      }
     },
     "5bea8d134776412598e9f39c79cac99b": {
      "model_module": "jupyter-js-widgets",
      "model_module_version": "~2.1.4",
      "model_name": "ButtonModel",
      "state": {
       "_model_module_version": "~2.1.4",
       "_view_module_version": "~2.1.4",
       "description": "Find previous",
       "layout": "IPY_MODEL_e87ad6fe4cbc48dd97a4867c697854c3",
       "style": "IPY_MODEL_dacbfe005a43486e853006ec8290e557",
       "tooltip": "Find previous spike"
      }
     },
     "5d082d2443984f738d8b7e35d46317f0": {
      "model_module": "jupyter-js-widgets",
      "model_module_version": "~2.1.4",
      "model_name": "LayoutModel",
      "state": {
       "_model_module_version": "~2.1.4",
       "_view_module_version": "~2.1.4"
      }
     },
     "5d9f246ee1954c8dbef5378c5501236d": {
      "model_module": "jupyter-js-widgets",
      "model_module_version": "~2.1.4",
      "model_name": "IntTextModel",
      "state": {
       "_model_module_version": "~2.1.4",
       "_view_module_version": "~2.1.4",
       "layout": "IPY_MODEL_a8fc2286d1ca46419e0ecdcd21180778",
       "value": 5
      }
     },
     "5e02927cc9d24728bb8566cc18b5b75e": {
      "model_module": "jupyter-js-widgets",
      "model_module_version": "~2.1.4",
      "model_name": "LayoutModel",
      "state": {
       "_model_module_version": "~2.1.4",
       "_view_module_version": "~2.1.4"
      }
     },
     "62695be2a8e641adb6940d0496b6fe76": {
      "model_module": "jupyter-js-widgets",
      "model_module_version": "~2.1.4",
      "model_name": "LayoutModel",
      "state": {
       "_model_module_version": "~2.1.4",
       "_view_module_version": "~2.1.4",
       "width": "15%"
      }
     },
     "63969f24335042fa9d7a6802fbb1026f": {
      "model_module": "jupyter-js-widgets",
      "model_module_version": "~2.1.4",
      "model_name": "HBoxModel",
      "state": {
       "_model_module_version": "~2.1.4",
       "_view_module_version": "~2.1.4",
       "children": [
        "IPY_MODEL_b3ec3f2c201f4ef58e4af8ebaf680386",
        "IPY_MODEL_3ed1920c1dd844cf808f9f0d7d0dbbe0",
        "IPY_MODEL_0dd06be53e3f46d18472e5b37ce3e3a2",
        "IPY_MODEL_a02b2bc324b24ec58b68e6a5e4972f22"
       ],
       "layout": "IPY_MODEL_b716ee1c04bb443b9b3282fd4f706290"
      }
     },
     "67603377bb764f56a41c71df3adf40b3": {
      "model_module": "jupyter-js-widgets",
      "model_module_version": "~2.1.4",
      "model_name": "DropdownModel",
      "state": {
       "_model_module_version": "~2.1.4",
       "_options_labels": [
        "Linear",
        "Spline"
       ],
       "_view_module_version": "~2.1.4",
       "layout": "IPY_MODEL_242a17c0fcc341de9c05f7617193949d",
       "value": "Linear"
      }
     },
     "68e3ca4ab1744d8fa74ef6cd5eab4993": {
      "model_module": "jupyter-js-widgets",
      "model_module_version": "~2.1.4",
      "model_name": "ButtonStyleModel",
      "state": {
       "_model_module_version": "~2.1.4",
       "_view_module_version": "~2.1.4"
      }
     },
     "69717efe58f441c595146d4815951d75": {
      "model_module": "jupyter-js-widgets",
      "model_module_version": "~2.1.4",
      "model_name": "IntSliderModel",
      "state": {
       "_model_module_version": "~2.1.4",
       "_view_module_version": "~2.1.4",
       "description": "index",
       "layout": "IPY_MODEL_581ab7e6f5044586b0ca25f9fd13096e",
       "max": 1023,
       "style": "IPY_MODEL_0dc312623f1745f5a700744c504dd824"
      }
     },
     "6e05ad6c56a44f45af3d0a3fe0bae216": {
      "model_module": "jupyter-js-widgets",
      "model_module_version": "~2.1.4",
      "model_name": "HBoxModel",
      "state": {
       "_model_module_version": "~2.1.4",
       "_view_module_version": "~2.1.4",
       "children": [
        "IPY_MODEL_ab61234a96604e0ab7359288ceda7606",
        "IPY_MODEL_52ee723b11e648fca8873448ff6ada6c"
       ],
       "layout": "IPY_MODEL_b0bfd32cd0464c509a0b42d586f536b5"
      }
     },
     "6ec8aea7aebe4f41b605e2e50e798985": {
      "model_module": "jupyter-js-widgets",
      "model_module_version": "~2.1.4",
      "model_name": "ButtonStyleModel",
      "state": {
       "_model_module_version": "~2.1.4",
       "_view_module_version": "~2.1.4"
      }
     },
     "7086d99694514edfb7ae0cca93296723": {
      "model_module": "jupyter-js-widgets",
      "model_module_version": "~2.1.4",
      "model_name": "FloatTextModel",
      "state": {
       "_model_module_version": "~2.1.4",
       "_view_module_version": "~2.1.4",
       "description": "value",
       "layout": "IPY_MODEL_9380056e86e1467e8efcad241682acbb",
       "max": 1023,
       "min": 0,
       "step": 1,
       "value": 1
      }
     },
     "76481a28bb5941ffb3ade51d60c0785b": {
      "model_module": "jupyter-js-widgets",
      "model_module_version": "~2.1.4",
      "model_name": "LayoutModel",
      "state": {
       "_model_module_version": "~2.1.4",
       "_view_module_version": "~2.1.4"
      }
     },
     "775021236a1c46f4a71dbb430098d33b": {
      "model_module": "jupyter-js-widgets",
      "model_module_version": "~2.1.4",
      "model_name": "LayoutModel",
      "state": {
       "_model_module_version": "~2.1.4",
       "_view_module_version": "~2.1.4"
      }
     },
     "77ee6e86ce624518b4a5defc03f32f06": {
      "model_module": "jupyter-js-widgets",
      "model_module_version": "~2.1.4",
      "model_name": "LayoutModel",
      "state": {
       "_model_module_version": "~2.1.4",
       "_view_module_version": "~2.1.4"
      }
     },
     "78035f1dd7524008b71e8bf428698af9": {
      "model_module": "jupyter-js-widgets",
      "model_module_version": "~2.1.4",
      "model_name": "LayoutModel",
      "state": {
       "_model_module_version": "~2.1.4",
       "_view_module_version": "~2.1.4"
      }
     },
     "791cb3ac8e114277a7ffd49ff3a9120e": {
      "model_module": "jupyter-js-widgets",
      "model_module_version": "~2.1.4",
      "model_name": "HBoxModel",
      "state": {
       "_model_module_version": "~2.1.4",
       "_view_module_version": "~2.1.4",
       "children": [
        "IPY_MODEL_8831b7872aa242508f72c452a2a0a2bb",
        "IPY_MODEL_57cb080df32c47b7bef9f3c1229a8d75"
       ],
       "layout": "IPY_MODEL_b0bfd32cd0464c509a0b42d586f536b5"
      }
     },
     "79acda4d641b40959c13cd6181149857": {
      "model_module": "jupyter-js-widgets",
      "model_module_version": "~2.1.4",
      "model_name": "LayoutModel",
      "state": {
       "_model_module_version": "~2.1.4",
       "_view_module_version": "~2.1.4"
      }
     },
     "7adac95b9767436da62a1c1b176b770f": {
      "model_module": "jupyter-js-widgets",
      "model_module_version": "~2.1.4",
      "model_name": "HBoxModel",
      "state": {
       "_model_module_version": "~2.1.4",
       "_view_module_version": "~2.1.4",
       "children": [
        "IPY_MODEL_e77c61643a674c17abc4329f029692ea",
        "IPY_MODEL_67603377bb764f56a41c71df3adf40b3"
       ],
       "layout": "IPY_MODEL_b0bfd32cd0464c509a0b42d586f536b5"
      }
     },
     "7ae184f57ee7486999152541cc74e109": {
      "model_module": "jupyter-js-widgets",
      "model_module_version": "~2.1.4",
      "model_name": "ButtonModel",
      "state": {
       "_model_module_version": "~2.1.4",
       "_view_module_version": "~2.1.4",
       "description": "Show derivative histogram",
       "layout": "IPY_MODEL_d7ce298ad08f4142abc718a8b255e4a4",
       "style": "IPY_MODEL_1d923cdcd82e4bfb9c29a1a253ede0bc",
       "tooltip": "This figure is useful to estimate the threshold."
      }
     },
     "7ca39e33c0964c4394aa8c79c74c9015": {
      "model_module": "jupyter-js-widgets",
      "model_module_version": "~2.1.4",
      "model_name": "LayoutModel",
      "state": {
       "_model_module_version": "~2.1.4",
       "_view_module_version": "~2.1.4"
      }
     },
     "7d820314c4684cfdb27b71c78c7df037": {
      "model_module": "jupyter-js-widgets",
      "model_module_version": "~2.1.4",
      "model_name": "LayoutModel",
      "state": {
       "_model_module_version": "~2.1.4",
       "_view_module_version": "~2.1.4"
      }
     },
     "7edb3c3f69b149249f9ace9396d47707": {
      "model_module": "jupyter-js-widgets",
      "model_module_version": "~2.1.4",
      "model_name": "LayoutModel",
      "state": {
       "_model_module_version": "~2.1.4",
       "_view_module_version": "~2.1.4"
      }
     },
     "7eefc63311f24eed8e94a7f76ebba0f2": {
      "model_module": "jupyter-js-widgets",
      "model_module_version": "~2.1.4",
      "model_name": "HBoxModel",
      "state": {
       "_model_module_version": "~2.1.4",
       "_view_module_version": "~2.1.4",
       "children": [
        "IPY_MODEL_5269cf72574b47c0b7427f3e0545161e",
        "IPY_MODEL_e24eeeb1f3764e0b8eaed2a2422168d2"
       ],
       "layout": "IPY_MODEL_b0bfd32cd0464c509a0b42d586f536b5"
      }
     },
     "81b5c8975eac49898f2ac94929949a8e": {
      "model_module": "jupyter-js-widgets",
      "model_module_version": "~2.1.4",
      "model_name": "VBoxModel",
      "state": {
       "_model_module_version": "~2.1.4",
       "_view_module_version": "~2.1.4",
       "children": [
        "IPY_MODEL_283e60be685840548ab9a017b36cdee9",
        "IPY_MODEL_31c7828998c34a8cbbc26e48b826f03e",
        "IPY_MODEL_a2f1ed4ca1284b4a862b12a10e0e16ee",
        "IPY_MODEL_63969f24335042fa9d7a6802fbb1026f"
       ],
       "layout": "IPY_MODEL_e5064169e16145b1b404d83c8d27e206"
      }
     },
     "821abed83ded4898a68de20c9c1a2da1": {
      "model_module": "jupyter-js-widgets",
      "model_module_version": "~2.1.4",
      "model_name": "LabelModel",
      "state": {
       "_model_module_version": "~2.1.4",
       "_view_module_version": "~2.1.4",
       "disabled": true,
       "layout": "IPY_MODEL_d0285d24ee1b4acfad638a79afbbc511"
      }
     },
     "829385b270cf4ae4be3aaf26b6a4d31d": {
      "model_module": "jupyter-js-widgets",
      "model_module_version": "~2.1.4",
      "model_name": "LayoutModel",
      "state": {
       "_model_module_version": "~2.1.4",
       "_view_module_version": "~2.1.4"
      }
     },
     "82ec9b28ddf4454b851557a2165fe2d5": {
      "model_module": "jupyter-js-widgets",
      "model_module_version": "~2.1.4",
      "model_name": "HBoxModel",
      "state": {
       "_model_module_version": "~2.1.4",
       "_view_module_version": "~2.1.4",
       "children": [
        "IPY_MODEL_eea36889d23b4b9894c830340dd10f1d",
        "IPY_MODEL_c630f9948ec645f39aa4253a4b0c457a"
       ],
       "layout": "IPY_MODEL_b0bfd32cd0464c509a0b42d586f536b5"
      }
     },
     "8326b3438b794fecb9f9eeef45b1eab8": {
      "model_module": "jupyter-js-widgets",
      "model_module_version": "~2.1.4",
      "model_name": "AccordionModel",
      "state": {
       "_model_module_version": "~2.1.4",
       "_titles": {
        "0": "Advanced settings"
       },
       "_view_module_version": "~2.1.4",
       "children": [
        "IPY_MODEL_e19b9a1b2aae4845a062d98b3fdb621e"
       ],
       "layout": "IPY_MODEL_e1da157db4474a17b90e3f2e830f2494"
      }
     },
     "8506e822b62a42f9a0fe4ef6eefdfbd8": {
      "model_module": "jupyter-js-widgets",
      "model_module_version": "~2.1.4",
      "model_name": "SliderStyleModel",
      "state": {
       "_model_module_version": "~2.1.4",
       "_view_module_version": "~2.1.4"
      }
     },
     "8550539c72f74af5b28ab3ba581e707c": {
      "model_module": "jupyter-js-widgets",
      "model_module_version": "~2.1.4",
      "model_name": "IntSliderModel",
      "state": {
       "_model_module_version": "~2.1.4",
       "_view_module_version": "~2.1.4",
       "description": "index",
       "layout": "IPY_MODEL_5e02927cc9d24728bb8566cc18b5b75e",
       "max": 1023,
       "style": "IPY_MODEL_c0edb3702de24e3fb6055f66872966db",
       "value": 1
      }
     },
     "8600bae5d57d4b4991f87e6f374fde74": {
      "model_module": "jupyter-js-widgets",
      "model_module_version": "~2.1.4",
      "model_name": "CheckboxModel",
      "state": {
       "_model_module_version": "~2.1.4",
       "_view_module_version": "~2.1.4",
       "description": "Continous update",
       "disabled": false,
       "layout": "IPY_MODEL_b5f1c0db71454783a3cb9258f58e131d",
       "value": true
      }
     },
     "86962ab5737548c899bd3c6972afc172": {
      "model_module": "jupyter-js-widgets",
      "model_module_version": "~2.1.4",
      "model_name": "LayoutModel",
      "state": {
       "_model_module_version": "~2.1.4",
       "_view_module_version": "~2.1.4",
       "display": "none",
       "width": "auto"
      }
     },
     "87f94060af87426baa98db656d711549": {
      "model_module": "jupyter-js-widgets",
      "model_module_version": "~2.1.4",
      "model_name": "LayoutModel",
      "state": {
       "_model_module_version": "~2.1.4",
       "_view_module_version": "~2.1.4"
      }
     },
     "8831b7872aa242508f72c452a2a0a2bb": {
      "model_module": "jupyter-js-widgets",
      "model_module_version": "~2.1.4",
      "model_name": "LabelModel",
      "state": {
       "_model_module_version": "~2.1.4",
       "_view_module_version": "~2.1.4",
       "layout": "IPY_MODEL_c7968bcbc61349c38cfc21e198501d7c",
       "value": "Progress"
      }
     },
     "889cb3b138b04376beaada9cd2858b40": {
      "model_module": "jupyter-js-widgets",
      "model_module_version": "~2.1.4",
      "model_name": "FloatTextModel",
      "state": {
       "_model_module_version": "~2.1.4",
       "_view_module_version": "~2.1.4",
       "description": "value",
       "layout": "IPY_MODEL_be29ccf8286b424bab3c954362672edf",
       "max": 1023,
       "min": 0,
       "step": 1
      }
     },
     "8a433c771b4b40489db773b9df3eda3a": {
      "model_module": "jupyter-js-widgets",
      "model_module_version": "~2.1.4",
      "model_name": "LabelModel",
      "state": {
       "_model_module_version": "~2.1.4",
       "_view_module_version": "~2.1.4",
       "layout": "IPY_MODEL_e151a43e74a9408ea7781745ee4d22eb",
       "value": "Default spike width"
      }
     },
     "8b757559e1df4b7a9f4fbe0a939a0abe": {
      "model_module": "jupyter-js-widgets",
      "model_module_version": "~2.1.4",
      "model_name": "LabelModel",
      "state": {
       "_model_module_version": "~2.1.4",
       "_view_module_version": "~2.1.4",
       "layout": "IPY_MODEL_21de9bd83883441891d8364f618cdee3",
       "value": "Threshold"
      }
     },
     "8ba6143c863641618c20d1faa519b9d9": {
      "model_module": "jupyter-js-widgets",
      "model_module_version": "~2.1.4",
      "model_name": "LayoutModel",
      "state": {
       "_model_module_version": "~2.1.4",
       "_view_module_version": "~2.1.4"
      }
     },
     "8cb2bc2cf0bf467ba0d21aec7fc95e22": {
      "model_module": "jupyter-js-widgets",
      "model_module_version": "~2.1.4",
      "model_name": "HTMLModel",
      "state": {
       "_model_module_version": "~2.1.4",
       "_view_module_version": "~2.1.4",
       "layout": "IPY_MODEL_b35918e38040481ba7e3013dc34b88b9",
       "value": "To remove spikes from the data:<br/><br/>   1. Click \"Show derivative histogram\" to determine at what magnitude the spikes are present.<br/>   2. Enter a suitable threshold (lower than the lowest magnitude outlier in the histogram) in the \"Threshold\" box, which will be the magnitude from which to search. <br/>   3. Click \"Find next\" to find the first spike.<br/>   4. If desired, the width and position of the boundaries used to replace the spike can be adjusted by clicking and dragging on the displayed plot.<br/>    5. View the spike (and the replacement data that will be added) and click \"Remove spike\" in order to alter the data as shown. The tool will automatically find the next spike to replace.<br/>   6. Repeat this process for each spike throughout the dataset, until the end of the dataset is reached.<br/>   7. Click \"OK\" when finished to close the spikes removal tool.<br/><br/>Note: Various settings can be configured in the \"Advanced settings\" section. Hover the mouse over each parameter for a description of what it does.<br/>"
      }
     },
     "8f0342d8044b4c9fb07cbe410da3bd6c": {
      "model_module": "jupyter-js-widgets",
      "model_module_version": "~2.1.4",
      "model_name": "LabelModel",
      "state": {
       "_model_module_version": "~2.1.4",
       "_view_module_version": "~2.1.4",
       "layout": "IPY_MODEL_3aead61be269412b95ac5d27ffe362b9",
       "value": "BSS component index"
      }
     },
     "913ee70ef5f84496b021737fcca2d1bf": {
      "model_module": "jupyter-js-widgets",
      "model_module_version": "~2.1.4",
      "model_name": "LayoutModel",
      "state": {
       "_model_module_version": "~2.1.4",
       "_view_module_version": "~2.1.4",
       "width": "auto"
      }
     },
     "920242e31e2140d7941812726e9d4e43": {
      "model_module": "jupyter-js-widgets",
      "model_module_version": "~2.1.4",
      "model_name": "HBoxModel",
      "state": {
       "_model_module_version": "~2.1.4",
       "_view_module_version": "~2.1.4",
       "children": [
        "IPY_MODEL_1034263dd35f4b418bc99932fc436fbd",
        "IPY_MODEL_de055a4e681e4ee5a62a662291c95dd1"
       ],
       "layout": "IPY_MODEL_b0bfd32cd0464c509a0b42d586f536b5"
      }
     },
     "9380056e86e1467e8efcad241682acbb": {
      "model_module": "jupyter-js-widgets",
      "model_module_version": "~2.1.4",
      "model_name": "LayoutModel",
      "state": {
       "_model_module_version": "~2.1.4",
       "_view_module_version": "~2.1.4"
      }
     },
     "974c154a9bab4f72b8ba0a77586c4596": {
      "model_module": "jupyter-js-widgets",
      "model_module_version": "~2.1.4",
      "model_name": "IntSliderModel",
      "state": {
       "_model_module_version": "~2.1.4",
       "_view_module_version": "~2.1.4",
       "description": "index",
       "layout": "IPY_MODEL_ff1aec3b09514b68b027220fb3fb7afc",
       "max": 3,
       "style": "IPY_MODEL_a23695c9d1004dddaf3fec0e481d5e74"
      }
     },
     "9765c18b9d2541eda08d610ef3ffa4e1": {
      "model_module": "jupyter-js-widgets",
      "model_module_version": "~2.1.4",
      "model_name": "ButtonStyleModel",
      "state": {
       "_model_module_version": "~2.1.4",
       "_view_module_version": "~2.1.4"
      }
     },
     "982398e1e6f94f36aa6243a07a88daa7": {
      "model_module": "jupyter-js-widgets",
      "model_module_version": "~2.1.4",
      "model_name": "HBoxModel",
      "state": {
       "_model_module_version": "~2.1.4",
       "_view_module_version": "~2.1.4",
       "children": [
        "IPY_MODEL_a58c2e4fe48e4ef693fd930e425176d8",
        "IPY_MODEL_c630f9948ec645f39aa4253a4b0c457a"
       ],
       "layout": "IPY_MODEL_b0bfd32cd0464c509a0b42d586f536b5"
      }
     },
     "98ef7729227e4361ac974dcc38812329": {
      "model_module": "jupyter-js-widgets",
      "model_module_version": "~2.1.4",
      "model_name": "LayoutModel",
      "state": {
       "_model_module_version": "~2.1.4",
       "_view_module_version": "~2.1.4",
       "width": "5%"
      }
     },
     "9a4b8f1fded049549c109f00f446f9bc": {
      "model_module": "jupyter-js-widgets",
      "model_module_version": "~2.1.4",
      "model_name": "LayoutModel",
      "state": {
       "_model_module_version": "~2.1.4",
       "_view_module_version": "~2.1.4"
      }
     },
     "9b085703a91f413aad0e2b8e1911d170": {
      "model_module": "jupyter-js-widgets",
      "model_module_version": "~2.1.4",
      "model_name": "LayoutModel",
      "state": {
       "_model_module_version": "~2.1.4",
       "_view_module_version": "~2.1.4"
      }
     },
     "9ba3ec873a2a4887bc2d3847652e97dc": {
      "model_module": "jupyter-js-widgets",
      "model_module_version": "~2.1.4",
      "model_name": "LayoutModel",
      "state": {
       "_model_module_version": "~2.1.4",
       "_view_module_version": "~2.1.4"
      }
     },
     "9baabb52d5d241f1b276792becbc0dd2": {
      "model_module": "jupyter-js-widgets",
      "model_module_version": "~2.1.4",
      "model_name": "SliderStyleModel",
      "state": {
       "_model_module_version": "~2.1.4",
       "_view_module_version": "~2.1.4"
      }
     },
     "9bfa3a6aac254e30a58be0f78d38cf14": {
      "model_module": "jupyter-js-widgets",
      "model_module_version": "~2.1.4",
      "model_name": "LayoutModel",
      "state": {
       "_model_module_version": "~2.1.4",
       "_view_module_version": "~2.1.4"
      }
     },
     "9cbba02595324b4aa3a9d2bbc6d7c4ea": {
      "model_module": "jupyter-js-widgets",
      "model_module_version": "~2.1.4",
      "model_name": "LayoutModel",
      "state": {
       "_model_module_version": "~2.1.4",
       "_view_module_version": "~2.1.4",
       "width": "auto"
      }
     },
     "9e0ae57289d24d1b80ff39001b893f2c": {
      "model_module": "jupyter-js-widgets",
      "model_module_version": "~2.1.4",
      "model_name": "LayoutModel",
      "state": {
       "_model_module_version": "~2.1.4",
       "_view_module_version": "~2.1.4",
       "width": "15%"
      }
     },
     "9e5d63353cc249ff9a10eb0a35f05527": {
      "model_module": "jupyter-js-widgets",
      "model_module_version": "~2.1.4",
      "model_name": "LabelModel",
      "state": {
       "_model_module_version": "~2.1.4",
       "_view_module_version": "~2.1.4",
       "disabled": true,
       "layout": "IPY_MODEL_e28543e0b2734fa2b8ed0b89e4d64850"
      }
     },
     "9eef9836568d4f9f883e58e26c4359fa": {
      "model_module": "jupyter-js-widgets",
      "model_module_version": "~2.1.4",
      "model_name": "CheckboxModel",
      "state": {
       "_model_module_version": "~2.1.4",
       "_view_module_version": "~2.1.4",
       "description": "Continous update",
       "disabled": false,
       "layout": "IPY_MODEL_76481a28bb5941ffb3ade51d60c0785b",
       "value": true
      }
     },
     "9f377920a6eb40c4a5f4793f81b207c1": {
      "model_module": "jupyter-js-widgets",
      "model_module_version": "~2.1.4",
      "model_name": "FloatTextModel",
      "state": {
       "_model_module_version": "~2.1.4",
       "_view_module_version": "~2.1.4",
       "description": "value",
       "layout": "IPY_MODEL_77ee6e86ce624518b4a5defc03f32f06",
       "max": 1023,
       "min": 0,
       "step": 1
      }
     },
     "a02b2bc324b24ec58b68e6a5e4972f22": {
      "model_module": "jupyter-js-widgets",
      "model_module_version": "~2.1.4",
      "model_name": "ButtonModel",
      "state": {
       "_model_module_version": "~2.1.4",
       "_view_module_version": "~2.1.4",
       "description": "Close",
       "layout": "IPY_MODEL_51485561f95f421a88337cba51a89e28",
       "style": "IPY_MODEL_50be212818764a8e8d6545c30f44eefc",
       "tooltip": "Close widget and remove span selector from the signal figure."
      }
     },
     "a199fd422c964584a721680febfb45c4": {
      "model_module": "jupyter-js-widgets",
      "model_module_version": "~2.1.4",
      "model_name": "ButtonStyleModel",
      "state": {
       "_model_module_version": "~2.1.4",
       "_view_module_version": "~2.1.4"
      }
     },
     "a23695c9d1004dddaf3fec0e481d5e74": {
      "model_module": "jupyter-js-widgets",
      "model_module_version": "~2.1.4",
      "model_name": "SliderStyleModel",
      "state": {
       "_model_module_version": "~2.1.4",
       "_view_module_version": "~2.1.4"
      }
     },
     "a2f1ed4ca1284b4a862b12a10e0e16ee": {
      "model_module": "jupyter-js-widgets",
      "model_module_version": "~2.1.4",
      "model_name": "AccordionModel",
      "state": {
       "_model_module_version": "~2.1.4",
       "_titles": {
        "0": "Help"
       },
       "_view_module_version": "~2.1.4",
       "children": [
        "IPY_MODEL_af649e876ca54521ae5900247c72bd8c"
       ],
       "layout": "IPY_MODEL_3e198fdf35ed4bcb9b99f1da5fc070aa"
      }
     },
     "a3b39bd0936b40428b1b5fc7a2fe7794": {
      "model_module": "jupyter-js-widgets",
      "model_module_version": "~2.1.4",
      "model_name": "IntSliderModel",
      "state": {
       "_model_module_version": "~2.1.4",
       "_view_module_version": "~2.1.4",
       "layout": "IPY_MODEL_e7e58823f51343f795b5aae338541298",
       "max": 10,
       "min": 1,
       "style": "IPY_MODEL_bf9932458dc948bfbc98554a50b862f6",
       "value": 3
      }
     },
     "a58c2e4fe48e4ef693fd930e425176d8": {
      "model_module": "jupyter-js-widgets",
      "model_module_version": "~2.1.4",
      "model_name": "LabelModel",
      "state": {
       "_model_module_version": "~2.1.4",
       "_view_module_version": "~2.1.4",
       "layout": "IPY_MODEL_e28b61d761d446b49ebfbc427b814863",
       "value": "Spline order"
      }
     },
     "a5b4d2d027e94511a05245dbc472aa38": {
      "model_module": "jupyter-js-widgets",
      "model_module_version": "~2.1.4",
      "model_name": "LayoutModel",
      "state": {
       "_model_module_version": "~2.1.4",
       "_view_module_version": "~2.1.4"
      }
     },
     "a5c669a6b13f4e5a94b5a0aa76e10d5f": {
      "model_module": "jupyter-js-widgets",
      "model_module_version": "~2.1.4",
      "model_name": "HBoxModel",
      "state": {
       "_model_module_version": "~2.1.4",
       "_view_module_version": "~2.1.4",
       "children": [
        "IPY_MODEL_484ddd8484c24a72a8b33708945fde63",
        "IPY_MODEL_a3b39bd0936b40428b1b5fc7a2fe7794"
       ],
       "layout": "IPY_MODEL_b0bfd32cd0464c509a0b42d586f536b5"
      }
     },
     "a646fcf7a3ed4fb0a7c9025ac73e6f42": {
      "model_module": "jupyter-js-widgets",
      "model_module_version": "~2.1.4",
      "model_name": "LayoutModel",
      "state": {
       "_model_module_version": "~2.1.4",
       "_view_module_version": "~2.1.4"
      }
     },
     "a8fc2286d1ca46419e0ecdcd21180778": {
      "model_module": "jupyter-js-widgets",
      "model_module_version": "~2.1.4",
      "model_name": "LayoutModel",
      "state": {
       "_model_module_version": "~2.1.4",
       "_view_module_version": "~2.1.4"
      }
     },
     "aa2aefda8303479aae1cb925ecc177d3": {
      "model_module": "jupyter-js-widgets",
      "model_module_version": "~2.1.4",
      "model_name": "LayoutModel",
      "state": {
       "_model_module_version": "~2.1.4",
       "_view_module_version": "~2.1.4"
      }
     },
     "aa644d0ef4a44849a8f681726e203be0": {
      "model_module": "jupyter-js-widgets",
      "model_module_version": "~2.1.4",
      "model_name": "HBoxModel",
      "state": {
       "_model_module_version": "~2.1.4",
       "_view_module_version": "~2.1.4",
       "children": [
        "IPY_MODEL_8b757559e1df4b7a9f4fbe0a939a0abe",
        "IPY_MODEL_c0e026ccd3154670b413f9d2cac1a348"
       ],
       "layout": "IPY_MODEL_b0bfd32cd0464c509a0b42d586f536b5"
      }
     },
     "ab61234a96604e0ab7359288ceda7606": {
      "model_module": "jupyter-js-widgets",
      "model_module_version": "~2.1.4",
      "model_name": "LabelModel",
      "state": {
       "_model_module_version": "~2.1.4",
       "_view_module_version": "~2.1.4",
       "layout": "IPY_MODEL_2ff9eb9f31684d54851154d8c121f3ec",
       "value": "Add noise"
      }
     },
     "af649e876ca54521ae5900247c72bd8c": {
      "model_module": "jupyter-js-widgets",
      "model_module_version": "~2.1.4",
      "model_name": "HTMLModel",
      "state": {
       "_model_module_version": "~2.1.4",
       "_view_module_version": "~2.1.4",
       "layout": "IPY_MODEL_f7a278efbe254f3f88366e13af1aa260",
       "value": "To remove spikes from the data:<br/><br/>   1. Click \"Show derivative histogram\" to determine at what magnitude the spikes are present.<br/>   2. Enter a suitable threshold (lower than the lowest magnitude outlier in the histogram) in the \"Threshold\" box, which will be the magnitude from which to search. <br/>   3. Click \"Find next\" to find the first spike.<br/>   4. If desired, the width and position of the boundaries used to replace the spike can be adjusted by clicking and dragging on the displayed plot.<br/>    5. View the spike (and the replacement data that will be added) and click \"Remove spike\" in order to alter the data as shown. The tool will automatically find the next spike to replace.<br/>   6. Repeat this process for each spike throughout the dataset, until the end of the dataset is reached.<br/>   7. Click \"OK\" when finished to close the spikes removal tool.<br/><br/>Note: Various settings can be configured in the \"Advanced settings\" section. Hover the mouse over each parameter for a description of what it does.<br/>"
      }
     },
     "b0bfd32cd0464c509a0b42d586f536b5": {
      "model_module": "jupyter-js-widgets",
      "model_module_version": "~2.1.4",
      "model_name": "LayoutModel",
      "state": {
       "_model_module_version": "~2.1.4",
       "_view_module_version": "~2.1.4",
       "display": "flex",
       "flex_flow": "row",
       "justify_content": "space-between"
      }
     },
     "b142a83821fc47bca9b31cb4523b2c20": {
      "model_module": "jupyter-js-widgets",
      "model_module_version": "~2.1.4",
      "model_name": "HBoxModel",
      "state": {
       "_model_module_version": "~2.1.4",
       "_view_module_version": "~2.1.4",
       "children": [
        "IPY_MODEL_b8c28acfa63a4f77a6b2d5a1f91ddb3e",
        "IPY_MODEL_8550539c72f74af5b28ab3ba581e707c",
        "IPY_MODEL_7086d99694514edfb7ae0cca93296723",
        "IPY_MODEL_18502fdc6def4fefb83173f766c59acd"
       ],
       "layout": "IPY_MODEL_370e909d85c74531ba30baac93564f10"
      }
     },
     "b16392c301ff44eb8295b6f7d0bf5d9e": {
      "model_module": "jupyter-js-widgets",
      "model_module_version": "~2.1.4",
      "model_name": "LayoutModel",
      "state": {
       "_model_module_version": "~2.1.4",
       "_view_module_version": "~2.1.4",
       "display": "flex",
       "flex_flow": "row",
       "justify_content": "space-between"
      }
     },
     "b35918e38040481ba7e3013dc34b88b9": {
      "model_module": "jupyter-js-widgets",
      "model_module_version": "~2.1.4",
      "model_name": "LayoutModel",
      "state": {
       "_model_module_version": "~2.1.4",
       "_view_module_version": "~2.1.4"
      }
     },
     "b380a0d414b646e0b258811e557b933d": {
      "model_module": "jupyter-js-widgets",
      "model_module_version": "~2.1.4",
      "model_name": "LayoutModel",
      "state": {
       "_model_module_version": "~2.1.4",
       "_view_module_version": "~2.1.4"
      }
     },
     "b396c7b774054b4792891278048a1394": {
      "model_module": "jupyter-js-widgets",
      "model_module_version": "~2.1.4",
      "model_name": "LayoutModel",
      "state": {
       "_model_module_version": "~2.1.4",
       "_view_module_version": "~2.1.4"
      }
     },
     "b3ec3f2c201f4ef58e4af8ebaf680386": {
      "model_module": "jupyter-js-widgets",
      "model_module_version": "~2.1.4",
      "model_name": "ButtonModel",
      "state": {
       "_model_module_version": "~2.1.4",
       "_view_module_version": "~2.1.4",
       "description": "Find previous",
       "layout": "IPY_MODEL_eaeec007fb204c13a11459b5718d0c01",
       "style": "IPY_MODEL_ec056a5d9f724af99415b02379695731",
       "tooltip": "Find previous spike"
      }
     },
     "b5dcd5cd9dce40f9baa3f71887897300": {
      "model_module": "jupyter-js-widgets",
      "model_module_version": "~2.1.4",
      "model_name": "LayoutModel",
      "state": {
       "_model_module_version": "~2.1.4",
       "_view_module_version": "~2.1.4",
       "width": "15%"
      }
     },
     "b5f1c0db71454783a3cb9258f58e131d": {
      "model_module": "jupyter-js-widgets",
      "model_module_version": "~2.1.4",
      "model_name": "LayoutModel",
      "state": {
       "_model_module_version": "~2.1.4",
       "_view_module_version": "~2.1.4"
      }
     },
     "b716ee1c04bb443b9b3282fd4f706290": {
      "model_module": "jupyter-js-widgets",
      "model_module_version": "~2.1.4",
      "model_name": "LayoutModel",
      "state": {
       "_model_module_version": "~2.1.4",
       "_view_module_version": "~2.1.4"
      }
     },
     "b898ca6e4e8f4c3bbdcd161f5ee62edf": {
      "model_module": "jupyter-js-widgets",
      "model_module_version": "~2.1.4",
      "model_name": "HBoxModel",
      "state": {
       "_model_module_version": "~2.1.4",
       "_view_module_version": "~2.1.4",
       "children": [
        "IPY_MODEL_8f0342d8044b4c9fb07cbe410da3bd6c",
        "IPY_MODEL_974c154a9bab4f72b8ba0a77586c4596",
        "IPY_MODEL_4db347daf03949d28a29a7106172fb62",
        "IPY_MODEL_2c3587836a3e4c449f7b10e6b18681f0"
       ],
       "layout": "IPY_MODEL_d04d10aa54d242e488cfba1d3946ae02"
      }
     },
     "b8c28acfa63a4f77a6b2d5a1f91ddb3e": {
      "model_module": "jupyter-js-widgets",
      "model_module_version": "~2.1.4",
      "model_name": "LabelModel",
      "state": {
       "_model_module_version": "~2.1.4",
       "_view_module_version": "~2.1.4",
       "layout": "IPY_MODEL_9e0ae57289d24d1b80ff39001b893f2c",
       "value": "Decomposition component index"
      }
     },
     "be29ccf8286b424bab3c954362672edf": {
      "model_module": "jupyter-js-widgets",
      "model_module_version": "~2.1.4",
      "model_name": "LayoutModel",
      "state": {
       "_model_module_version": "~2.1.4",
       "_view_module_version": "~2.1.4"
      }
     },
     "be43b99b6d8c4d46ac6849922923e1ff": {
      "model_module": "jupyter-js-widgets",
      "model_module_version": "~2.1.4",
      "model_name": "CheckboxModel",
      "state": {
       "_model_module_version": "~2.1.4",
       "_view_module_version": "~2.1.4",
       "description": "Continous update",
       "disabled": false,
       "layout": "IPY_MODEL_b380a0d414b646e0b258811e557b933d",
       "value": true
      }
     },
     "bf3a71f115bd4311a27915da0b7919d3": {
      "model_module": "jupyter-js-widgets",
      "model_module_version": "~2.1.4",
      "model_name": "LayoutModel",
      "state": {
       "_model_module_version": "~2.1.4",
       "_view_module_version": "~2.1.4"
      }
     },
     "bf9932458dc948bfbc98554a50b862f6": {
      "model_module": "jupyter-js-widgets",
      "model_module_version": "~2.1.4",
      "model_name": "SliderStyleModel",
      "state": {
       "_model_module_version": "~2.1.4",
       "_view_module_version": "~2.1.4"
      }
     },
     "c0b50494f9a64376b2c4ba940ec1d0b7": {
      "model_module": "jupyter-js-widgets",
      "model_module_version": "~2.1.4",
      "model_name": "LayoutModel",
      "state": {
       "_model_module_version": "~2.1.4",
       "_view_module_version": "~2.1.4",
       "width": "auto"
      }
     },
     "c0e026ccd3154670b413f9d2cac1a348": {
      "model_module": "jupyter-js-widgets",
      "model_module_version": "~2.1.4",
      "model_name": "FloatTextModel",
      "state": {
       "_model_module_version": "~2.1.4",
       "_view_module_version": "~2.1.4",
       "layout": "IPY_MODEL_78035f1dd7524008b71e8bf428698af9",
       "value": 2000
      }
     },
     "c0edb3702de24e3fb6055f66872966db": {
      "model_module": "jupyter-js-widgets",
      "model_module_version": "~2.1.4",
      "model_name": "SliderStyleModel",
      "state": {
       "_model_module_version": "~2.1.4",
       "_view_module_version": "~2.1.4"
      }
     },
     "c18384214965458dacafae853146b22c": {
      "model_module": "jupyter-js-widgets",
      "model_module_version": "~2.1.4",
      "model_name": "ProgressModel",
      "state": {
       "_model_module_version": "~2.1.4",
       "_view_module_version": "~2.1.4",
       "layout": "IPY_MODEL_9bfa3a6aac254e30a58be0f78d38cf14",
       "max": 4095,
       "style": "IPY_MODEL_2aa9554ae2cf4fdb9173c00af48dbf0c"
      }
     },
     "c317faf7dc474271a71b2481b988859b": {
      "model_module": "jupyter-js-widgets",
      "model_module_version": "~2.1.4",
      "model_name": "LayoutModel",
      "state": {
       "_model_module_version": "~2.1.4",
       "_view_module_version": "~2.1.4"
      }
     },
     "c53c7e480aae423887890ad16a4709c9": {
      "model_module": "jupyter-js-widgets",
      "model_module_version": "~2.1.4",
      "model_name": "CheckboxModel",
      "state": {
       "_model_module_version": "~2.1.4",
       "_view_module_version": "~2.1.4",
       "description": "Continous update",
       "disabled": false,
       "layout": "IPY_MODEL_fe2acb1583634d71bf7cf9cc17a2a561",
       "value": true
      }
     },
     "c630f9948ec645f39aa4253a4b0c457a": {
      "model_module": "jupyter-js-widgets",
      "model_module_version": "~2.1.4",
      "model_name": "IntSliderModel",
      "state": {
       "_model_module_version": "~2.1.4",
       "_view_module_version": "~2.1.4",
       "layout": "IPY_MODEL_2b5810d4ae59499fb912add3aaaca8d1",
       "max": 10,
       "min": 1,
       "style": "IPY_MODEL_0d1f09f0ebe84894beb4fc5f26ce6045",
       "value": 3
      }
     },
     "c6783f0d0acf4664b60ba8974b280c86": {
      "model_module": "jupyter-js-widgets",
      "model_module_version": "~2.1.4",
      "model_name": "ProgressStyleModel",
      "state": {
       "_model_module_version": "~2.1.4",
       "_view_module_version": "~2.1.4"
      }
     },
     "c7340e9bf2a54235ab73f417218d3706": {
      "model_module": "jupyter-js-widgets",
      "model_module_version": "~2.1.4",
      "model_name": "ButtonModel",
      "state": {
       "_model_module_version": "~2.1.4",
       "_view_module_version": "~2.1.4",
       "description": "Remove spike",
       "layout": "IPY_MODEL_3e2b218769684cdd8e59785a0a017f5d",
       "style": "IPY_MODEL_f0104fb2831a4524a7a119b760f628fc",
       "tooltip": "Remove spike and find next one."
      }
     },
     "c7968bcbc61349c38cfc21e198501d7c": {
      "model_module": "jupyter-js-widgets",
      "model_module_version": "~2.1.4",
      "model_name": "LayoutModel",
      "state": {
       "_model_module_version": "~2.1.4",
       "_view_module_version": "~2.1.4",
       "width": "auto"
      }
     },
     "c84ff7a8df8a4b13b8bfdf0b532bb685": {
      "model_module": "jupyter-js-widgets",
      "model_module_version": "~2.1.4",
      "model_name": "LayoutModel",
      "state": {
       "_model_module_version": "~2.1.4",
       "_view_module_version": "~2.1.4",
       "width": "auto"
      }
     },
     "c87dbbf6b6dc436292d9301f9dbadcb2": {
      "model_module": "jupyter-js-widgets",
      "model_module_version": "~2.1.4",
      "model_name": "HBoxModel",
      "state": {
       "_model_module_version": "~2.1.4",
       "_view_module_version": "~2.1.4",
       "children": [
        "IPY_MODEL_233c2c4037e4418fb56e9d1c744e8bb6",
        "IPY_MODEL_c18384214965458dacafae853146b22c"
       ],
       "layout": "IPY_MODEL_b0bfd32cd0464c509a0b42d586f536b5"
      }
     },
     "c8d6d3fc95324ecc9521ef78d1176dc6": {
      "model_module": "jupyter-js-widgets",
      "model_module_version": "~2.1.4",
      "model_name": "LabelModel",
      "state": {
       "_model_module_version": "~2.1.4",
       "_view_module_version": "~2.1.4",
       "layout": "IPY_MODEL_feddd93550d442fcb27e640a6be99244",
       "value": "BSS component index"
      }
     },
     "cb2f3ea6d55042a2939423eb0c2c0841": {
      "model_module": "jupyter-js-widgets",
      "model_module_version": "~2.1.4",
      "model_name": "DropdownModel",
      "state": {
       "_model_module_version": "~2.1.4",
       "_options_labels": [
        "Linear",
        "Spline"
       ],
       "_view_module_version": "~2.1.4",
       "layout": "IPY_MODEL_417f881ee3c34b729c312515fedd3dba",
       "value": "Linear"
      }
     },
     "d0285d24ee1b4acfad638a79afbbc511": {
      "model_module": "jupyter-js-widgets",
      "model_module_version": "~2.1.4",
      "model_name": "LayoutModel",
      "state": {
       "_model_module_version": "~2.1.4",
       "_view_module_version": "~2.1.4",
       "width": "5%"
      }
     },
     "d04d10aa54d242e488cfba1d3946ae02": {
      "model_module": "jupyter-js-widgets",
      "model_module_version": "~2.1.4",
      "model_name": "LayoutModel",
      "state": {
       "_model_module_version": "~2.1.4",
       "_view_module_version": "~2.1.4"
      }
     },
     "d1316dce14794bc1be8b83dd10cbe994": {
      "model_module": "jupyter-js-widgets",
      "model_module_version": "~2.1.4",
      "model_name": "LayoutModel",
      "state": {
       "_model_module_version": "~2.1.4",
       "_view_module_version": "~2.1.4"
      }
     },
     "d476d61bc78849a9bb310454b8589d52": {
      "model_module": "jupyter-js-widgets",
      "model_module_version": "~2.1.4",
      "model_name": "HBoxModel",
      "state": {
       "_model_module_version": "~2.1.4",
       "_view_module_version": "~2.1.4",
       "children": [
        "IPY_MODEL_f2630523fd4c4db0aa0faabccaa7e9bd",
        "IPY_MODEL_30653d82e49d40959c8877b4c3be62e8",
        "IPY_MODEL_de3e18ffc0dc4b4da28ae6572310a422",
        "IPY_MODEL_9e5d63353cc249ff9a10eb0a35f05527"
       ],
       "layout": "IPY_MODEL_a646fcf7a3ed4fb0a7c9025ac73e6f42"
      }
     },
     "d7ce298ad08f4142abc718a8b255e4a4": {
      "model_module": "jupyter-js-widgets",
      "model_module_version": "~2.1.4",
      "model_name": "LayoutModel",
      "state": {
       "_model_module_version": "~2.1.4",
       "_view_module_version": "~2.1.4",
       "width": "auto"
      }
     },
     "dacbfe005a43486e853006ec8290e557": {
      "model_module": "jupyter-js-widgets",
      "model_module_version": "~2.1.4",
      "model_name": "ButtonStyleModel",
      "state": {
       "_model_module_version": "~2.1.4",
       "_view_module_version": "~2.1.4"
      }
     },
     "de055a4e681e4ee5a62a662291c95dd1": {
      "model_module": "jupyter-js-widgets",
      "model_module_version": "~2.1.4",
      "model_name": "IntTextModel",
      "state": {
       "_model_module_version": "~2.1.4",
       "_view_module_version": "~2.1.4",
       "layout": "IPY_MODEL_8ba6143c863641618c20d1faa519b9d9",
       "value": 5
      }
     },
     "de3e18ffc0dc4b4da28ae6572310a422": {
      "model_module": "jupyter-js-widgets",
      "model_module_version": "~2.1.4",
      "model_name": "FloatTextModel",
      "state": {
       "_model_module_version": "~2.1.4",
       "_view_module_version": "~2.1.4",
       "description": "value",
       "layout": "IPY_MODEL_334e25696f66498c815f1ea62ebf42ed",
       "max": 3,
       "min": 0,
       "step": 1,
       "value": 2
      }
     },
     "de95b2b3ef77402e946f0b2af4e0f447": {
      "model_module": "jupyter-js-widgets",
      "model_module_version": "~2.1.4",
      "model_name": "SliderStyleModel",
      "state": {
       "_model_module_version": "~2.1.4",
       "_view_module_version": "~2.1.4"
      }
     },
     "e151a43e74a9408ea7781745ee4d22eb": {
      "model_module": "jupyter-js-widgets",
      "model_module_version": "~2.1.4",
      "model_name": "LayoutModel",
      "state": {
       "_model_module_version": "~2.1.4",
       "_view_module_version": "~2.1.4",
       "width": "auto"
      }
     },
     "e16c35ee8c9241e38f3e2b7814b7b2e5": {
      "model_module": "jupyter-js-widgets",
      "model_module_version": "~2.1.4",
      "model_name": "VBoxModel",
      "state": {
       "_model_module_version": "~2.1.4",
       "_view_module_version": "~2.1.4",
       "children": [
        "IPY_MODEL_3ea9f72f04d94da8b7c754b7c27e7820",
        "IPY_MODEL_c53c7e480aae423887890ad16a4709c9"
       ],
       "layout": "IPY_MODEL_7d820314c4684cfdb27b71c78c7df037"
      }
     },
     "e19b9a1b2aae4845a062d98b3fdb621e": {
      "model_module": "jupyter-js-widgets",
      "model_module_version": "~2.1.4",
      "model_name": "VBoxModel",
      "state": {
       "_model_module_version": "~2.1.4",
       "_view_module_version": "~2.1.4",
       "children": [
        "IPY_MODEL_1ecee36e5a0942dca819c3c5d566e473",
        "IPY_MODEL_7adac95b9767436da62a1c1b176b770f",
        "IPY_MODEL_920242e31e2140d7941812726e9d4e43",
        "IPY_MODEL_53038570cdea454299b11bc20a81ea7e"
       ],
       "layout": "IPY_MODEL_0451e14d03c14a00b5a694bf2af6d612"
      }
     },
     "e1c3615c50ad497890c8e5796456cb8c": {
      "model_module": "jupyter-js-widgets",
      "model_module_version": "~2.1.4",
      "model_name": "LayoutModel",
      "state": {
       "_model_module_version": "~2.1.4",
       "_view_module_version": "~2.1.4",
       "width": "auto"
      }
     },
     "e1da157db4474a17b90e3f2e830f2494": {
      "model_module": "jupyter-js-widgets",
      "model_module_version": "~2.1.4",
      "model_name": "LayoutModel",
      "state": {
       "_model_module_version": "~2.1.4",
       "_view_module_version": "~2.1.4"
      }
     },
     "e24eeeb1f3764e0b8eaed2a2422168d2": {
      "model_module": "jupyter-js-widgets",
      "model_module_version": "~2.1.4",
      "model_name": "FloatTextModel",
      "state": {
       "_model_module_version": "~2.1.4",
       "_view_module_version": "~2.1.4",
       "layout": "IPY_MODEL_9a4b8f1fded049549c109f00f446f9bc",
       "value": 400
      }
     },
     "e28543e0b2734fa2b8ed0b89e4d64850": {
      "model_module": "jupyter-js-widgets",
      "model_module_version": "~2.1.4",
      "model_name": "LayoutModel",
      "state": {
       "_model_module_version": "~2.1.4",
       "_view_module_version": "~2.1.4",
       "width": "5%"
      }
     },
     "e28b61d761d446b49ebfbc427b814863": {
      "model_module": "jupyter-js-widgets",
      "model_module_version": "~2.1.4",
      "model_name": "LayoutModel",
      "state": {
       "_model_module_version": "~2.1.4",
       "_view_module_version": "~2.1.4",
       "width": "auto"
      }
     },
     "e3a74c032c354a15b80f59ef23600810": {
      "model_module": "jupyter-js-widgets",
      "model_module_version": "~2.1.4",
      "model_name": "LayoutModel",
      "state": {
       "_model_module_version": "~2.1.4",
       "_view_module_version": "~2.1.4"
      }
     },
     "e5064169e16145b1b404d83c8d27e206": {
      "model_module": "jupyter-js-widgets",
      "model_module_version": "~2.1.4",
      "model_name": "LayoutModel",
      "state": {
       "_model_module_version": "~2.1.4",
       "_view_module_version": "~2.1.4"
      }
     },
     "e579e7338f384c5b82a8d04111b007be": {
      "model_module": "jupyter-js-widgets",
      "model_module_version": "~2.1.4",
      "model_name": "LabelModel",
      "state": {
       "_model_module_version": "~2.1.4",
       "_view_module_version": "~2.1.4",
       "layout": "IPY_MODEL_3be1359b54e1489e9e8d007526953d07",
       "value": "Interpolator kind"
      }
     },
     "e6fee2d3774b49f9b140e28bcc829848": {
      "model_module": "jupyter-js-widgets",
      "model_module_version": "~2.1.4",
      "model_name": "VBoxModel",
      "state": {
       "_model_module_version": "~2.1.4",
       "_view_module_version": "~2.1.4",
       "children": [
        "IPY_MODEL_04f22b71da2c413b8d232ad38755f4c7",
        "IPY_MODEL_8600bae5d57d4b4991f87e6f374fde74"
       ],
       "layout": "IPY_MODEL_e3a74c032c354a15b80f59ef23600810"
      }
     },
     "e77c61643a674c17abc4329f029692ea": {
      "model_module": "jupyter-js-widgets",
      "model_module_version": "~2.1.4",
      "model_name": "LabelModel",
      "state": {
       "_model_module_version": "~2.1.4",
       "_view_module_version": "~2.1.4",
       "layout": "IPY_MODEL_e1c3615c50ad497890c8e5796456cb8c",
       "value": "Interpolator kind"
      }
     },
     "e7af5c5b23d74b5fb425a66b29563bbd": {
      "model_module": "jupyter-js-widgets",
      "model_module_version": "~2.1.4",
      "model_name": "ButtonStyleModel",
      "state": {
       "_model_module_version": "~2.1.4",
       "_view_module_version": "~2.1.4"
      }
     },
     "e7e58823f51343f795b5aae338541298": {
      "model_module": "jupyter-js-widgets",
      "model_module_version": "~2.1.4",
      "model_name": "LayoutModel",
      "state": {
       "_model_module_version": "~2.1.4",
       "_view_module_version": "~2.1.4",
       "display": "none"
      }
     },
     "e87ad6fe4cbc48dd97a4867c697854c3": {
      "model_module": "jupyter-js-widgets",
      "model_module_version": "~2.1.4",
      "model_name": "LayoutModel",
      "state": {
       "_model_module_version": "~2.1.4",
       "_view_module_version": "~2.1.4"
      }
     },
     "eab894d92c914c0c801a813736340b8a": {
      "model_module": "jupyter-js-widgets",
      "model_module_version": "~2.1.4",
      "model_name": "LayoutModel",
      "state": {
       "_model_module_version": "~2.1.4",
       "_view_module_version": "~2.1.4"
      }
     },
     "eaeec007fb204c13a11459b5718d0c01": {
      "model_module": "jupyter-js-widgets",
      "model_module_version": "~2.1.4",
      "model_name": "LayoutModel",
      "state": {
       "_model_module_version": "~2.1.4",
       "_view_module_version": "~2.1.4"
      }
     },
     "ec056a5d9f724af99415b02379695731": {
      "model_module": "jupyter-js-widgets",
      "model_module_version": "~2.1.4",
      "model_name": "ButtonStyleModel",
      "state": {
       "_model_module_version": "~2.1.4",
       "_view_module_version": "~2.1.4"
      }
     },
     "eea36889d23b4b9894c830340dd10f1d": {
      "model_module": "jupyter-js-widgets",
      "model_module_version": "~2.1.4",
      "model_name": "LabelModel",
      "state": {
       "_model_module_version": "~2.1.4",
       "_view_module_version": "~2.1.4",
       "layout": "IPY_MODEL_0be57797fd4f4039adcf8e204f134efe",
       "value": "Spline order"
      }
     },
     "eee20bacb82d47348305ed3d80e260b7": {
      "model_module": "jupyter-js-widgets",
      "model_module_version": "~2.1.4",
      "model_name": "LayoutModel",
      "state": {
       "_model_module_version": "~2.1.4",
       "_view_module_version": "~2.1.4"
      }
     },
     "f0104fb2831a4524a7a119b760f628fc": {
      "model_module": "jupyter-js-widgets",
      "model_module_version": "~2.1.4",
      "model_name": "ButtonStyleModel",
      "state": {
       "_model_module_version": "~2.1.4",
       "_view_module_version": "~2.1.4"
      }
     },
     "f2630523fd4c4db0aa0faabccaa7e9bd": {
      "model_module": "jupyter-js-widgets",
      "model_module_version": "~2.1.4",
      "model_name": "LabelModel",
      "state": {
       "_model_module_version": "~2.1.4",
       "_view_module_version": "~2.1.4",
       "layout": "IPY_MODEL_b5dcd5cd9dce40f9baa3f71887897300",
       "value": "BSS component index"
      }
     },
     "f7a278efbe254f3f88366e13af1aa260": {
      "model_module": "jupyter-js-widgets",
      "model_module_version": "~2.1.4",
      "model_name": "LayoutModel",
      "state": {
       "_model_module_version": "~2.1.4",
       "_view_module_version": "~2.1.4"
      }
     },
     "fe2acb1583634d71bf7cf9cc17a2a561": {
      "model_module": "jupyter-js-widgets",
      "model_module_version": "~2.1.4",
      "model_name": "LayoutModel",
      "state": {
       "_model_module_version": "~2.1.4",
       "_view_module_version": "~2.1.4"
      }
     },
     "feddd93550d442fcb27e640a6be99244": {
      "model_module": "jupyter-js-widgets",
      "model_module_version": "~2.1.4",
      "model_name": "LayoutModel",
      "state": {
       "_model_module_version": "~2.1.4",
       "_view_module_version": "~2.1.4",
       "width": "15%"
      }
     },
     "ff1aec3b09514b68b027220fb3fb7afc": {
      "model_module": "jupyter-js-widgets",
      "model_module_version": "~2.1.4",
      "model_name": "LayoutModel",
      "state": {
       "_model_module_version": "~2.1.4",
       "_view_module_version": "~2.1.4"
      }
     },
     "ff8f4d9bc1fa426b816ee84e12409acc": {
      "model_module": "jupyter-js-widgets",
      "model_module_version": "~2.1.4",
      "model_name": "HBoxModel",
      "state": {
       "_model_module_version": "~2.1.4",
       "_view_module_version": "~2.1.4",
       "children": [
        "IPY_MODEL_e579e7338f384c5b82a8d04111b007be",
        "IPY_MODEL_cb2f3ea6d55042a2939423eb0c2c0841"
       ],
       "layout": "IPY_MODEL_b0bfd32cd0464c509a0b42d586f536b5"
      }
     }
    },
    "version_major": 1,
    "version_minor": 0
   }
  }
 },
 "nbformat": 4,
 "nbformat_minor": 4
}
