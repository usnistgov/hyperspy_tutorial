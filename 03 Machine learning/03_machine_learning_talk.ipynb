{
 "cells": [
  {
   "cell_type": "markdown",
   "metadata": {
    "slideshow": {
     "slide_type": "slide"
    }
   },
   "source": [
    "# Welcome to the 2022 M&M Short Course X-16\n",
    "## Data Analysis in Materials Science with\n",
    "\n",
    "<br/>\n",
    "<br/>\n",
    "<img style='margin:auto;' src='img/hyperspy_banner.png'/>\n",
    "<br/>\n",
    "\n",
    "### Presented by (a selection of) the HyperSpy developers:\n",
    "- Carter Francis\n",
    "- Joshua Taillon"
   ]
  },
  {
   "cell_type": "markdown",
   "metadata": {
    "slideshow": {
     "slide_type": "slide"
    }
   },
   "source": [
    "# Session 3: <br/>An Introduction to Machine Learning in Electron Microscopy\n",
    "\n",
    "<br/>\n",
    "\n",
    "## *Electron Microscopy in the age of \"Big Data\"*\n",
    "\n",
    "### <br/>\n",
    "### Josh Taillon\n",
    "#### *July 31, 2022*"
   ]
  },
  {
   "cell_type": "markdown",
   "metadata": {
    "slideshow": {
     "slide_type": "slide"
    }
   },
   "source": [
    "# NIST Disclaimer\n",
    "\n",
    "*Certain commercial equipment, instruments, materials, vendors, and\n",
    "software are identified in this talk for example purposes and to foster\n",
    "understanding. Such identification does not imply recommendation or\n",
    "endorsement by the National Institute of Standards and Technology, nor\n",
    "does it imply that the materials or equipment identified are necessarily the\n",
    "best available for the purpose.*"
   ]
  },
  {
   "cell_type": "markdown",
   "metadata": {
    "slideshow": {
     "slide_type": "subslide"
    }
   },
   "source": [
    "## What types of machine learning are we talking about?"
   ]
  },
  {
   "cell_type": "markdown",
   "metadata": {},
   "source": [
    "- For the most part, <em style='color:#2387de; font-weight:bold;'>unsupervised</em> learning:\n",
    "    - <em>i.e.</em> no training or validation of models\n",
    "    - Goal is to find previously unknown patterns in data set without pre-existing label\n",
    "    - Many algorithms for this are built-in with HyperSpy"
   ]
  },
  {
   "cell_type": "markdown",
   "metadata": {
    "slideshow": {
     "slide_type": "fragment"
    }
   },
   "source": [
    "- Distinct from supervised learning, reinforcement learning, or deep learning\n",
    "    - Not covered here &mdash; not included in HyperSpy directly\n",
    "    - Using <code>scikit-learn</code>, TensorFlow, pyTorch, etc."
   ]
  },
  {
   "cell_type": "markdown",
   "metadata": {
    "slideshow": {
     "slide_type": "subslide"
    }
   },
   "source": [
    "## What can unsupervised learning do for you?"
   ]
  },
  {
   "cell_type": "markdown",
   "metadata": {
    "slideshow": {
     "slide_type": ""
    }
   },
   "source": [
    "- The primary use for unsupervised learning is in *signal separation*\n",
    "    - Sometimes called <i>hyperspectral unmixing</i> as well"
   ]
  },
  {
   "cell_type": "markdown",
   "metadata": {
    "slideshow": {
     "slide_type": "fragment"
    }
   },
   "source": [
    "- Ideally, we can automatically determine what signals are present in the data, and where they are located\n",
    "    - This is the basis of most vendors' <i>phase mapping</i> offerings"
   ]
  },
  {
   "cell_type": "markdown",
   "metadata": {
    "slideshow": {
     "slide_type": "fragment"
    }
   },
   "source": [
    "- Can also be used for *dimensionality reduction* and denoising:\n",
    "    - Picking out only the \"interesting\" features and discarding the rest of the noise"
   ]
  },
  {
   "cell_type": "markdown",
   "metadata": {
    "slideshow": {
     "slide_type": "subslide"
    }
   },
   "source": [
    "# What techniques is this used on?"
   ]
  },
  {
   "cell_type": "markdown",
   "metadata": {
    "slideshow": {
     "slide_type": ""
    }
   },
   "source": [
    "- Most typically in the EM fields, signal separation is performed on raster-based <em style='color:#2387de; font-weight:bold;'>hyperspectral mapping</em> methods:\n",
    "    - STEM-EELS and STEM-EDS\n",
    "    - SEM-EDS\n",
    "    - (μ-)XRF mapping\n",
    "    - FTIR mapping\n",
    "    - Cathodoluminescence mapping"
   ]
  },
  {
   "cell_type": "markdown",
   "metadata": {
    "slideshow": {
     "slide_type": "fragment"
    }
   },
   "source": [
    "- Otherwise, these techniques can be used on any type of data:\n",
    "    - Images, time series, etc."
   ]
  },
  {
   "cell_type": "markdown",
   "metadata": {
    "slideshow": {
     "slide_type": "slide"
    }
   },
   "source": [
    "## What *is* hyperspectral unmixing?"
   ]
  },
  {
   "cell_type": "markdown",
   "metadata": {},
   "source": [
    "- Start with some hyperspectral data:"
   ]
  },
  {
   "cell_type": "markdown",
   "metadata": {},
   "source": [
    "<center><img src=\"img/gatan_hs.png\" alt=\"\" class=\"plain\" width=60% style=\"\"></center>"
   ]
  },
  {
   "cell_type": "markdown",
   "metadata": {},
   "source": [
    "<div class='fig-caption'>Image courtesy of Gatan, Inc.</div>"
   ]
  },
  {
   "cell_type": "markdown",
   "metadata": {
    "slideshow": {
     "slide_type": "subslide"
    }
   },
   "source": [
    "## What *is* hyperspectral unmixing?"
   ]
  },
  {
   "cell_type": "markdown",
   "metadata": {},
   "source": [
    "<center><img src=\"img/what_is_unmixing_1.svg\"/></center>"
   ]
  },
  {
   "cell_type": "markdown",
   "metadata": {
    "slideshow": {
     "slide_type": "fragment"
    }
   },
   "source": [
    "<center><img style=\"height:2em\" src=\"img/unmixing_eq_1.svg\"/> </center>"
   ]
  },
  {
   "cell_type": "markdown",
   "metadata": {
    "slideshow": {
     "slide_type": "fragment"
    }
   },
   "source": [
    "<center><img style=\"height:2em\" src=\"img/unmixing_eq_2.svg\"/> </center>"
   ]
  },
  {
   "cell_type": "markdown",
   "metadata": {
    "slideshow": {
     "slide_type": "subslide"
    }
   },
   "source": [
    "## What *is* hyperspectral unmixing?"
   ]
  },
  {
   "cell_type": "markdown",
   "metadata": {},
   "source": [
    "<center><img src=\"img/what_is_unmixing_2.svg\"/></center>"
   ]
  },
  {
   "cell_type": "markdown",
   "metadata": {},
   "source": [
    "<div style=\"max-height:25%;text-align:center;margin-top:1%;width:100%;\n",
    "              color:#4a4a4a;font-size:1.5em;\">\n",
    "      A linear algebra problem!</i></div>"
   ]
  },
  {
   "cell_type": "markdown",
   "metadata": {
    "slideshow": {
     "slide_type": "slide"
    }
   },
   "source": [
    "## What do the vendors offer?\n",
    "\n",
    "- If you've used a modern EDS software package, you probably\n",
    "  have done hyperspectral unmixing (they usually call it *phase mapping*)..."
   ]
  },
  {
   "cell_type": "markdown",
   "metadata": {
    "slideshow": {
     "slide_type": ""
    }
   },
   "source": [
    "<center><div class=\"two-cols\">\n",
    "<div class=\"col\">\n",
    "    <center><img style=\"width:70%;background:none;\" src=\"img/eds_oxford.png\"/></center>\n",
    "  <div style=\"margin-auto; text-align:center; width:90%;\n",
    "              color:#4a4a4a;font-size:0.8em;\">\n",
    "    Oxford &mdash; <i>AutoPhaseMap</i>\n",
    "  </div>\n",
    "</div>\n",
    "<div class=\"col\" style='margin-top:-2%'>\n",
    "    <center><img style=\"height:45%;background:none;\"  src=\"img/eds_team.png\"/></center>\n",
    "  <div style=\"max-height:25%;margin-auto; text-align:center; width:90%;\n",
    "              color:#4a4a4a;font-size:0.8em;\">\n",
    "      EDAX &mdash; <i>Smart Phase Mapping</i>\n",
    "  </div>\n",
    "</div>\n",
    "</div></center>"
   ]
  },
  {
   "cell_type": "markdown",
   "metadata": {
    "slideshow": {
     "slide_type": "subslide"
    }
   },
   "source": [
    "## What do the vendors offer?\n",
    "\n",
    "- If you've used a modern EDS software package, you probably\n",
    "  have done hyperspectral unmixing (they usually call it *phase mapping*)..."
   ]
  },
  {
   "cell_type": "markdown",
   "metadata": {
    "slideshow": {
     "slide_type": ""
    }
   },
   "source": [
    "<center><div class=\"two-cols\">\n",
    "<div class=\"col\">\n",
    "    <center><img style=\"width:70%;background:none;\" src=\"img/eds_bruker.png\"/></center>\n",
    "  <div style=\"margin-auto; text-align:center; width:90%;\n",
    "              color:#4a4a4a;font-size:0.8em;\">\n",
    "    Bruker &mdash; <i>AutoPhase</i>\n",
    "  </div>\n",
    "</div>\n",
    "<div class=\"col\">\n",
    "    <center><img style=\"height:45%;margin-top:6%;background:none;\"  src=\"img/eds_thermo.png\"/></center>\n",
    "  <div style=\"max-height:25%;margin-auto; text-align:center; width:90%;\n",
    "              color:#4a4a4a;font-size:0.8em;\">\n",
    "      Thermo Fisher &mdash; <i>COMPASS</i>\n",
    "  </div>\n",
    "</div>\n",
    "</div></center>"
   ]
  },
  {
   "cell_type": "markdown",
   "metadata": {
    "slideshow": {
     "slide_type": "subslide"
    }
   },
   "source": [
    "## Strengths/challengs with <em style=\"color:#2387de\">vendor</em> options?"
   ]
  },
  {
   "cell_type": "markdown",
   "metadata": {
    "slideshow": {
     "slide_type": ""
    }
   },
   "source": [
    "<div class=\"two-cols\"  style=\"width:100%; top:0%;\">\n",
    "<div class=\"col pro-con\" style=\"width:45%\">\n",
    "  <div style=\"text-align:center; color:#00b050;\n",
    "              font-weight:bold; font-size:1.5em;\n",
    "              margin-left:-20%;\">\n",
    "    The Good\n",
    "  </div>\n",
    "  <ul style=\"margin-right:5%;margin-top:5%\">\n",
    "    <li>Simple point-and-click operation</li>\n",
    "    <li>Tight integration</li>\n",
    "    <ul>\n",
    "      <li>\n",
    "        Collection, visualization, reporting, etc.\n",
    "      </li>\n",
    "    </ul>\n",
    "    <li>\n",
    "      Usually runs in real-time\n",
    "    </li>\n",
    "    <li>\n",
    "        Integration with other data sources (<em>e.g.</em> EBSD)\n",
    "    </li>\n",
    "    <li>\n",
    "      Generally \"just works\"\n",
    "    </li>\n",
    "  </ul>\n",
    "</div>\n",
    "<div class=\"fragment col pro-con\" style=\"width:40%;margin-right:7%;\">\n",
    "  <div style=\"text-align:center; color:#c00000;\n",
    "              font-weight:bold; font-size:1.5em;\n",
    "              margin-left:-20%;\">\n",
    "    The Not So Good\n",
    "  </div>\n",
    "    <ul style=\"margin-left:5%;margin-top:5%\">\n",
    "    <li>Extremely \"black box\"</li>\n",
    "    <li>Reproducibility (!)</li>\n",
    "    <ul>\n",
    "      <li>\n",
    "        Configurable options with little understanding of why\n",
    "      </li>\n",
    "    </ul>\n",
    "    <li>\n",
    "      What are the uncertainties?\n",
    "    </li>\n",
    "    <li>\n",
    "      Tied to software ($)\n",
    "    </li>\n",
    "    <li>\n",
    "      Choice of vendor should not change the scientific result\n",
    "    </li>\n",
    "  </ul>\n",
    "</div>\n",
    "</div>"
   ]
  },
  {
   "cell_type": "markdown",
   "metadata": {
    "slideshow": {
     "slide_type": "subslide"
    }
   },
   "source": [
    "## Strengths/challengs with <em style=\"color:#2387de\">open-source</em> options?"
   ]
  },
  {
   "cell_type": "markdown",
   "metadata": {
    "slideshow": {
     "slide_type": ""
    }
   },
   "source": [
    "<div class=\"two-cols\"  style=\"width:100%; top:0%;\">\n",
    "<div class=\"col pro-con\" style=\"width:45%\">\n",
    "  <div style=\"text-align:center; color:#c00000;\n",
    "              font-weight:bold; font-size:1.5em;\n",
    "              margin-left:-20%;\">\n",
    "    The Not So Good\n",
    "  </div>\n",
    "  <ul style=\"margin-right:5%;margin-top:5%\">\n",
    "    <li>Usually not point-and-click</li>\n",
    "    <li>(Can be) difficult to access raw data from the vendor software</li>\n",
    "    <li>Generally only post-processing</li>\n",
    "    <li>Learning curve can be substantial</li>\n",
    "    <li>Can take a lot more fiddling</li>\n",
    "  </ul>\n",
    "</div>\n",
    "<div class=\"fragment col pro-con\" style=\"width:40%;margin-right:7%;\">\n",
    "  <div style=\"text-align:center; color:#00b050;\n",
    "              font-weight:bold; font-size:1.5em;\n",
    "              margin-left:-20%;\">\n",
    "    The Good\n",
    "  </div>\n",
    "    <ul style=\"margin-left:5%;margin-top:5%\">\n",
    "    <li>You know what’s happening</li>\n",
    "    <li>Reproducibility (!)</li>\n",
    "    <ul>\n",
    "      <li>Anyone can recreate your analysis (including you!)</li>\n",
    "    </ul>\n",
    "    <li>Uncertainty can be understood</li>\n",
    "    <li>Usually free</li>\n",
    "    <li>Results do not depend on vendor</li>\n",
    "    </ul>\n",
    "</div>\n",
    "</div>"
   ]
  },
  {
   "cell_type": "markdown",
   "metadata": {
    "slideshow": {
     "slide_type": "slide"
    }
   },
   "source": [
    "## Open-source \"phase mapping\""
   ]
  },
  {
   "cell_type": "markdown",
   "metadata": {},
   "source": [
    "- Many algorithms exist to solve:&nbsp;&nbsp; $\\mathbf{D}_{\\left(x,y\\right),E}=\\mathbf{W}_{\\left(x,y\\right)} \\times \\mathbf{S}_E$\n",
    "  - This is a highly underdetermined problem, with an infinite number of solutions\n",
    "  - Assumptions implicit in each algorithm affect their suitability for EDS, EELS, etc."
   ]
  },
  {
   "cell_type": "markdown",
   "metadata": {
    "slideshow": {
     "slide_type": "fragment"
    }
   },
   "source": [
    "- Primary methods (built into &nbsp;<img src='img/hyperspy.svg' width=40px style='display:inline-block;'/> HyperSpy ):\n",
    "  - Principal component analysis ([PCA](https://en.wikipedia.org/wiki/Principal_component_analysis)) &mdash; finds non-physical spectra that describe the most variance in the datacube\n",
    "  - Independent component analysis ([ICA](https://en.wikipedia.org/wiki/Independent_component_analysis)) &mdash; maximizes independence between spectral results\n",
    "  - Non-negative matrix factorization ([NMF](https://en.wikipedia.org/wiki/Non-negative_matrix_factorization)) &mdash; enforces positivity in spectral components and weights"
   ]
  },
  {
   "cell_type": "markdown",
   "metadata": {
    "slideshow": {
     "slide_type": "subslide"
    }
   },
   "source": [
    "## Principle component analysis + blind source separation"
   ]
  },
  {
   "cell_type": "markdown",
   "metadata": {},
   "source": [
    "- PCA will find the spectra that describe the maximum amount of variance within the data set\n",
    "    - These principle components (PCs) will contain the most \"information\" &mdash; but not information relevant to a microscopist\n",
    "    - The results will look like vaguely spectral, but almost guaranteed to be non-physical"
   ]
  },
  {
   "cell_type": "markdown",
   "metadata": {
    "slideshow": {
     "slide_type": "fragment"
    }
   },
   "source": [
    "- [Blind source separation](https://en.wikipedia.org/wiki/Signal_separation) often gives more interpretable results:\n",
    "  - Independent component analysis (ICA):\n",
    "      - Operates on the PCs to maximize independence between spectral results\n",
    "  - Non-negative matrix factorization (NMF):\n",
    "      - Decompose the matrix with constraints that match physical expectations"
   ]
  },
  {
   "cell_type": "markdown",
   "metadata": {
    "slideshow": {
     "slide_type": "slide"
    }
   },
   "source": [
    "## A simple example: "
   ]
  },
  {
   "cell_type": "markdown",
   "metadata": {},
   "source": [
    "- Signal separation enabling EDS tomography"
   ]
  },
  {
   "cell_type": "markdown",
   "metadata": {},
   "source": [
    "- Atom probe specimen fabricated from [NIST SRM 2135c](https://www-s.nist.gov/srmors/certificates/2135c.pdf)\n",
    "    - Ni/Cr thin film depth profile standard (on Si substrate)\n",
    "    - Layer thicknesses are approximately 56 nm\n",
    "    - Data collected by [Andrew Herzing](https://www.nist.gov/people/andrew-herzing) (NIST)\n"
   ]
  },
  {
   "cell_type": "markdown",
   "metadata": {},
   "source": [
    "- Data collected from 0 to 360 degrees tilt in increments of 5 degrees (73 spectrum images)\n",
    "  - Dataset is $\\left(x, y, \\theta, E\\right)$ : $\\left(165, 124, 73, 900\\right)$ &mdash; 12.2GB"
   ]
  },
  {
   "cell_type": "markdown",
   "metadata": {},
   "source": [
    "- HAADF and XEDS SI data collected simultaneously"
   ]
  },
  {
   "cell_type": "markdown",
   "metadata": {
    "slideshow": {
     "slide_type": "subslide"
    }
   },
   "source": [
    "## A simple example: "
   ]
  },
  {
   "cell_type": "markdown",
   "metadata": {},
   "source": [
    "<center><img width=80% src=\"img/andy_eds_spectrum.svg\"/></center>"
   ]
  },
  {
   "cell_type": "markdown",
   "metadata": {},
   "source": [
    "<div class=\"fig-caption-center\">\n",
    "Single pixel counts in the single digits<br/>\n",
    "Cr and Ni visible, but noisy</div>"
   ]
  },
  {
   "cell_type": "markdown",
   "metadata": {
    "slideshow": {
     "slide_type": "subslide"
    }
   },
   "source": [
    "## A simple example: "
   ]
  },
  {
   "cell_type": "markdown",
   "metadata": {},
   "source": [
    "<center><img width=80% style=\"margin-top:5%\" src=\"img/andy_eds_intensities.svg\"/></center>"
   ]
  },
  {
   "cell_type": "markdown",
   "metadata": {},
   "source": [
    "<div class=\"fig-caption-center\" style='font-size:1.5em;margin-top:5%'>\n",
    "Single pixel counts in the single digits<br/>\n",
    "Cr and Ni visible, but noisy</div>"
   ]
  },
  {
   "cell_type": "markdown",
   "metadata": {
    "slideshow": {
     "slide_type": "subslide"
    }
   },
   "source": [
    "## How many components to choose?"
   ]
  },
  {
   "cell_type": "markdown",
   "metadata": {},
   "source": [
    "<div class='two-cols pro-con' style='font-size:1.3em;top:0'>\n",
    "\n",
    "<div class='col' style='max-width:45%;margin-top:6%;'>\n",
    "<ul style='line-height:150%;'>\n",
    "    <li>PCA orders components by \"described variance\"</li>\n",
    "    <li><em>a priori</em> we know there should be three components</li>\n",
    "    <li>Three important components confirmed</li>\n",
    "</ul>\n",
    "</div>\n",
    "\n",
    "<div class='col'>\n",
    "    <img width=100% src='img/andy_scree_plot.svg'/>\n",
    "</div>\n",
    "</div>"
   ]
  },
  {
   "cell_type": "markdown",
   "metadata": {
    "slideshow": {
     "slide_type": "subslide"
    }
   },
   "source": [
    "## Result of PCA - Factors and Loadings"
   ]
  },
  {
   "cell_type": "markdown",
   "metadata": {},
   "source": [
    "<center><img style=\"width:70%;\" class=\"plain\" src=\"img/andy_PCA.svg\"/></center>\n",
    "<div class=\"fig-caption-center\" style=\"height:4em; bottom:-3%;\">\n",
    "Signals are non-physical; Elements mixed between factors<br/>\n",
    "Drastically enhances S/N ratio in \"loading\" maps</div>"
   ]
  },
  {
   "cell_type": "markdown",
   "metadata": {
    "slideshow": {
     "slide_type": "subslide"
    }
   },
   "source": [
    "## Result of PCA - Denoising"
   ]
  },
  {
   "cell_type": "markdown",
   "metadata": {},
   "source": [
    "<center><img style=\"width:65%;margin-top:5%;\" class=\"plain\" src=\"img/andy_eds_intensities_raw_vs_PCA.svg\"/></center>\n",
    "\n",
    "<div class=\"fig-caption-center\" style=\"height:4em; bottom:-3%;\">\n",
    "Line intensities extracted from model with top 3 PCA elements;<br/>\n",
    "Drastically enhances S/N ratio in line intensity maps</div>"
   ]
  },
  {
   "cell_type": "markdown",
   "metadata": {
    "slideshow": {
     "slide_type": "subslide"
    }
   },
   "source": [
    "## Result of PCA + BSS"
   ]
  },
  {
   "cell_type": "markdown",
   "metadata": {},
   "source": [
    "<center><img style=\"width:70%;\" class=\"plain\" src=\"img/andy_BSS.svg\"/></center>\n",
    "<div class=\"fig-caption-center\" style=\"height:4em; bottom:-3%;\">\n",
    "One component for each element (phase)<br/>\n",
    "Much more interpretable results</div>"
   ]
  },
  {
   "cell_type": "markdown",
   "metadata": {
    "slideshow": {
     "slide_type": "subslide"
    }
   },
   "source": [
    "## Result of NMF"
   ]
  },
  {
   "cell_type": "markdown",
   "metadata": {},
   "source": [
    "<center><img style=\"width:70%;\" class=\"plain\" src=\"img/andy_NMF.svg\"/></center>\n",
    "<div class=\"fig-caption-center\" style=\"height:4em; bottom:-3%;\">\n",
    "One component for each element (phase)<br/>\n",
    "Drastically enhances S/N ratio in \"loading\" maps</div>"
   ]
  },
  {
   "cell_type": "markdown",
   "metadata": {
    "slideshow": {
     "slide_type": "slide"
    }
   },
   "source": [
    "<center><img style='display:inline-block;' src='img/hyperspy.svg' width=200/> </center>\n",
    "\n",
    "# <center>Thank you!</center>\n",
    "\n",
    "<div style='text-align:center;margin:auto;'>Onto the demo...<br/>Any questions?</div>\n",
    "\n",
    "<div style='text-align:center;margin:auto;margin-top:15px;'><a href=\"mailto:joshua.taillon@nist.gov\">joshua.taillon@nist.gov</a></div>"
   ]
  }
 ],
 "metadata": {
  "celltoolbar": "Slideshow",
  "kernelspec": {
   "display_name": "Python 3 (ipykernel)",
   "language": "python",
   "name": "python3"
  },
  "language_info": {
   "codemirror_mode": {
    "name": "ipython",
    "version": 3
   },
   "file_extension": ".py",
   "mimetype": "text/x-python",
   "name": "python",
   "nbconvert_exporter": "python",
   "pygments_lexer": "ipython3",
   "version": "3.9.13"
  },
  "rise": {
   "autolaunch": false,
   "backimage": "img/nist_mml_background.png",
   "footer": "<img src=\"img/nist_mml_logo.svg\">",
   "header": "",
   "progress": true,
   "scroll": true,
   "transition": "fade",
   "transitionSpeed": "slow"
  }
 },
 "nbformat": 4,
 "nbformat_minor": 2
}
