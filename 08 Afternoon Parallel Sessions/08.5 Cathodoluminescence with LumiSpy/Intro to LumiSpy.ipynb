{
 "cells": [
  {
   "cell_type": "markdown",
   "metadata": {},
   "source": [
    "# 01: General `lumispy` workflow\n",
    "\n",
    "## Energy conversion and model fitting\n",
    "\n",
    "This notebook shows:\n",
    "\n",
    "- Plotting cathodoluminescence data in different ways (and interactively)\n",
    "- Converting wavelength signal axis to energy signal axis\n",
    "(**Required versions: hyperspy>=1.7.0 and lumispy>=0.2**)\n",
    "- Gaussian fitting"
   ]
  },
  {
   "cell_type": "markdown",
   "metadata": {},
   "source": [
    "**Note for M&M 2022**: This notebook was copied from a the LumiSpy demo repostitory and only minor changes were made to ensure it runs with the current Hyperspy-bundle installation. The original copy can be found at https://github.com/LumiSpy/lumispy-demos\n",
    "\n",
    "- Joshua Taillon, July 25, 2022"
   ]
  },
  {
   "cell_type": "markdown",
   "metadata": {},
   "source": [
    "Import packages:"
   ]
  },
  {
   "cell_type": "code",
   "execution_count": null,
   "metadata": {},
   "outputs": [],
   "source": [
    "%matplotlib notebook\n",
    "# Use '%matplotlib widget' in JupterLab and '%matplotlib notebook' in JupyterNotebook for interactive inline functionality (e.g. on binder)\n",
    "#For pop-up window plots on your local computer, use '%matplotlib tk' or '%matplotlib qt' instead\n",
    "import lumispy as lum\n",
    "import hyperspy.api as hs\n",
    "import os\n",
    "import matplotlib.pyplot as plt"
   ]
  },
  {
   "cell_type": "markdown",
   "metadata": {},
   "source": [
    "## Loading the pre-processed CL-SEM file"
   ]
  },
  {
   "cell_type": "markdown",
   "metadata": {},
   "source": [
    "Load the `.hspy` file, which has already been pre-processed (background subtracted, spike removed and spectral corrected). See microscope-specific tutorials on how to do that.\n",
    "\n",
    "*You can also leave the path empty. A pop-up window will appear to select the `.hspy` file from the browser.*"
   ]
  },
  {
   "cell_type": "code",
   "execution_count": null,
   "metadata": {},
   "outputs": [],
   "source": [
    "# Load file\n",
    "path = os.path.relpath(\"demo-files/01/01_demo.hspy\")\n",
    "cl_sem = hs.load(____, signal_type='____')\n",
    "\n",
    "# examine the CL-SEM signal (unique to LumiSpy)\n",
    "print(____)"
   ]
  },
  {
   "cell_type": "code",
   "execution_count": null,
   "metadata": {},
   "outputs": [],
   "source": [
    "# examine the CL-SEM signal metadata\n",
    "cl_sem.____"
   ]
  },
  {
   "cell_type": "markdown",
   "metadata": {},
   "source": [
    "## Plotting data\n",
    "\n",
    "Plot the hyperspectral data:"
   ]
  },
  {
   "cell_type": "code",
   "execution_count": null,
   "metadata": {
    "jupyter": {
     "outputs_hidden": false
    },
    "pycharm": {
     "name": "#%%\n"
    }
   },
   "outputs": [],
   "source": [
    "# plot the hyperspectral CL-SEM data\n",
    "cl_sem.____()"
   ]
  },
  {
   "cell_type": "markdown",
   "metadata": {},
   "source": [
    "Plot the average CL spectrum:"
   ]
  },
  {
   "cell_type": "code",
   "execution_count": null,
   "metadata": {},
   "outputs": [],
   "source": [
    "# Plot the mean CL spectrum\n",
    "cl_sem.____().____()"
   ]
  },
  {
   "cell_type": "markdown",
   "metadata": {},
   "source": [
    "### Chromatic imaging:\n",
    "\n",
    "Plot the panchromatic image:"
   ]
  },
  {
   "cell_type": "code",
   "execution_count": null,
   "metadata": {
    "pycharm": {
     "name": "#%%\n"
    }
   },
   "outputs": [],
   "source": [
    "# plot a panchromatic image\n",
    "cl_sem.____.____().____(cmap='viridis')"
   ]
  },
  {
   "cell_type": "markdown",
   "metadata": {
    "pycharm": {
     "name": "#%% md\n"
    }
   },
   "source": [
    "Get the colour filtered panchromatic images.\n",
    "Select the energy region to plot as coloured image interactively."
   ]
  },
  {
   "cell_type": "code",
   "execution_count": null,
   "metadata": {
    "jupyter": {
     "outputs_hidden": false
    },
    "pycharm": {
     "name": "#%%\n"
    }
   },
   "outputs": [],
   "source": [
    "# transpose the CL-SEM data\n",
    "im = cl_sem.____\n",
    "\n",
    "# plot as an image\n",
    "im.____()\n",
    "\n",
    "# create a SpanROI and interactively select the energy range to plot\n",
    "roi1 = hs.roi.____(left=455, right=485) #sets a digitalbandfilter\n",
    "im_roi1 = roi1.____(im, color=\"red\")\n",
    "im_roi1_mean = hs.____(im_roi1.mean,\n",
    "                              event=roi1.events.changed,\n",
    "                              recompute_out_event=None)\n",
    "\n",
    "# plot the mean of the ROI\n",
    "im_roi1_mean.____(cmap='viridis')"
   ]
  },
  {
   "cell_type": "code",
   "execution_count": null,
   "metadata": {
    "jupyter": {
     "outputs_hidden": false
    },
    "pycharm": {
     "name": "#%%\n"
    }
   },
   "outputs": [],
   "source": [
    "# Take the mean of the energy-filtered image\n",
    "im_filtered = roi1(____).____()\n",
    "\n",
    "# calculate the width and center of the ROI\n",
    "roi_width = roi1.right - roi1.left\n",
    "roi_centre = roi1.left + 0.5* roi_width\n",
    "\n",
    "# plot the filtered image with proper title\n",
    "im_filtered.metadata.General.title = \"Colour filtered image of {:.0f} $\\pm$ {:.0f} nm\".format(roi_centre, roi_width)\n",
    "im_filtered.____(cmap='viridis')"
   ]
  },
  {
   "cell_type": "markdown",
   "metadata": {
    "pycharm": {
     "name": "#%% md\n"
    }
   },
   "source": [
    "## Wavelength to energy conversion\n",
    "\n",
    "Required versions: hyperspy>=1.7.0 and lumispy>=0.2"
   ]
  },
  {
   "cell_type": "code",
   "execution_count": null,
   "metadata": {
    "jupyter": {
     "outputs_hidden": false
    },
    "pycharm": {
     "name": "#%%\n"
    }
   },
   "outputs": [],
   "source": [
    "# convert CL-SEM data to eV rather than wavelength and plot\n",
    "cl_sem_eV = cl_sem.____(inplace=False)\n",
    "cl_sem_eV.____()"
   ]
  },
  {
   "cell_type": "markdown",
   "metadata": {},
   "source": [
    "## Fitting Gaussian\n",
    "\n",
    "Select the starting parameters"
   ]
  },
  {
   "cell_type": "code",
   "execution_count": null,
   "metadata": {
    "jupyter": {
     "outputs_hidden": false
    },
    "pycharm": {
     "name": "#%%\n"
    }
   },
   "outputs": [],
   "source": [
    "# plot the data to start the fitting procedure\n",
    "cl_sem_eV.____()"
   ]
  },
  {
   "cell_type": "code",
   "execution_count": null,
   "metadata": {
    "jupyter": {
     "outputs_hidden": false
    },
    "pycharm": {
     "name": "#%%\n"
    }
   },
   "outputs": [],
   "source": [
    "# we recommend using the following starting parameters for the model\n",
    "\n",
    "####################################\n",
    "#MODEL\n",
    "g1_centre = 2.4   # Guess for centre wavelength\n",
    "g1_max = g1_centre + 0.2      # Max value for centre wavelength\n",
    "g1_min = g1_centre - 0.2     # Min value for centre wavelength\n",
    "\n",
    "g1_fwhm = 0.1            #Guess for FWHM\n",
    "g1_fwhm_max = 0.5       #Maxvalue for FWHM\n",
    "g1_fwhm_min = 0.01         #Minvalue for FWHM\n",
    "\n",
    "g1_h = 5           #Guess for peak Intensity\n",
    "g1_h_max = 50      #Maxvalue for peak Intesity\n",
    "g1_h_min = 0         #Minvalue for peak Intensity\n",
    "\n",
    "bkg_offset = 1  #Background to be substracted"
   ]
  },
  {
   "cell_type": "code",
   "execution_count": null,
   "metadata": {
    "jupyter": {
     "outputs_hidden": false
    },
    "pycharm": {
     "name": "#%%\n"
    }
   },
   "outputs": [],
   "source": [
    "# create the CL model\n",
    "m = cl_sem_eV.____()\n",
    "\n",
    "# add a Background offset\n",
    "bkg = hs.model.____.____()\n",
    "\n",
    "# add a Gaussian peak\n",
    "g1 = hs.model.____.____(\n",
    "    expression=\"height * exp(-(x - x0) ** 2 * 4 * log(2)/ fwhm ** 2)\",\n",
    "    ____=\"Perovskite Peak\", ____=\"x0\",\n",
    "    ____=1, ____=1, ____=0, ____=\"____\")\n",
    "\n",
    "#Tweak guessed initial parameters\n",
    "m.extend([g1, bkg])\n",
    "\n",
    "g1.x0.value, g1.x0.bmax, g1.x0.bmin = g1_centre, g1_max, g1_min\n",
    "g1.fwhm.value, g1.fwhm.bmax, g1.fwhm.bmin = g1_fwhm, g1_fwhm_max, g1_fwhm_min\n",
    "g1.height.value, g1.height.bmax, g1.height.bmin = g1_h, g1_h_max, g1_h_min\n",
    "bkg.offset.value = bkg_offset"
   ]
  },
  {
   "cell_type": "markdown",
   "metadata": {
    "pycharm": {
     "name": "#%% md\n"
    }
   },
   "source": [
    "Fit all pixels. `iterpath` sets a continuous trail of fitting (without jumps from line to next)."
   ]
  },
  {
   "cell_type": "code",
   "execution_count": null,
   "metadata": {
    "jupyter": {
     "outputs_hidden": false
    },
    "pycharm": {
     "name": "#%%\n"
    }
   },
   "outputs": [],
   "source": [
    "#Fit for all the positions\n",
    "m.____(____=True, ____=True, ____='serpentine')"
   ]
  },
  {
   "cell_type": "code",
   "execution_count": null,
   "metadata": {
    "jupyter": {
     "outputs_hidden": false
    },
    "pycharm": {
     "name": "#%%\n"
    }
   },
   "outputs": [],
   "source": [
    "# print model parameter values\n",
    "m.____()"
   ]
  },
  {
   "cell_type": "code",
   "execution_count": null,
   "metadata": {
    "jupyter": {
     "outputs_hidden": false
    },
    "pycharm": {
     "name": "#%%\n"
    }
   },
   "outputs": [],
   "source": [
    "#Plot the fit on the raw data\n",
    "m.____(____=True)"
   ]
  },
  {
   "cell_type": "code",
   "execution_count": null,
   "metadata": {
    "jupyter": {
     "outputs_hidden": false
    },
    "pycharm": {
     "name": "#%%\n"
    }
   },
   "outputs": [],
   "source": [
    "# Take the Gaussian component parameters as signals and plot them\n",
    "\n",
    "# plot the x0 parameter\n",
    "m_x0 = g1.____.____()\n",
    "m_x0.____(cmap='inferno')\n",
    "\n",
    "# plot the intensity\n",
    "m_intensity = g1.____.____()\n",
    "m_intensity.____(cmap='viridis')"
   ]
  },
  {
   "cell_type": "markdown",
   "metadata": {},
   "source": [
    "### Particle segmentation\n",
    "You can do particle segmentation using model fitting:"
   ]
  },
  {
   "cell_type": "code",
   "execution_count": null,
   "metadata": {
    "jupyter": {
     "outputs_hidden": false
    },
    "pycharm": {
     "name": "#%%\n"
    }
   },
   "outputs": [],
   "source": [
    "#Make mask to remove region where the intensity is below the mean value:\n",
    "mask_treshold = m_intensity.____.____()\n",
    "mask = ____.____ > ____ #Returns a boolean matrix mask\n",
    "plt.____(____)"
   ]
  },
  {
   "cell_type": "markdown",
   "metadata": {
    "pycharm": {
     "name": "#%% md\n"
    }
   },
   "source": [
    "## END\n"
   ]
  }
 ],
 "metadata": {
  "kernelspec": {
   "display_name": "Python 3 (ipykernel)",
   "language": "python",
   "name": "python3"
  },
  "language_info": {
   "codemirror_mode": {
    "name": "ipython",
    "version": 3
   },
   "file_extension": ".py",
   "mimetype": "text/x-python",
   "name": "python",
   "nbconvert_exporter": "python",
   "pygments_lexer": "ipython3",
   "version": "3.9.13"
  }
 },
 "nbformat": 4,
 "nbformat_minor": 4
}
