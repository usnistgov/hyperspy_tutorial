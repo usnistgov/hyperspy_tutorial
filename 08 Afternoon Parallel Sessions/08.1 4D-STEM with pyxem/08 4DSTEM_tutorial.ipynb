{
 "cells": [
  {
   "cell_type": "markdown",
   "metadata": {},
   "source": [
    "# 4D-STEM Tutorial\n",
    "\n",
    "This tutorial is designed as a quick walk-through to the functions avaible through pyXEM.  It will not cover everything and if you want to further explore pyxem a better place to satart is with the pyxem-demos which will offer more indepth instrucution on using pyxem. \n",
    "\n",
    "This demo is designed to work with minimum pyxem version 13.3.  If you don't have at least version 13.3 installed it is a good idea to update your version of pyxem so that things work as intended. \n",
    "\n",
    "-- csfrancis@wisc.edu --\n",
    "\n",
    "Sunday July 31, 2022\n",
    "\n",
    "\n",
    "## Contents \n",
    "\n",
    "0. <a href='#in'> Introduction</a>\n",
    "1. <a href='#pr'> Loading pyXEM</a>\n",
    "2. <a href='#vdf'> Virtual Dark Feild Imaging</a>\n",
    "3. <a href='#vf'> Peak Finding and Machiene Learning</a>\n",
    "4. <a href='#ml'> Orentation Mapping</a>\n",
    "5. <a href='#vec'> Amorphous Materials</a>"
   ]
  },
  {
   "cell_type": "markdown",
   "metadata": {},
   "source": [
    "<a href='#in'></a>\n",
    "\n",
    "## Introduction:\n",
    "\n",
    "### What is pyXem?\n",
    "\n",
    "- Pyxem is part of the `Hyperspy` ecosystem specifically designed for analyzing diffraction from pixelated detectors.\n",
    "\n",
    "### What about 4-D STEM?\n",
    "\n",
    "- Yep! 4-D STEM, 5-D STEM and on.  Pyxem is purposely built to handle any size data that you have. \n",
    "\n",
    "### What is avabile in pyXEM?\n",
    "\n",
    "- Orientation Mapping of Crystals\n",
    "- Strain Mapping\n",
    "- Virtual Dark Field Imaging\n",
    "- Differential Phase Contrast (DPC)\n",
    "- Structural Characterization of Amorphous Materials (Angular Correlations/FEM)\n",
    "- And much more!\n",
    "\n",
    "###  Is pyXEM  still in Development?\n",
    "\n",
    "- PyXEM is still in a beta format which means that with every minor relase there will still be API changes.  We try to keep these to a minimum but they will still occur.\n",
    "\n",
    "- A major relase is upcoming which should stablize pyXEM's API in the near future. \n",
    "\n",
    "### Is pyXEM part of Hyperspy?\n",
    "\n",
    "- Yes! and No... \n",
    "- pyXEM **extends** the capabilities of Hyperspy.  With the new Hyperspy-bundle pyXEM is automatically included which means you won't have to deal with downloading pyXEM seperately!\n",
    "\n",
    "<br/>\n",
    "<br/>\n",
    "<img style='margin:auto;' src='img/HyperspyExtension.png'/>\n",
    "<br/>"
   ]
  },
  {
   "cell_type": "code",
   "execution_count": null,
   "metadata": {
    "scrolled": true
   },
   "outputs": [],
   "source": [
    "import hyperspy.api as hs\n",
    "import numpy as np\n",
    "import matplotlib.pyplot as plt\n",
    "import diffpy"
   ]
  },
  {
   "cell_type": "markdown",
   "metadata": {},
   "source": [
    "<a id='pr'></a>\n",
    "\n",
    "## Printing Known Signal Types\n",
    "\n",
    "Pyxem **extends** hyperspy.  This means that for most operations you won't have to load pyxem once pyxem is downloaded.  With the [``hyperspy bundle``](http://hyperspy.org/hyperspy-doc/current/user_guide/install.html#hyperspy-bundle) this is very easy as you can use anaconda to easily download and install the necessary packages. \n",
    "\n",
    "A good first step in any operation is to print the known signal types. This is very helpful to:\n",
    "\n",
    "**1- Check that packages like pyxem/kikuchipy/atomap etc. are loaded**\n",
    "\n",
    "**2- Use as a reference when changing signal types**"
   ]
  },
  {
   "cell_type": "code",
   "execution_count": null,
   "metadata": {},
   "outputs": [],
   "source": [
    "# Printing the known signal types\n",
    "hs.print_known_signal_types()"
   ]
  },
  {
   "cell_type": "markdown",
   "metadata": {},
   "source": [
    "<a href='#lo'></a>\n",
    "## 1. Loading & Visualization\n",
    "\n",
    "Loading data into pyxem is just as easy as loading data into hyperspy. We can call the load function from hyperspy and load the data. \n",
    "\n",
    "See how the data is loaded as a Diffraction2D Signal already, this is because hyperspy remembers the Signal type if you save the data. "
   ]
  },
  {
   "cell_type": "code",
   "execution_count": null,
   "metadata": {},
   "outputs": [],
   "source": [
    "# Loading data \n",
    "dp = hs.load('./data/twinned_nanowire.hspy')\n",
    "print(dp)"
   ]
  },
  {
   "cell_type": "markdown",
   "metadata": {},
   "source": [
    "### 1.1 Changing Signal Type\n",
    "You can also change the Signal type after the fact.  In this case we want to work with electron diffraction data so we use the `set_signal_type` function to change the signal using the alais shown above from the `print_known_signals` function."
   ]
  },
  {
   "cell_type": "code",
   "execution_count": null,
   "metadata": {},
   "outputs": [],
   "source": [
    "dp.set_signal_type('electron_diffraction')\n",
    "print(dp)\n",
    "display(dp.metadata)"
   ]
  },
  {
   "cell_type": "markdown",
   "metadata": {},
   "source": [
    "### 1.2 Adjusting the Axes Scale & Metadata\n",
    "\n",
    "In many cases data will not be loaded with appropiate units/ experimental parameters or scale.  Hyperspy is usually pretty good at reading this from the file but often times that data will have to be added after. We can fix this by manually setting this for our dataset."
   ]
  },
  {
   "cell_type": "code",
   "execution_count": null,
   "metadata": {},
   "outputs": [],
   "source": [
    "dp.beam_energy = 300\n",
    "dp.metadata.Acquisition_instrument.TEM.camera_length =21 \n",
    "dp.metadata.Acquisition_instrument.TEM.scan_rotation = 277\n",
    "dp.metadata.Acquisition_instrument.TEM.convergence_angle =0.7\n",
    "dp.metadata.Acquisition_instrument.TEM.exposure_time =10.0\n",
    "dp.metadata.General.title = 'GaAs Nanowire'"
   ]
  },
  {
   "cell_type": "code",
   "execution_count": null,
   "metadata": {},
   "outputs": [],
   "source": [
    "# Show the metadata that we are interested in\n",
    "dp.metadata"
   ]
  },
  {
   "cell_type": "markdown",
   "metadata": {},
   "source": [
    "### 1.3 Applying an Affine Transformation and Centering the Direct Beam \n",
    "\n",
    "In most data some of your first steps are going to be applying an affine correction (to correct for astigmatism if present) and then centering the direct beam. (This can also help to correct for any scan pivot point misalignments which are often difficult to correct for.)\n",
    "\n",
    "If you want to determine the proper affine correction using a standard is very helpful.  Refer to the `pyXEM` [User Guide](https://github.com/pyxem/pyxem-demos) for help. \n",
    "\n",
    "**Note:** This won't work if you have a beam stop blocking the zerobeam.\n"
   ]
  },
  {
   "cell_type": "code",
   "execution_count": null,
   "metadata": {},
   "outputs": [],
   "source": [
    "#look at the center direct beam function\n",
    "dp.center_direct_beam?"
   ]
  },
  {
   "cell_type": "code",
   "execution_count": null,
   "metadata": {},
   "outputs": [],
   "source": [
    "transform = np.array([[0.99,0,0], [0,0.69,0],[0,0,1]])"
   ]
  },
  {
   "cell_type": "code",
   "execution_count": null,
   "metadata": {},
   "outputs": [],
   "source": [
    "# plot one pattern from original data\n",
    "dp.inav[10,10].plot(vmax=50)"
   ]
  },
  {
   "cell_type": "code",
   "execution_count": null,
   "metadata": {},
   "outputs": [],
   "source": [
    "#apply an affine transformation\n",
    "dp.apply_affine_transformation(transform,\n",
    "                               keep_dtype=True,\n",
    "                               inplace=True)\n",
    "\n",
    "# Centering the Direct Beam\n",
    "dp.center_direct_beam(method='cross_correlate',\n",
    "                                             radius_start=2,\n",
    "                                             radius_finish=5,\n",
    "                                             half_square_width=10,\n",
    "                                 )\n",
    "#reset the offset for the axes\n",
    "dp.axes_manager[2].offset = dp.axes_manager[2].size/2\n",
    "dp.axes_manager[3].offset = dp.axes_manager[3].size/2"
   ]
  },
  {
   "cell_type": "code",
   "execution_count": null,
   "metadata": {},
   "outputs": [],
   "source": [
    "# plot onr pattern from transformed data\n",
    "dp.inav[10,10].plot(vmax=50)\n",
    "plt.show()"
   ]
  },
  {
   "cell_type": "markdown",
   "metadata": {},
   "source": [
    "### 1.3 Adjusting the Axes Scale & Metadata\n",
    "\n",
    "In many cases data will not be loaded with appropiate units/ experimental parameters or scale.  Hyperspy is usually pretty good at reading this from the file but often times that data will have to be added after. We can fix this by manually setting this for our dataset.\n",
    "\n",
    "In this case we want to look at the inter planer spacing to determine the scale bar.\n",
    "\n",
    "#### Side Note:\n",
    "\n",
    "If you want to do this interactively you need to make sure you are using a backend for matplotlib which is interactive.  For the most part ``%matplotlib notebook`` should work.\n",
    "\n",
    "Interact with the plot as necessary and then if you compute the cell below it will update with line profile of the area of interest. "
   ]
  },
  {
   "cell_type": "code",
   "execution_count": null,
   "metadata": {},
   "outputs": [],
   "source": [
    "%matplotlib notebook\n",
    "dpm = dp.mean(axis=(0,1))"
   ]
  },
  {
   "cell_type": "code",
   "execution_count": null,
   "metadata": {},
   "outputs": [],
   "source": [
    "# Creating a Line ROI to get spacing \n",
    "dpm.plot(cmap='inferno', vmax=50)\n",
    "line = hs.roi.Line2DROI(x1=122., y1=139., x2=169., y2=144, linewidth=5.49734)\n",
    "line.add_widget(dpm)"
   ]
  },
  {
   "cell_type": "code",
   "execution_count": null,
   "metadata": {},
   "outputs": [],
   "source": [
    "trace = line(dpm)\n",
    "trace = trace.as_signal1D(spectral_axis=0)\n",
    "trace.plot()"
   ]
  },
  {
   "cell_type": "code",
   "execution_count": null,
   "metadata": {},
   "outputs": [],
   "source": [
    "#find the peaks in the trace.\n",
    "peaks = trace.find_peaks1D_ohaver()\n",
    "peaks"
   ]
  },
  {
   "cell_type": "code",
   "execution_count": null,
   "metadata": {},
   "outputs": [],
   "source": [
    "trace.plot(plot_markers=True)"
   ]
  },
  {
   "cell_type": "code",
   "execution_count": null,
   "metadata": {},
   "outputs": [],
   "source": [
    "markers = [hs.plot.markers.vertical_line(x=peak[0], color='red') for peak in peaks[0]]\n",
    "tmarkers = [hs.plot.markers.text(x=peak[0], y=50,text=np.round(peak[0],3), color='black') for peak in peaks[0]]\n",
    "trace.add_marker(markers, permanent=True)\n",
    "trace.add_marker(tmarkers, permanent=True)"
   ]
  },
  {
   "cell_type": "code",
   "execution_count": null,
   "metadata": {},
   "outputs": [],
   "source": [
    "pixel_d111 = (67.242-24.542)/4\n",
    "GaAs_dspacing =5.75018263\n",
    "recip_d111 = np.sqrt((3/GaAs_dspacing**2))\n",
    "recip_cal = recip_d111 / pixel_d111\n",
    "dp.set_scan_calibration(10)\n",
    "dp.set_diffraction_calibration(recip_cal)\n",
    "dp.unit = \"k_A^-1\""
   ]
  },
  {
   "cell_type": "code",
   "execution_count": null,
   "metadata": {},
   "outputs": [],
   "source": [
    "#visualize the axes manager to make sure that the function works...\n",
    "dp.axes_manager"
   ]
  },
  {
   "cell_type": "markdown",
   "metadata": {},
   "source": [
    "<a href='#vdf'></a>\n",
    "\n",
    "## 2. Virtual Dark Field (VDF) Imaging\n",
    "Now it is pretty easy to create a Virtual Diffraction Image using hyperspy's ROI tools.  In this case we just use the `plot_integrated_intensity` function to view our roi."
   ]
  },
  {
   "cell_type": "code",
   "execution_count": null,
   "metadata": {
    "scrolled": false
   },
   "outputs": [],
   "source": [
    "#Creating an Interactive VDF Imange\n",
    "dp.plot(vmax=50)\n",
    "roi = hs.roi.CircleROI(cx=0,cy=0, r_inner=0, r=0.2)\n",
    "dp.plot_integrated_intensity(roi)"
   ]
  },
  {
   "cell_type": "code",
   "execution_count": null,
   "metadata": {
    "scrolled": false
   },
   "outputs": [],
   "source": [
    "vdf = dp.get_integrated_intensity(roi)\n",
    "vdf.plot()\n",
    "print(vdf)"
   ]
  },
  {
   "cell_type": "markdown",
   "metadata": {},
   "source": [
    "### 2.1 Forming Multiple Images from Concentric Rings!\n",
    "\n",
    "From pyxem we can also load the virtual Image generator to form images from different annular ranges. (In many different ways!)"
   ]
  },
  {
   "cell_type": "markdown",
   "metadata": {},
   "source": [
    "### Using the Azimuthal Integrator \n",
    "\n",
    "One of my favorite ways to look at data is in polar coordinates.  This allows us to better see things like k-spacing and crystal orientations.\n",
    "\n",
    "Pyxem uses [PyFAI](https://pyfai.readthedocs.io/en/master/) to handle all of the backend azimuthal integration.  This means that pyxem can handle:\n",
    "\n",
    "- Unique detector configerations\n",
    "- GPU acclerated integration\n",
    "- Many different algorithms implemented by PyFAI. "
   ]
  },
  {
   "cell_type": "code",
   "execution_count": null,
   "metadata": {},
   "outputs": [],
   "source": [
    "# Setting the Azimuthal Integrator to help unwrap the function\n",
    "dp.set_ai()"
   ]
  },
  {
   "cell_type": "code",
   "execution_count": null,
   "metadata": {},
   "outputs": [],
   "source": [
    "# get the Azimuthal Integral1d\n",
    "dp.get_azimuthal_integral1d(npt=50).T.plot()"
   ]
  },
  {
   "cell_type": "code",
   "execution_count": null,
   "metadata": {},
   "outputs": [],
   "source": [
    "#get the 2D integral and then sum along the k direction\n",
    "dp.get_azimuthal_integral2d(npt=50, npt_azim=90).sum(axis=3).T.plot()"
   ]
  },
  {
   "cell_type": "markdown",
   "metadata": {},
   "source": [
    "## 3.0 Using Machine Learning:\n",
    "\n",
    "We are going to use Non-negitivie Matrix factorization (NMF) to help segement our image. \n",
    "\n",
    "This is particularly useful becuase unlike SVD or PCA it applies the constraint that every value needs to be positive (which is particualarly important in our case where we can assume that each component is positive. \n",
    "\n",
    "More information on what ```hyperspy``` is calling :\n",
    "\n",
    "https://scikit-learn.org/stable/modules/generated/sklearn.decomposition.NMF.html#sklearn.decomposition.NMF"
   ]
  },
  {
   "cell_type": "code",
   "execution_count": null,
   "metadata": {},
   "outputs": [],
   "source": [
    "# preform NMF decomposition (try output_dimension =4)\n",
    "# Try other dimensions if you are interested. How does it change?\n",
    "# This might not work on Binder as it changes the d\n",
    "dp.data = dp.data.astype('float32')\n",
    "dp.decomposition(algorithm=\"NMF\",output_dimension=4)"
   ]
  },
  {
   "cell_type": "code",
   "execution_count": null,
   "metadata": {},
   "outputs": [],
   "source": [
    "#plot decomposition loadinds and factors.  What does each loading and factor represent?\n",
    "dp.plot_decomposition_loadings(per_row=2, axes_decor='off')\n",
    "dp.plot_decomposition_factors(per_row=2, axes_decor='off')\n",
    "plt.show()"
   ]
  },
  {
   "cell_type": "markdown",
   "metadata": {},
   "source": [
    "## 4.0 Peak Finding:\n",
    "\n",
    "Pyxem also implements the hyperspy peak-finding algorithm which can be tuned to help identify diffraction spots.  \n",
    "\n",
    "This helps define diffraction vectors which can be used for a variety of different things\n",
    "\n",
    "In the example below we use the Difference of Gaussians (DOG) method from skimage to find the diffraction spots. \n",
    "\n",
    "https://scikit-image.org/docs/stable/auto_examples/features_detection/plot_blob.html?highlight=dog\n"
   ]
  },
  {
   "cell_type": "code",
   "execution_count": null,
   "metadata": {},
   "outputs": [],
   "source": [
    "#try adjusting the threshold here to find more or less peaks. \n",
    "# (Hint anything lower the 0.02 will fail take a long time to find all of the peaks)\n",
    "peaks = dp.find_peaks(method='difference_of_gaussian',\n",
    "                      min_sigma=1.,\n",
    "                      max_sigma=6.,\n",
    "                      sigma_ratio=1.6,\n",
    "                      threshold=0.1,\n",
    "                      overlap=0.99,\n",
    "                      interactive=False)"
   ]
  },
  {
   "cell_type": "code",
   "execution_count": null,
   "metadata": {},
   "outputs": [],
   "source": [
    "from pyxem.signals.diffraction_vectors import DiffractionVectors"
   ]
  },
  {
   "cell_type": "code",
   "execution_count": null,
   "metadata": {},
   "outputs": [],
   "source": [
    "peaks = DiffractionVectors.from_peaks(peaks,center=(72,72),calibration=recip_cal)"
   ]
  },
  {
   "cell_type": "code",
   "execution_count": null,
   "metadata": {},
   "outputs": [],
   "source": [
    "peaks.plot_diffraction_vectors_on_signal(dp, vmax=50)"
   ]
  },
  {
   "cell_type": "code",
   "execution_count": null,
   "metadata": {},
   "outputs": [],
   "source": [
    "# get the number of diffraction vectors at each point (x,y)\n",
    "crystim = peaks.get_diffracting_pixels_map(binary=False)\n",
    "crystim.plot(cmap='viridis')"
   ]
  },
  {
   "cell_type": "markdown",
   "metadata": {},
   "source": [
    "<a id='tem'></a>\n",
    "##  6.0 Angular Correlations and FEM"
   ]
  },
  {
   "cell_type": "markdown",
   "metadata": {},
   "source": [
    "###  6.1 Data Loading and Visualization\n",
    "\n",
    "Below we are going to load a dataset for a PdNiP glass and look at the dominate symmetries in the glass.\n",
    "\n",
    "To do this we cacluate the angular correlation defined below. \n",
    "\n",
    "<p style=\"text-align: center;\">\n",
    "$ C(k,\\phi) = \\frac{<I(k, \\theta)*I(k, \\theta+\\phi)>_\\theta - <I(k,\\theta)>^2_\\theta }{<I(k, \\theta)>^2_\\theta} $\n",
    "</p>\n",
    "\n",
    "This gives us the symmetry of some diffraction pattern regaurdless of orientation. "
   ]
  },
  {
   "cell_type": "code",
   "execution_count": null,
   "metadata": {},
   "outputs": [],
   "source": [
    "dp = hs.load(\"./data/PdNiP_test.hspy\")"
   ]
  },
  {
   "cell_type": "code",
   "execution_count": null,
   "metadata": {},
   "outputs": [],
   "source": [
    "dp.set_signal_type(\"electron_diffraction\")\n",
    "dp.beam_energy=200\n",
    "dp.unit = \"k_nm^-1\"\n",
    "# Affine correction from fitting an ellipse\n",
    "import numpy as np\n",
    "center=(31.2,31.7)\n",
    "affine=np.array([[ 1.03725511, -0.02662789,  0.        ],\n",
    "                 [-0.02662789,  1.01903215,  0.        ],\n",
    "                 [ 0.        ,  0.        ,  1.        ]])"
   ]
  },
  {
   "cell_type": "code",
   "execution_count": null,
   "metadata": {},
   "outputs": [],
   "source": [
    "dp.plot(vmax=5000)"
   ]
  },
  {
   "cell_type": "code",
   "execution_count": null,
   "metadata": {},
   "outputs": [],
   "source": [
    "#set ai \n",
    "dp.set_ai(center=center)\n",
    "dp.get_azimuthal_integral2d(npt=100, inplace=True)"
   ]
  },
  {
   "cell_type": "code",
   "execution_count": null,
   "metadata": {},
   "outputs": [],
   "source": [
    "dp.sum().plot()"
   ]
  },
  {
   "cell_type": "code",
   "execution_count": null,
   "metadata": {},
   "outputs": [],
   "source": [
    "#create a mask\n",
    "summed = dp.sum()\n",
    "mask = ((summed.data>4e6) +(summed.data<3e5))"
   ]
  },
  {
   "cell_type": "code",
   "execution_count": null,
   "metadata": {},
   "outputs": [],
   "source": [
    "plt.figure()\n",
    "plt.imshow(mask)\n",
    "plt.show()"
   ]
  },
  {
   "cell_type": "code",
   "execution_count": null,
   "metadata": {},
   "outputs": [],
   "source": [
    "dp.plot(vmax=4000)"
   ]
  },
  {
   "cell_type": "code",
   "execution_count": null,
   "metadata": {},
   "outputs": [],
   "source": [
    "#get the angular correlation\n",
    "dp.get_angular_correlation(mask=mask, inplace=True)"
   ]
  },
  {
   "cell_type": "code",
   "execution_count": null,
   "metadata": {},
   "outputs": [],
   "source": [
    "dp.isig[:,2.:5.].plot()"
   ]
  },
  {
   "cell_type": "code",
   "execution_count": null,
   "metadata": {},
   "outputs": [],
   "source": [
    "#plot the angular symmetries. \n",
    "import matplotlib.pyplot as plt\n",
    "f = plt.figure(figsize=(15,10))\n",
    "dp.plot_symmetries(k_region = [3.,4.5],fig=f)"
   ]
  }
 ],
 "metadata": {
  "kernelspec": {
   "display_name": "Python 3 (ipykernel)",
   "language": "python",
   "name": "python3"
  },
  "language_info": {
   "codemirror_mode": {
    "name": "ipython",
    "version": 3
   },
   "file_extension": ".py",
   "mimetype": "text/x-python",
   "name": "python",
   "nbconvert_exporter": "python",
   "pygments_lexer": "ipython3",
   "version": "3.9.13"
  }
 },
 "nbformat": 4,
 "nbformat_minor": 2
}
