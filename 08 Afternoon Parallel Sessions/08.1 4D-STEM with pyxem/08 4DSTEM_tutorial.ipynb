{
 "cells": [
  {
   "cell_type": "markdown",
   "metadata": {},
   "source": [
    "# 4D-STEM Tutorial\n",
    "\n",
    "This tutorial is designed as a quick walk-through to the functions avaible through pyXEM.  It will not cover everything and if you want to further explore pyxem a better place to satart is with the pyxem-demos which will offer more indepth instrucution on using pyxem. \n",
    "\n",
    "This demo is designed to work with pyxem version 13.3.  If you don't have version 13.3 installed it is a good idea to update your version of pyxem so that things work as intended. \n",
    "\n",
    "-- csfrancis@wisc.edu --\n",
    "\n",
    "Monday July 26, 2021\n",
    "\n",
    "\n",
    "## Contents \n",
    "\n",
    "0. <a href='#in'> Introduction</a>\n",
    "1. <a href='#pr'> Loading pyXEM</a>\n",
    "2. <a href='#vdf'> Virtual Dark Feild Imaging</a>\n",
    "3. <a href='#vf'> Peak Finding and Machiene Learning</a>\n",
    "4. <a href='#ml'> Orentation Mapping</a>\n",
    "5. <a href='#vec'> Amorphous Materials</a>"
   ]
  },
  {
   "cell_type": "markdown",
   "metadata": {},
   "source": [
    "<a href='#in'></a>\n",
    "\n",
    "## Introduction:\n",
    "\n",
    "### What is pyXem?\n",
    "\n",
    "- Pyxem is part of the `Hyperspy` ecosystem specifically designed for analyzing diffraction from pixelated detectors.\n",
    "\n",
    "### What about 4-D STEM?\n",
    "\n",
    "- Yep! 4-D STEM, 5-D STEM and on.  Pyxem is purposely built to handle any size data that you have. \n",
    "\n",
    "### What is avabile in pyXEM?\n",
    "\n",
    "- Orientation Mapping of Crystals\n",
    "- Strain Mapping\n",
    "- Virtual Dark Field Imaging\n",
    "- Differential Phase Contrast (DPC)\n",
    "- Structural Characterization of Amorphous Materials (Angular Correlations/FEM)\n",
    "- And much more!\n",
    "\n",
    "###  Is pyXEM  still in Development?\n",
    "\n",
    "- PyXEM is still in a beta format which means that with every minor relase there will still be API changes.  We try to keep these to a minimum but they will still occur.\n",
    "\n",
    "- A major relase is upcoming which should stablize pyXEM's API in the near future. \n",
    "\n",
    "### Is pyXEM part of Hyperspy?\n",
    "\n",
    "- Yes! and No... \n",
    "- pyXEM **extends** the capabilities of Hyperspy.  With the new Hyperspy-bundle pyXEM is automatically included which means you won't have to deal with downloading pyXEM seperately!\n",
    "\n",
    "<br/>\n",
    "<br/>\n",
    "<img style='margin:auto;' src='img/HyperspyExtension.png'/>\n",
    "<br/>"
   ]
  },
  {
   "cell_type": "code",
   "execution_count": null,
   "metadata": {},
   "outputs": [],
   "source": [
    "import hyperspy.api as hs\n",
    "import numpy as np\n",
    "import matplotlib.pyplot as plt\n",
    "import diffpy"
   ]
  },
  {
   "cell_type": "markdown",
   "metadata": {},
   "source": [
    "<a id='pr'></a>\n",
    "\n",
    "## Printing Known Signal Types\n",
    "\n",
    "Pyxem **extends** hyperspy.  This means that for most operations you won't have to load pyxem once pyxem is downloaded.  With the [``hyperspy bundle``](http://hyperspy.org/hyperspy-doc/current/user_guide/install.html#hyperspy-bundle) this is very easy as you can use anaconda to easily download and install the necessary packages. \n",
    "\n",
    "A good first step in any operation is to print the known signal types. This is very helpful to:\n",
    "\n",
    "**1- Check that packages like pyxem/kikuchipy/atomap etc. are loaded**\n",
    "\n",
    "**2- Use as a reference when changing signal types**"
   ]
  },
  {
   "cell_type": "code",
   "execution_count": null,
   "metadata": {},
   "outputs": [],
   "source": [
    "# Printing the known signal types"
   ]
  },
  {
   "cell_type": "markdown",
   "metadata": {},
   "source": [
    "<a href='#lo'></a>\n",
    "## 1. Loading & Visualization\n",
    "\n",
    "Loading data into pyxem is just as easy as loading data into hyperspy. We can call the load function from hyperspy and load the data. \n",
    "\n",
    "See how the data is loaded as a Diffraction2D Signal already, this is because hyperspy remembers the Signal type if you save the data. "
   ]
  },
  {
   "cell_type": "code",
   "execution_count": null,
   "metadata": {},
   "outputs": [],
   "source": [
    "# Loading data \n",
    "dp = hs.load('./data/twinned_nanowire.hdf5')\n",
    "#print the signal"
   ]
  },
  {
   "cell_type": "markdown",
   "metadata": {},
   "source": [
    "### 1.1 Changing Signal Type\n",
    "You can also change the Signal type after the fact.  In this case we want to work with electron diffraction data so we use the `set_signal_type` function to change the signal using the alais shown above from the `print_known_signals` function."
   ]
  },
  {
   "cell_type": "code",
   "execution_count": null,
   "metadata": {},
   "outputs": [],
   "source": [
    "# set the signal type to 'electron_diffraction'"
   ]
  },
  {
   "cell_type": "markdown",
   "metadata": {},
   "source": [
    "### 1.2 Adjusting the Axes Scale & Metadata\n",
    "\n",
    "In many cases data will not be loaded with appropiate units/ experimental parameters or scale.  Hyperspy is usually pretty good at reading this from the file but often times that data will have to be added after. We can fix this by manually setting this for our dataset."
   ]
  },
  {
   "cell_type": "code",
   "execution_count": null,
   "metadata": {},
   "outputs": [],
   "source": [
    "dp.beam_energy = 300\n",
    "dp.metadata.Acquisition_instrument.TEM.camera_length =21 \n",
    "dp.metadata.Acquisition_instrument.TEM.scan_rotation = 277\n",
    "dp.metadata.Acquisition_instrument.TEM.convergence_angle =0.7\n",
    "dp.metadata.Acquisition_instrument.TEM.exposure_time =10.0\n",
    "dp.metadata.General.title = 'GaAs Nanowire'"
   ]
  },
  {
   "cell_type": "code",
   "execution_count": null,
   "metadata": {},
   "outputs": [],
   "source": [
    "# Show the metadata that we are interested in"
   ]
  },
  {
   "cell_type": "markdown",
   "metadata": {},
   "source": [
    "### 1.3 Applying an Affine Transformation and Centering the Direct Beam \n",
    "\n",
    "In most data some of your first steps are going to be applying an affine correction (to correct for astigmatism if present) and then centering the direct beam. (This can also help to correct for any scan pivot point misalignments which are often difficult to correct for.)\n",
    "\n",
    "If you want to determine the proper affine correction using a standard is very helpful.  Refer to the `pyXEM` [User Guide](https://github.com/pyxem/pyxem-demos) for help. \n",
    "\n",
    "**Note:** This won't work if you have a beam stop blocking the zerobeam.\n"
   ]
  },
  {
   "cell_type": "code",
   "execution_count": null,
   "metadata": {},
   "outputs": [],
   "source": [
    "#look at the center direct beam function"
   ]
  },
  {
   "cell_type": "code",
   "execution_count": null,
   "metadata": {},
   "outputs": [],
   "source": [
    "transform = np.array([[0.99,0,0], [0,0.69,0],[0,0,1]])"
   ]
  },
  {
   "cell_type": "code",
   "execution_count": null,
   "metadata": {},
   "outputs": [],
   "source": [
    "# plot one pattern from original data\n"
   ]
  },
  {
   "cell_type": "code",
   "execution_count": null,
   "metadata": {},
   "outputs": [],
   "source": [
    "#apply an affine transformation\n",
    "dp.apply_affine_transformation(transform,\n",
    "                               keep_dtype=True,\n",
    "                               inplace=True)\n",
    "\n",
    "# Centering the Direct Beam\n",
    "dp.center_direct_beam(method='cross_correlate',\n",
    "                                             radius_start=2,\n",
    "                                             radius_finish=5,\n",
    "                                             half_square_width=10,\n",
    "                                 )\n",
    "#reset the offset for the axes\n",
    "dp.axes_manager[2].offset = dp.axes_manager[2].size/2\n",
    "dp.axes_manager[3].offset = dp.axes_manager[3].size/2"
   ]
  },
  {
   "cell_type": "code",
   "execution_count": null,
   "metadata": {},
   "outputs": [],
   "source": [
    "# plot onr pattern from transformed data\n",
    "dp.inav[10,10].plot(vmax=50)\n",
    "plt.show()"
   ]
  },
  {
   "cell_type": "markdown",
   "metadata": {},
   "source": [
    "### 1.3 Adjusting the Axes Scale & Metadata\n",
    "\n",
    "In many cases data will not be loaded with appropiate units/ experimental parameters or scale.  Hyperspy is usually pretty good at reading this from the file but often times that data will have to be added after. We can fix this by manually setting this for our dataset.\n",
    "\n",
    "In this case we want to look at the inter planer spacing to determine the scale bar.\n",
    "\n",
    "#### Side Note:\n",
    "\n",
    "If you want to do this interactively you need to make sure you are using a backend for matplotlib which is interactive.  For the most part ``%matplotlib notebook`` should work.\n",
    "\n",
    "Interact with the plot as necessary and then if you compute the cell below it will update with line profile of the area of interest. "
   ]
  },
  {
   "cell_type": "code",
   "execution_count": null,
   "metadata": {},
   "outputs": [],
   "source": [
    "%matplotlib notebook"
   ]
  },
  {
   "cell_type": "code",
   "execution_count": null,
   "metadata": {},
   "outputs": [],
   "source": [
    "#take the mean of the diffraction pattern"
   ]
  },
  {
   "cell_type": "code",
   "execution_count": null,
   "metadata": {},
   "outputs": [],
   "source": [
    "# Creating a Line ROI to get spacing "
   ]
  },
  {
   "cell_type": "code",
   "execution_count": null,
   "metadata": {},
   "outputs": [],
   "source": [
    "trace = line(dpm)\n",
    "trace = trace.as_signal1D(spectral_axis=0)\n",
    "trace.plot()"
   ]
  },
  {
   "cell_type": "code",
   "execution_count": null,
   "metadata": {},
   "outputs": [],
   "source": [
    "#find the peaks in the trace.\n"
   ]
  },
  {
   "cell_type": "code",
   "execution_count": null,
   "metadata": {},
   "outputs": [],
   "source": [
    "#plot the peaks.\n",
    "trace.plot(plot_markers=True)"
   ]
  },
  {
   "cell_type": "code",
   "execution_count": null,
   "metadata": {},
   "outputs": [],
   "source": [
    "#plot the peaks.\n",
    "\n",
    "markers = [hs.plot.markers.vertical_line(x=peak[0], color='red') for peak in peaks[0]]\n",
    "tmarkers = [hs.plot.markers.text(x=peak[0], y=50,text=np.round(peak[0],3), color='red') for peak in peaks[0]]\n",
    "trace.add_marker(markers, permanent=True)\n",
    "trace.add_marker(tmarkers, permanent=True)"
   ]
  },
  {
   "cell_type": "code",
   "execution_count": null,
   "metadata": {},
   "outputs": [],
   "source": []
  },
  {
   "cell_type": "code",
   "execution_count": null,
   "metadata": {},
   "outputs": [],
   "source": [
    "# setting the calibration\n",
    "pixel_d111 = (67.242-24.542)/4\n",
    "GaAs_dspacing =5.75018263\n",
    "recip_d111 = np.sqrt((3/GaAs_dspacing**2))\n",
    "recip_cal = recip_d111 / pixel_d111\n",
    "dp.set_scan_calibration(10)\n",
    "dp.set_diffraction_calibration(recip_cal)\n",
    "dp.unit = \"k_A^-1\""
   ]
  },
  {
   "cell_type": "code",
   "execution_count": null,
   "metadata": {},
   "outputs": [],
   "source": [
    "#visualize the axes manager to make sure that the function works..."
   ]
  },
  {
   "cell_type": "markdown",
   "metadata": {},
   "source": [
    "<a href='#vdf'></a>\n",
    "\n",
    "## 2. Virtual Dark Field (VDF) Imaging\n",
    "Now it is pretty easy to create a Virtual Diffraction Image using hyperspy's ROI tools.  In this case we just use the `plot_integrated_intensity` function to view our roi."
   ]
  },
  {
   "cell_type": "code",
   "execution_count": null,
   "metadata": {
    "scrolled": false
   },
   "outputs": [],
   "source": [
    "#Creating an Interactive VDF Imange\n"
   ]
  },
  {
   "cell_type": "code",
   "execution_count": null,
   "metadata": {},
   "outputs": [],
   "source": [
    "vdf = dp.get_integrated_intensity(roi)"
   ]
  },
  {
   "cell_type": "code",
   "execution_count": null,
   "metadata": {},
   "outputs": [],
   "source": [
    "vdf.plot()\n",
    "print(vdf)"
   ]
  },
  {
   "cell_type": "markdown",
   "metadata": {},
   "source": [
    "## 2.1 Forming Multiple Images from Concentric Rings!\n",
    "\n",
    "From pyxem we can also load the virtual Image generator to form images from different annular ranges. (In many different ways!)"
   ]
  },
  {
   "cell_type": "markdown",
   "metadata": {},
   "source": [
    "### Using the Azimuthal Integrator \n",
    "\n",
    "One of my favorite ways to look at data is in polar coordinates.  This allows us to better see things like k-spacing and crystal orientations.\n",
    "\n",
    "Pyxem uses [PyFAI](https://pyfai.readthedocs.io/en/master/) to handle all of the backend azimuthal integration.  This means that pyxem can handle:\n",
    "\n",
    "- Unique detector configerations\n",
    "- GPU acclerated integration\n",
    "- Many different algorithms implemented by PyFAI. "
   ]
  },
  {
   "cell_type": "code",
   "execution_count": null,
   "metadata": {},
   "outputs": [],
   "source": [
    "# Setting the Azimuthal Integrator to help unwrap the function"
   ]
  },
  {
   "cell_type": "code",
   "execution_count": null,
   "metadata": {},
   "outputs": [],
   "source": [
    "# get the Azimuthal Integral1d"
   ]
  },
  {
   "cell_type": "code",
   "execution_count": null,
   "metadata": {},
   "outputs": [],
   "source": [
    "#get the 2D integral and then sum along the k direction\n",
    "radial_rep = dp.get_azimuthal_integral2d(npt=50, npt_azim=90).sum(axis=3).T\n",
    "radial_rep.axes_manager[0].units= \"Rad\"\n",
    "radial_rep.plot()"
   ]
  },
  {
   "cell_type": "markdown",
   "metadata": {},
   "source": [
    "## 3.0 Using Machiene Learning:\n",
    "\n",
    "We are going to use Non-negitivie Matrix factorization (NMF) to help segement our image. \n",
    "\n",
    "This is particularly useful becuase unlike SVD or PCA it applies the constraint that every value needs to be positive (which is particualarly important in our case where we can assume that each component is positive. \n",
    "\n",
    "More information on what ```hyperspy``` is calling :\n",
    "\n",
    "https://scikit-learn.org/stable/modules/generated/sklearn.decomposition.NMF.html#sklearn.decomposition.NMF"
   ]
  },
  {
   "cell_type": "code",
   "execution_count": null,
   "metadata": {},
   "outputs": [],
   "source": [
    "# preform NMF decomposition (try output_dimension =4)\n",
    "# Try other dimensions if you are interested. How does it change?"
   ]
  },
  {
   "cell_type": "code",
   "execution_count": null,
   "metadata": {},
   "outputs": [],
   "source": [
    "#plot decomposition loadinds and factors.  What does each loading and factor represent?"
   ]
  },
  {
   "cell_type": "markdown",
   "metadata": {},
   "source": [
    "## 4.0 Peak Finding:\n",
    "\n",
    "Pyxem also implements the hyperspy peak-finding algorithm which can be tuned to help identify diffraction spots.  \n",
    "\n",
    "This helps define diffraction vectors which can be used for a variety of different things\n",
    "\n",
    "In the example below we use the Difference of Gaussians (DOG) method from skimage to find the diffraction spots. \n",
    "\n",
    "https://scikit-image.org/docs/stable/auto_examples/features_detection/plot_blob.html?highlight=dog\n"
   ]
  },
  {
   "cell_type": "code",
   "execution_count": null,
   "metadata": {},
   "outputs": [],
   "source": [
    "#try adjusting the threshold here to find more or less peaks. \n",
    "# (Hint anything lower the 0.02 will fail take a long time to find all of the peaks)\n",
    "peaks = dp.find_peaks(method='difference_of_gaussian',\n",
    "                       min_sigma=1.,\n",
    "                       max_sigma=6.,\n",
    "                       sigma_ratio=1.6,\n",
    "                       threshold=0.02,\n",
    "                       overlap=0.99,\n",
    "                       interactive=False)"
   ]
  },
  {
   "cell_type": "code",
   "execution_count": null,
   "metadata": {},
   "outputs": [],
   "source": [
    "from pyxem.signals.diffraction_vectors import DiffractionVectors"
   ]
  },
  {
   "cell_type": "code",
   "execution_count": null,
   "metadata": {},
   "outputs": [],
   "source": [
    "peaks = DiffractionVectors.from_peaks(peaks,center=(72,72),calibration=recip_cal)"
   ]
  },
  {
   "cell_type": "code",
   "execution_count": null,
   "metadata": {},
   "outputs": [],
   "source": [
    "peaks.plot_diffraction_vectors_on_signal(dp, vmax=50)"
   ]
  },
  {
   "cell_type": "code",
   "execution_count": null,
   "metadata": {},
   "outputs": [],
   "source": [
    "# get the number of diffraction vectors at each point (x,y)\n",
    "crystim = peaks.get_diffracting_pixels_map(binary=False)\n",
    "crystim.plot(cmap='viridis')"
   ]
  },
  {
   "cell_type": "markdown",
   "metadata": {},
   "source": [
    "## 5.0 Phase and Orientation Mapping (Pattern Matching)\n",
    "\n",
    "We will move on to looking at a polymorphic GaAs Nanowire with two different phases present."
   ]
  },
  {
   "cell_type": "code",
   "execution_count": null,
   "metadata": {},
   "outputs": [],
   "source": [
    "# Loading data and setting everything up\n",
    "dp = hs.load('./data/polymorphic_nanowire.hdf5')\n",
    "accelarating_voltage = 200  # kV\n",
    "camera_length = 0.2  # m\n",
    "diffraction_calibration = 0.032  # px / Angstrom\n",
    "dp.data = dp.data.astype('float32')\n",
    "dp.data = dp.data *(1 / dp.data.max())\n",
    "scale_x = 0.995\n",
    "scale_y = 1.031\n",
    "offset_x = 0.631\n",
    "offset_y = -0.351\n",
    "dp.apply_affine_transformation(np.array([[scale_x, 0, offset_x],\n",
    "                                         [0, scale_y, offset_y],\n",
    "                                         [0, 0, 1]]))\n",
    "dp.plot()"
   ]
  },
  {
   "cell_type": "markdown",
   "metadata": {},
   "source": [
    "## 5.1 Subtracting the Background\n",
    "Perform difference of gaussian background subtraction with various parameters on one selected diffraction pattern and plot to identify good parameters. \n",
    "\n",
    "\n",
    "In this method we are basically trying to use a spatial band pass filter to remove anything that isn't a diffraction spot.  Our parameters should have a minimum sigma smaller than the smallest diffraction spot and larger than the largest diffraction spot. "
   ]
  },
  {
   "cell_type": "code",
   "execution_count": null,
   "metadata": {},
   "outputs": [],
   "source": [
    "from pyxem.utils.expt_utils import investigate_dog_background_removal_interactive"
   ]
  },
  {
   "cell_type": "code",
   "execution_count": null,
   "metadata": {},
   "outputs": [],
   "source": [
    "investigate_dog_background_removal_interactive?"
   ]
  },
  {
   "cell_type": "code",
   "execution_count": null,
   "metadata": {},
   "outputs": [],
   "source": [
    "# set up a test area\n",
    "dp_test_area = dp.inav[0, 0]\n",
    "gauss_stddev_maxs = np.arange(2, 12, 0.2) # min, max, step\n",
    "gauss_stddev_mins = np.arange(1, 4, 0.2) # min, max, step\n",
    "investigate_dog_background_removal_interactive(dp_test_area,\n",
    "                                               gauss_stddev_maxs,\n",
    "                                               gauss_stddev_mins)"
   ]
  },
  {
   "cell_type": "markdown",
   "metadata": {},
   "source": [
    "Remove background using difference of gaussians method with parameters identified above"
   ]
  },
  {
   "cell_type": "code",
   "execution_count": null,
   "metadata": {},
   "outputs": [],
   "source": [
    "# subtract the background using Difference of Gaussians"
   ]
  },
  {
   "cell_type": "code",
   "execution_count": null,
   "metadata": {},
   "outputs": [],
   "source": [
    "f= plt.figure(figsize=(9,5))\n",
    "hs.plot.plot_images([dp_test_area,dp.inav[0,0]], fig=f, label=[\"Before Subtraction\",\n",
    "                                                               \"After Subtraction\"])"
   ]
  },
  {
   "cell_type": "code",
   "execution_count": null,
   "metadata": {},
   "outputs": [],
   "source": [
    "dp.set_signal_type(\"electron_diffraction\") #this is needed because of a bug in the code\n",
    "dp.set_diffraction_calibration(diffraction_calibration)\n",
    "dp.set_scan_calibration(10)"
   ]
  },
  {
   "cell_type": "markdown",
   "metadata": {},
   "source": [
    "##  5.2 Pattern Matching\n",
    "Pattern matching generates a database of simulated diffraction patterns and then compares all simulated patterns against each experimental pattern to find the best match\n",
    "\n",
    "Import generators required for simulation and indexation"
   ]
  },
  {
   "cell_type": "code",
   "execution_count": null,
   "metadata": {},
   "outputs": [],
   "source": [
    "from diffsims.libraries.structure_library import StructureLibrary\n",
    "from diffsims.generators.diffraction_generator import DiffractionGenerator\n",
    "from diffsims.generators.library_generator import DiffractionLibraryGenerator\n",
    "\n",
    "from diffsims.generators.zap_map_generator import get_rotation_from_z_to_direction\n",
    "from diffsims.generators.rotation_list_generators import get_grid_around_beam_direction\n",
    "\n",
    "from pyxem.generators.indexation_generator import TemplateIndexationGenerator"
   ]
  },
  {
   "cell_type": "markdown",
   "metadata": {},
   "source": [
    "### Define Library of Structures & Orientations\n",
    "\n",
    "Define the crystal phases to be included in the simulated library"
   ]
  },
  {
   "cell_type": "code",
   "execution_count": null,
   "metadata": {},
   "outputs": [],
   "source": [
    "structure_zb = diffpy.structure.loadStructure('./data/GaAs_mp-2534_conventional_standard.cif')\n",
    "structure_wz = diffpy.structure.loadStructure('./data/GaAs_mp-8883_conventional_standard.cif')"
   ]
  },
  {
   "cell_type": "code",
   "execution_count": null,
   "metadata": {},
   "outputs": [],
   "source": [
    "#creating a basic roations list\n",
    "za110c = get_rotation_from_z_to_direction(structure_zb, [1,1,0])\n",
    "rot_list_cubic = get_grid_around_beam_direction(beam_rotation=za110c, resolution=1, angular_range=(0,180))\n",
    "za110h = get_rotation_from_z_to_direction(structure_wz, [1,1,0])\n",
    "rot_list_hex = get_grid_around_beam_direction(beam_rotation=za110h, resolution=1, angular_range=(0,180))"
   ]
  },
  {
   "cell_type": "code",
   "execution_count": null,
   "metadata": {},
   "outputs": [],
   "source": [
    "# Creating a Strucutre Library Object defininf the crystal strcutures which will be simulated. \n",
    "struc_lib = StructureLibrary(['ZB','WZ'],\n",
    "                             [structure_zb,structure_wz],\n",
    "                             [rot_list_cubic,rot_list_hex])"
   ]
  },
  {
   "cell_type": "code",
   "execution_count": null,
   "metadata": {},
   "outputs": [],
   "source": [
    "diff_gen = DiffractionGenerator(accelerating_voltage=accelarating_voltage)\n",
    "lib_gen = DiffractionLibraryGenerator(diff_gen)"
   ]
  },
  {
   "cell_type": "code",
   "execution_count": null,
   "metadata": {},
   "outputs": [],
   "source": [
    "target_pattern_dimension_pixels = dp.axes_manager.signal_shape[0]\n",
    "half_size = target_pattern_dimension_pixels // 2\n",
    "reciprocal_radius = diffraction_calibration*(half_size - 1)\n",
    "diff_lib = lib_gen.get_diffraction_library(struc_lib,\n",
    "                                           calibration=diffraction_calibration,\n",
    "                                           reciprocal_radius=reciprocal_radius,\n",
    "                                           half_shape=(half_size, half_size),\n",
    "                                           max_excitation_error=1/10,\n",
    "                                           with_direct_beam=False)"
   ]
  },
  {
   "cell_type": "markdown",
   "metadata": {},
   "source": [
    "## 5.3. Pattern Matching Indexation\n",
    "Initialize `TemplateIndexationGenerator` with the experimental data and diffraction library and perform correlation, returning the `n_largest` matches with highest correlation.\n",
    "\n",
    "<div class=\"alert alert-block alert-warning\"><b>Note:</b> This workflow has been changed from previous version, make sure you have pyxem 0.13.0 or later installed</div>"
   ]
  },
  {
   "cell_type": "code",
   "execution_count": null,
   "metadata": {},
   "outputs": [],
   "source": [
    "indexer = TemplateIndexationGenerator(dp, diff_lib)\n",
    "indexation_results = indexer.correlate(n_largest=3)"
   ]
  },
  {
   "cell_type": "markdown",
   "metadata": {},
   "source": [
    "crystal_map is now a CrystalMap object, which comes from orix, see their documentation for details. Below we lift their code to plot a phase map"
   ]
  },
  {
   "cell_type": "code",
   "execution_count": null,
   "metadata": {},
   "outputs": [],
   "source": [
    "crystal_map = indexation_results.to_crystal_map()"
   ]
  },
  {
   "cell_type": "code",
   "execution_count": null,
   "metadata": {},
   "outputs": [],
   "source": [
    "from matplotlib import pyplot as plt\n",
    "from orix import plot\n",
    "\n",
    "fig, ax = plt.subplots(subplot_kw=dict(projection=\"plot_map\"))\n",
    "im = ax.plot_map(crystal_map)\n",
    "print(crystal_map)"
   ]
  },
  {
   "cell_type": "markdown",
   "metadata": {},
   "source": [
    "<a id='tem'></a>\n",
    "##  6.0 Angular Correlations and FEM"
   ]
  },
  {
   "cell_type": "markdown",
   "metadata": {},
   "source": [
    "###  6.1 Data Loading and Visualization\n",
    "\n",
    "Below we are going to load a dataset for a PdNiP glass and look at the dominate symmetries in the glass.\n",
    "\n",
    "To do this we cacluate the angular correlation defined below. \n",
    "\n",
    "<p style=\"text-align: center;\">\n",
    "$ C(k,\\phi) = \\frac{<I(k, \\theta)*I(k, \\theta+\\phi)>_\\theta - <I(k,\\theta)>^2_\\theta }{<I(k, \\theta)>^2_\\theta} $\n",
    "</p>\n",
    "\n",
    "This gives us the symmetry of some diffraction pattern regaurdless of orientation. "
   ]
  },
  {
   "cell_type": "code",
   "execution_count": null,
   "metadata": {},
   "outputs": [],
   "source": [
    "dp = hs.load(\"./data/PdNiP_test.hspy\")"
   ]
  },
  {
   "cell_type": "code",
   "execution_count": null,
   "metadata": {},
   "outputs": [],
   "source": [
    "dp.set_signal_type(\"electron_diffraction\")\n",
    "dp.beam_energy=200\n",
    "dp.unit = \"k_nm^-1\"\n",
    "# Affine correction from fitting an ellipse\n",
    "import numpy as np\n",
    "center=(31.2,31.7)\n",
    "affine=np.array([[ 1.03725511, -0.02662789,  0.        ],\n",
    "                 [-0.02662789,  1.01903215,  0.        ],\n",
    "                 [ 0.        ,  0.        ,  1.        ]])"
   ]
  },
  {
   "cell_type": "code",
   "execution_count": null,
   "metadata": {},
   "outputs": [],
   "source": []
  },
  {
   "cell_type": "code",
   "execution_count": null,
   "metadata": {},
   "outputs": [],
   "source": [
    "dp.plot(vmax=5000)"
   ]
  },
  {
   "cell_type": "code",
   "execution_count": null,
   "metadata": {},
   "outputs": [],
   "source": [
    "#set ai \n",
    "dp.set_ai(center=center)\n"
   ]
  },
  {
   "cell_type": "code",
   "execution_count": null,
   "metadata": {},
   "outputs": [],
   "source": [
    "#get the azimuthal integral\n"
   ]
  },
  {
   "cell_type": "code",
   "execution_count": null,
   "metadata": {},
   "outputs": [],
   "source": [
    "dp.sum().plot()"
   ]
  },
  {
   "cell_type": "code",
   "execution_count": null,
   "metadata": {},
   "outputs": [],
   "source": [
    "#create a mask\n",
    "summed = dp.sum()\n",
    "mask = ((summed.data>4e6) +(summed.data<3e5))"
   ]
  },
  {
   "cell_type": "code",
   "execution_count": null,
   "metadata": {},
   "outputs": [],
   "source": [
    "#plot the mask\n"
   ]
  },
  {
   "cell_type": "code",
   "execution_count": null,
   "metadata": {},
   "outputs": [],
   "source": [
    "# plot the polar image"
   ]
  },
  {
   "cell_type": "code",
   "execution_count": null,
   "metadata": {},
   "outputs": [],
   "source": [
    "#get the angular correlation"
   ]
  },
  {
   "cell_type": "code",
   "execution_count": null,
   "metadata": {},
   "outputs": [],
   "source": [
    "#plot the angular correlation"
   ]
  },
  {
   "cell_type": "code",
   "execution_count": null,
   "metadata": {},
   "outputs": [],
   "source": [
    "# get the angular power spectrum\n"
   ]
  },
  {
   "cell_type": "code",
   "execution_count": null,
   "metadata": {},
   "outputs": [],
   "source": [
    "#plot the angular symmetries. \n",
    "import matplotlib.pyplot as plt\n",
    "f = plt.figure(figsize=(15,10))\n",
    "dp.plot_symmetries(k_region = [3.,4.5],fig=f)"
   ]
  },
  {
   "cell_type": "code",
   "execution_count": null,
   "metadata": {},
   "outputs": [],
   "source": []
  }
 ],
 "metadata": {
  "kernelspec": {
   "display_name": "Python 3",
   "language": "python",
   "name": "python3"
  },
  "language_info": {
   "codemirror_mode": {
    "name": "ipython",
    "version": 3
   },
   "file_extension": ".py",
   "mimetype": "text/x-python",
   "name": "python",
   "nbconvert_exporter": "python",
   "pygments_lexer": "ipython3",
   "version": "3.7.3"
  }
 },
 "nbformat": 4,
 "nbformat_minor": 2
}
