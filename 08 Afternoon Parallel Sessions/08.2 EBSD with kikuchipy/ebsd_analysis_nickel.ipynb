{
 "cells": [
  {
   "cell_type": "markdown",
   "id": "e00b1224-4302-41da-9598-b38fd5092ebd",
   "metadata": {},
   "source": [
    "# Electron Backscatter Diffraction (EBSD) analysis of polycrystalline Nickel\n",
    "\n",
    "The goal of EBSD analysis is often to determine the crystal orientation from each EBSD pattern, typically called *indexing*. One approach is dictionary indexing, first described in Chen et al. (2015) ([doi](https://doi.org/10.1017/S1431927615000756)). Here we'll demonstrate how to do this in [kikuchipy](https://kikuchipy.org). The implementation is based on the one in EMsoft, as described in Jackson et al. (2017) ([doi](https://doi.org/10.1007/s40192-019-00137-4)).\n",
    "\n",
    "Dictionary indexing is not as tried and tested as the commonly used Hough indexing. To aid the evaluation of dictionary indexing results, we therefore first obtain several maps to get an overview of the quality of the EBSD patterns and the features in the region of interest before indexing, independent of any bias introdued in indexing. After indexing, we'll also inspect the results visually using dynamical and geometrical EBSD simulations.\n",
    "\n",
    "The following links might be useful:\n",
    "* User guide with notebooks, reference to all classes and functions, and more: https://kikuchipy.org\n",
    "* Source code, issue tracker, and more: https://github.com/pyxem/kikuchipy\n",
    "* Chat or discussions: https://gitter.im/pyxem/kikuchipy or https://github.com/pyxem/kikuchipy/discussions\n",
    "\n",
    "### Author\n",
    "* 29/7/2021 Håkon Wiik Ånes - Written for M&M 2021 Sunday Short Course *X-15 Data Analysis in Materials Science*\n",
    "* 23/7/2022 Joshua Taillon - Confirmed/tweaked language for 2022 M&M Sunday Short Course\n",
    "\n",
    "### Requirements\n",
    "* kikuchipy 0.6.1+\n",
    "\n",
    "## <a id='toc'>Table of contents</a>\n",
    "1. <a href='#1'>Load and view data</a>\n",
    "2. <a href='#2'>Pre-pattern-processing maps</a>\n",
    "3. <a href='#3'>Process pattern intensities</a>\n",
    "4. <a href='#4'>Pre-indexing maps</a>\n",
    "5. <a href='#5'>Dictionary indexing</a>\n",
    "6. <a href='#6'>Inspect indexing results</a>\n",
    "7. <a href='#7'>Going further</a>\n",
    "\n",
    "# <a id='1'>1. Load and view data</a>\n",
    "\n",
    "<a href='#toc'>Table of contents</a>\n",
    "\n",
    "Set Matplotlib plotting backend and import packages"
   ]
  },
  {
   "cell_type": "code",
   "execution_count": null,
   "id": "69885abb-940e-4739-b778-1739cf8df9f5",
   "metadata": {},
   "outputs": [],
   "source": [
    "%matplotlib notebook\n",
    "# Other backends:\n",
    "# * qt5: interactive plotting locally, from the pyqt package which might have to be installed separately\n",
    "# * notebook: interactive plotting in Binder\n",
    "\n",
    "import hyperspy.api as hs\n",
    "import matplotlib.pyplot as plt\n",
    "\n",
    "# pyxem family of packages (except pyxem)\n",
    "from diffsims.crystallography import ReciprocalLatticeVector\n",
    "import kikuchipy as kp\n",
    "from orix import io, quaternion, sampling, vector"
   ]
  },
  {
   "cell_type": "markdown",
   "id": "20e6fe49",
   "metadata": {},
   "source": [
    "Load (and download) an EBSD dataset of polycrystalline, recrystallized Nickel which is part of the `kikuchipy.data` module (\"large\" = 13 MB, compared to \"small\" < 1 MB)."
   ]
  },
  {
   "cell_type": "code",
   "execution_count": null,
   "id": "096de352",
   "metadata": {},
   "outputs": [],
   "source": [
    "# download nickel EBSD data (13MB)\n",
    "\n"
   ]
  },
  {
   "cell_type": "markdown",
   "id": "1801e74e",
   "metadata": {},
   "source": [
    "Inspect the navigation and signal dimensions (more closely) in the `axes_manager`"
   ]
  },
  {
   "cell_type": "code",
   "execution_count": null,
   "id": "c7eb8744",
   "metadata": {},
   "outputs": [],
   "source": [
    "# Inspect axes_manager\n"
   ]
  },
  {
   "cell_type": "markdown",
   "id": "0a7cd3a6",
   "metadata": {},
   "source": [
    "Plot the data (by navigating the patterns in a mean intensity map) with `plot()`"
   ]
  },
  {
   "cell_type": "code",
   "execution_count": null,
   "id": "26cd3add",
   "metadata": {},
   "outputs": [],
   "source": [
    "# Plot the data\n"
   ]
  },
  {
   "cell_type": "markdown",
   "id": "e237e4f7",
   "metadata": {},
   "source": [
    "Note that `kikuchipy` has a `kikuchipy.load()` function almost identical to `hyperspy.api.load()`, which can read several commercial EBSD formats. See the [IO user guide](https://kikuchipy.org/en/latest/load_save_data.html) for more information."
   ]
  },
  {
   "cell_type": "markdown",
   "id": "7b11e36a-3bc6-481e-a6a8-23e6fb232694",
   "metadata": {},
   "source": [
    "# <a id='2'>2. Pre-pattern-processing maps</a>\n",
    "\n",
    "<a href='#toc'>Table of contents</a>\n",
    "\n",
    "## Mean intensity in each pattern\n",
    "\n",
    "Get the map of the mean intensity in each pattern with `mean()`"
   ]
  },
  {
   "cell_type": "code",
   "execution_count": null,
   "id": "cabc49c8-fb34-4e64-9fd2-5b3b2c79d88c",
   "metadata": {},
   "outputs": [],
   "source": [
    "# calculate and inspect mean intensity of each pattern\n",
    "\n"
   ]
  },
  {
   "cell_type": "markdown",
   "id": "c04da323",
   "metadata": {},
   "source": [
    "Plot the mean intensity map"
   ]
  },
  {
   "cell_type": "code",
   "execution_count": null,
   "id": "4a9376ec",
   "metadata": {},
   "outputs": [],
   "source": [
    "# plot mean intensity\n"
   ]
  },
  {
   "cell_type": "markdown",
   "id": "3f0927f2-3a06-4b51-ae07-fac43bd749b7",
   "metadata": {},
   "source": [
    "## Virtual backscatter electron (VBSE) images\n",
    "\n",
    "Inspect angle resolved backscatter electron (BSE) images, typically called VBSE/vBSE/virtual diode imaging.\n",
    "\n",
    "Create a `VirtualBSEGenerator`"
   ]
  },
  {
   "cell_type": "code",
   "execution_count": null,
   "id": "367a3fcf-f180-4872-b054-a820e669131c",
   "metadata": {},
   "outputs": [],
   "source": [
    "# create a virtual backscatter detector\n",
    "\n"
   ]
  },
  {
   "cell_type": "markdown",
   "id": "acde005d-6dce-417c-9948-b6c9f130de4b",
   "metadata": {},
   "source": [
    "### One image per VBSE grid tile"
   ]
  },
  {
   "cell_type": "markdown",
   "id": "727b6e6c",
   "metadata": {},
   "source": [
    "Separate the EBSD detector (signal dimensions) into a (3 x 3) grid by setting `grid_shape`"
   ]
  },
  {
   "cell_type": "code",
   "execution_count": null,
   "id": "2bfbaf06-d150-41c3-8a19-5dce95cb0ede",
   "metadata": {},
   "outputs": [],
   "source": [
    "# set up virtual detector grid shape\n"
   ]
  },
  {
   "cell_type": "markdown",
   "id": "6a1b028b",
   "metadata": {},
   "source": [
    "Plot the grid with `plot_grid()`"
   ]
  },
  {
   "cell_type": "code",
   "execution_count": null,
   "id": "71ff4960",
   "metadata": {},
   "outputs": [],
   "source": [
    "# visualize the grid\n"
   ]
  },
  {
   "cell_type": "markdown",
   "id": "81545ae3",
   "metadata": {},
   "source": [
    "Get one VBSE image from the intensity within each grid tile with `get_images_from_grid()`"
   ]
  },
  {
   "cell_type": "code",
   "execution_count": null,
   "id": "90157091-257f-4732-b9ed-e66b3f56f122",
   "metadata": {},
   "outputs": [],
   "source": [
    "# calculate virtual backscatter images from grid\n",
    "\n"
   ]
  },
  {
   "cell_type": "markdown",
   "id": "00e68f5e",
   "metadata": {},
   "source": [
    "Plot the images (one by one)"
   ]
  },
  {
   "cell_type": "code",
   "execution_count": null,
   "id": "cf7ca51d",
   "metadata": {},
   "outputs": [],
   "source": [
    "# plot the virtual images\n"
   ]
  },
  {
   "cell_type": "markdown",
   "id": "5dc4f0f4",
   "metadata": {},
   "source": [
    "Strech the image contrast in each VBSE image by setting the darkest intensities to 0 and the highest intensities to 255 within the 0.5% percentiles, using `rescale_intensity()`"
   ]
  },
  {
   "cell_type": "code",
   "execution_count": null,
   "id": "19d684a3",
   "metadata": {},
   "outputs": [],
   "source": [
    "# rescale virtual backscatter image intensities\n"
   ]
  },
  {
   "cell_type": "markdown",
   "id": "f868634f",
   "metadata": {},
   "source": [
    "Replot the images after intensity rescaling in a nice image grid using HyperSpy's `plot_images()`"
   ]
  },
  {
   "cell_type": "code",
   "execution_count": null,
   "id": "ef6da9e5",
   "metadata": {},
   "outputs": [],
   "source": [
    "# plot the results\n"
   ]
  },
  {
   "cell_type": "markdown",
   "id": "2bbab314-0ec1-4f0c-9e3e-8564f75ba957",
   "metadata": {},
   "source": [
    "### RGB image"
   ]
  },
  {
   "cell_type": "markdown",
   "id": "ced65a79",
   "metadata": {},
   "source": [
    "Separate the EBSD detector into a (5 x 5) grid"
   ]
  },
  {
   "cell_type": "code",
   "execution_count": null,
   "id": "930b87c9",
   "metadata": {},
   "outputs": [],
   "source": [
    "# create a larger 5x5 grid for virtual backscatter images\n"
   ]
  },
  {
   "cell_type": "markdown",
   "id": "b84bcdd1",
   "metadata": {},
   "source": [
    "Set some (can be more than one) of the grid tiles to be coloured red, green, or blue, and plot the color key"
   ]
  },
  {
   "cell_type": "code",
   "execution_count": null,
   "id": "b4804951",
   "metadata": {},
   "outputs": [],
   "source": [
    "# Select certain grids to correspond to R, G, and B channels and plot grid\n",
    "\n"
   ]
  },
  {
   "cell_type": "markdown",
   "id": "b1c588f1",
   "metadata": {},
   "source": [
    "Create an RGB image from the specified grid tiles with `get_rgb_image()`"
   ]
  },
  {
   "cell_type": "code",
   "execution_count": null,
   "id": "8ab028fd-8400-4fba-afc2-f94883839d25",
   "metadata": {},
   "outputs": [],
   "source": [
    "# create an RGB image using the above settings\n",
    "\n"
   ]
  },
  {
   "cell_type": "markdown",
   "id": "c05bc6cc",
   "metadata": {},
   "source": [
    "Plot the resulting image"
   ]
  },
  {
   "cell_type": "code",
   "execution_count": null,
   "id": "176a7524",
   "metadata": {},
   "outputs": [],
   "source": [
    "# plot the resulting RGB image\n"
   ]
  },
  {
   "cell_type": "markdown",
   "id": "e63c3bcb-a5ba-434d-abda-7333b4b67671",
   "metadata": {},
   "source": [
    "# <a id='3'>3. Process pattern intensities</a>\n",
    "\n",
    "<a href='#toc'>Table of contents</a>\n",
    "\n",
    "The raw EBSD signal can be empirically evaluated as a superposition of a Kikuchi diffraction pattern and a smooth background intensity. For pattern indexing, the latter intensity is usually undesirable, while for VBSE imaging, as we saw above, this intensity can reveal topographical, compositional or diffraction contrast.\n",
    "\n",
    "## Remove the static background\n",
    "\n",
    "Effects which are constant, like hot pixels or dirt on the detector, can be removed by either subtracting or dividing by a static background. Ideally, this background pattern has no signal of interest.\n",
    "\n",
    "A static background pattern was acquired with the Nickel EBSD data set, which was loaded with the data set into the signal metadata.\n",
    "\n",
    "Retrieve this background from the `metadata` and plot it"
   ]
  },
  {
   "cell_type": "code",
   "execution_count": null,
   "id": "77f55501",
   "metadata": {},
   "outputs": [],
   "source": [
    "# retrieve static background from the signal's metadata and plot\n",
    "\n",
    "\n",
    "\n"
   ]
  },
  {
   "cell_type": "markdown",
   "id": "b41f5b66",
   "metadata": {},
   "source": [
    "If one is not available, we can try to generate a suitable static background by averaging all patterns (and reverting the data type to 8-bit unsigned integers)"
   ]
  },
  {
   "cell_type": "code",
   "execution_count": null,
   "id": "e41d1dc3",
   "metadata": {},
   "outputs": [],
   "source": [
    "# we can also generate a background by averaging all patterns\n",
    "\n"
   ]
  },
  {
   "cell_type": "markdown",
   "id": "e0253a8c",
   "metadata": {},
   "source": [
    "Compare it to the background from the metadata by plotting it"
   ]
  },
  {
   "cell_type": "code",
   "execution_count": null,
   "id": "076ef482",
   "metadata": {},
   "outputs": [],
   "source": [
    "# plot the calculated static background\n"
   ]
  },
  {
   "cell_type": "markdown",
   "id": "2da01f66",
   "metadata": {},
   "source": [
    "Remove the static background with `remove_static_background()`"
   ]
  },
  {
   "cell_type": "code",
   "execution_count": null,
   "id": "97dae9df-1090-42aa-995d-e2eb96d0a4e6",
   "metadata": {},
   "outputs": [],
   "source": [
    "# remove the static background from the signal\n"
   ]
  },
  {
   "cell_type": "markdown",
   "id": "2d239e33",
   "metadata": {},
   "source": [
    "## Remove the dynamic background\n",
    "\n",
    "Uneven intensity in a static background subtracted pattern can be corrected by subtracting or dividing by a dynamic background obtained by Gaussian blurring. A Gaussian window with a standard deviation set by `std` is used to blur each pattern individually (dynamic) either in the spatial or frequency domain. Blurring in the frequency domain is effectively accomplished by a low-pass Fast Fourier Transform (FFT) filter. The individual Gaussian blurred dynamic backgrounds are then subtracted or divided from the respective patterns.\n",
    "\n",
    "Remove the dynamic background with `remove_dynamic_background()`"
   ]
  },
  {
   "cell_type": "code",
   "execution_count": null,
   "id": "f2002bec-36a4-4ab3-b2f6-9f3f074ad7c3",
   "metadata": {},
   "outputs": [],
   "source": [
    "# remove dynamic background from the signal\n"
   ]
  },
  {
   "cell_type": "markdown",
   "id": "e835aba9",
   "metadata": {},
   "source": [
    "## Average neighbour patterns\n",
    "\n",
    "The signal-to-noise ratio in patterns can be improved by averaging patterns with their closest neighbours within a window/kernel/mask.\n",
    "\n",
    "Let's average with all eight nearest neighbours, but use Gaussian weights with a standard deviation of 1. Create the Gaussian `filters.Window` and plot it"
   ]
  },
  {
   "cell_type": "code",
   "execution_count": null,
   "id": "c3a6ebb6",
   "metadata": {},
   "outputs": [],
   "source": [
    "# create a Gaussian window function to average neighboring patterns\n",
    "\n",
    "\n",
    "# visualize that window\n"
   ]
  },
  {
   "cell_type": "markdown",
   "id": "0d7e4ae0",
   "metadata": {},
   "source": [
    "Average all patterns with their neighbour patterns using the Gaussian window with `average_neighbour_patterns()`"
   ]
  },
  {
   "cell_type": "code",
   "execution_count": null,
   "id": "8696b773",
   "metadata": {},
   "outputs": [],
   "source": [
    "# Average neighboring patterns using the pre-computed window from above\n"
   ]
  },
  {
   "cell_type": "markdown",
   "id": "84719e22",
   "metadata": {},
   "source": [
    "We can subsequently save these patterns to `kikuchipy`'s own h5ebsd specification (see Jackson et al. (2014) ([doi](https://doi.org/10.1186/2193-9772-3-4)) for the general format). This format can be read back into kikuchipy, or as a file in the `EMEBSD` format in the powerful suite of [EMsoft](http://vbff.materials.cmu.edu/EMsoft/) command line programs."
   ]
  },
  {
   "cell_type": "code",
   "execution_count": null,
   "id": "359db6c5-f13b-4f6f-8491-c66fbb419c0f",
   "metadata": {},
   "outputs": [],
   "source": [
    "#s.save(\"pattern_static_dynamic_averaged.h5\")"
   ]
  },
  {
   "cell_type": "markdown",
   "id": "cb155960",
   "metadata": {},
   "source": [
    "Note that neighbour pattern averaging increases the virtual interaction volume of the electron beam with the sample, leading to a potential loss in spatial resolution. Averaging may in some cases, like on grain boundaries, mix two or more different diffraction patterns, which might be unwanted. See Wright et al. (2015) ([doi](https://doi.org/10.1016/j.ultramic.2015.08.001)) for a discussion of this concern."
   ]
  },
  {
   "cell_type": "markdown",
   "id": "2f68fb74-ca38-43db-b1a8-a66901e1a0f8",
   "metadata": {},
   "source": [
    "# <a id='4'>4. Pre-indexing maps</a>\n",
    "\n",
    "<a href='#toc'>Table of contents</a>\n",
    "\n",
    "The image quality metric *Q* presented by Krieger Lassen ([PhD thesis](http://www.ebsd.info/pdf/PhD_KriegerLassen.pdf)) relies on the assumption that the sharper the Kikuchi bands, the greater the high frequency content of the FFT power spectrum, and thus the closer *Q* will be to unity. It can from this be expected that grain interiors will show a high *Q*, while grain boundaries will show a lower *Q*.\n",
    "\n",
    "Get the image quality map with `get_image_quality()`"
   ]
  },
  {
   "cell_type": "code",
   "execution_count": null,
   "id": "2b6d302d-505a-4c8d-a0eb-e817a1f64d64",
   "metadata": {},
   "outputs": [],
   "source": [
    "# get an image quality map from the EBSD signal\n"
   ]
  },
  {
   "cell_type": "markdown",
   "id": "d1946515",
   "metadata": {},
   "source": [
    "We can also produce a map showing how similar each pattern is to their four nearest neighbour (or any other number of neighbours specified by a binary mask). Get the average neighbour dot product map with `get_average_neighbour_dot_product_map()`"
   ]
  },
  {
   "cell_type": "code",
   "execution_count": null,
   "id": "22ed4662-0935-4d9c-b399-c4c1171077e9",
   "metadata": {},
   "outputs": [],
   "source": [
    "# Calculate the average neighbor similarity map\n"
   ]
  },
  {
   "cell_type": "markdown",
   "id": "be28d320",
   "metadata": {},
   "source": [
    "Let's plot them side by side with colorbars using `Matplotlib`"
   ]
  },
  {
   "cell_type": "code",
   "execution_count": null,
   "id": "c1455990",
   "metadata": {},
   "outputs": [],
   "source": [
    "# Plot the image quality stats and the pixel neighbor similarity maps (show grain/twin boundaries)\n",
    "\n"
   ]
  },
  {
   "cell_type": "markdown",
   "id": "4a19c77d",
   "metadata": {},
   "source": [
    "# <a id='5'>5. Dictionary indexing</a>\n",
    "\n",
    "<a href='#toc'>Table of contents</a>\n",
    "\n",
    "Now we're ready to set up and run dictionary indexing of the background corrected and averaged patterns.\n",
    "\n",
    "## Load master pattern\n",
    "\n",
    "Before we can generate a dictionary of simulated patterns, we need a dynamically simulated master pattern containing all possible scattering vectors for a candidate phase. This can be simulated using `EMsoft` (Callahan and De Graef, 2013, [doi](https://doi.org/10.1017/S1431927613001840)) and subsequently imported into kikuchipy using `kikuchipy.load()`.\n",
    "\n",
    "For demonstration purposes, we've included small (401 x 401) master patterns of Nickel in the stereographic and Lambert (square) projections as part of the `kikuchipy.data` module. Load the 20 keV master pattern from the northern hemisphere in the Lambert projection"
   ]
  },
  {
   "cell_type": "code",
   "execution_count": null,
   "id": "bb04ea26",
   "metadata": {},
   "outputs": [],
   "source": [
    "# load the included nickel master pattern\n",
    "\n"
   ]
  },
  {
   "cell_type": "markdown",
   "id": "aaf73c45",
   "metadata": {},
   "source": [
    "Plot the master pattern"
   ]
  },
  {
   "cell_type": "code",
   "execution_count": null,
   "id": "bfe245f9",
   "metadata": {},
   "outputs": [],
   "source": [
    "# plot the master pattern\n"
   ]
  },
  {
   "cell_type": "markdown",
   "id": "860c660c",
   "metadata": {},
   "source": [
    "Extract `phase` information loaded with the master pattern"
   ]
  },
  {
   "cell_type": "code",
   "execution_count": null,
   "id": "f534bf20",
   "metadata": {},
   "outputs": [],
   "source": [
    "# extract phase information from the master pattern\n",
    "\n"
   ]
  },
  {
   "cell_type": "markdown",
   "id": "00c0a2a4",
   "metadata": {},
   "source": [
    "Inspect it's crystal `structure` (list of asymmetric atom positions and a `structure.lattice`)"
   ]
  },
  {
   "cell_type": "code",
   "execution_count": null,
   "id": "c56a559a",
   "metadata": {},
   "outputs": [],
   "source": [
    "# inspect the structure of the phase\n"
   ]
  },
  {
   "cell_type": "code",
   "execution_count": null,
   "id": "525ec54e",
   "metadata": {},
   "outputs": [],
   "source": [
    "# visualize the lattice of the structure\n"
   ]
  },
  {
   "cell_type": "markdown",
   "id": "17cbaa33",
   "metadata": {},
   "source": [
    "## Sample orientation space\n",
    "\n",
    "Here we produce a sampling of the Rodriguez Fundamental Zone (RFZ) of point group $m\\bar{3}m$ using a \"characteristic distance\" or \"resolution\" of 3$^{\\circ}$, as implemented in [orix](https://orix.readthedocs.io). This resolution is quite coarse, and used here because of time and memory constraints. We, and EMsoft (see the aforementioned tutorial article by Jackson et al.), suggest using a smaller resolution of about 1.5$^{\\circ}$ for experimental work.\n",
    "\n",
    "Sample the RFZ for the Ni phase space group with a resolution of 3$^{\\circ}$ using `orix.sampling.get_sample_fundamental()` and inspect the results"
   ]
  },
  {
   "cell_type": "code",
   "execution_count": null,
   "id": "cda85375",
   "metadata": {},
   "outputs": [],
   "source": [
    "# sample the Rodriquez Fundamental Zone of the space group from above\n",
    "\n",
    "\n",
    "\n"
   ]
  },
  {
   "cell_type": "markdown",
   "id": "cdc44937",
   "metadata": {},
   "source": [
    "## Define the sample-detector geometry\n",
    "\n",
    "Now that we have our master pattern and crystal orientations, we need to describe the EBSD detector’s position with respect to the sample. This ensures that projecting parts of the master pattern onto our detector yields dynamically simulated patterns presumably resembling our experimental ones. The average projection/pattern center (PC) for this experiment was determined by indexing five calibration patterns using the EDAX TSL Data Collection v7 software, and is ($x^*$, $y^*$, $z^*$) = (0.4210, 0.7794, 0.5049).\n",
    "\n",
    "Create the `detector.EBSDDetector` and inspect it"
   ]
  },
  {
   "cell_type": "code",
   "execution_count": null,
   "id": "89e5f7c3",
   "metadata": {},
   "outputs": [],
   "source": [
    "# set up the sample-detector geometry\n",
    "\n",
    "\n",
    "\n",
    "\n",
    "\n"
   ]
  },
  {
   "cell_type": "markdown",
   "id": "48f939ea",
   "metadata": {},
   "source": [
    "Let's double check the projection/pattern center (PC) position on the detector by plotting it in gnomonic coordinates and showing the gnomonic circles at 10$^{\\circ}$ steps"
   ]
  },
  {
   "cell_type": "code",
   "execution_count": null,
   "id": "bb003466",
   "metadata": {},
   "outputs": [],
   "source": [
    "# plot the projection center on an experimental pattern\n"
   ]
  },
  {
   "cell_type": "markdown",
   "id": "40506d71",
   "metadata": {},
   "source": [
    "## Generate dictionary of simulated patterns\n",
    "\n",
    "Now we’re ready to generate our dictionary of simulated patterns by projecting parts of the master pattern onto our detector for all sampled orientations. The method assumes the crystal orientations are represented with respect to the EDAX TSL sample reference frame RD-TD-ND. For more details, see the [reference frame user guide](https://kikuchipy.org/en/stable/reference_frames.html).\n",
    "\n",
    "So, generate a dictionary of simulated patterns using `MasterPattern.get_patterns()`"
   ]
  },
  {
   "cell_type": "code",
   "execution_count": null,
   "id": "c1429039",
   "metadata": {},
   "outputs": [],
   "source": [
    "# generate dictionary of simulated patterns:\n"
   ]
  },
  {
   "cell_type": "markdown",
   "id": "f3a7351b",
   "metadata": {},
   "source": [
    "We've now generated the dictionary and read it into memory. We could instead have passed `compute=False`, which would have returned a `LazyEBSD` to be computed during the indexing run. This can sometimes be desirable.\n",
    "\n",
    "Let's inspect a few of the simulated patterns to ensure they look alright by plotting them"
   ]
  },
  {
   "cell_type": "code",
   "execution_count": null,
   "id": "ed08fb09",
   "metadata": {},
   "outputs": [],
   "source": [
    "# plot the simulated patterns and examine them\n"
   ]
  },
  {
   "cell_type": "markdown",
   "id": "36a83e65",
   "metadata": {},
   "source": [
    "## Perform dictionary indexing\n",
    "\n",
    "Finally, let's match the simulated patterns to our experimental patterns, using the zero-mean normalized cross correlation (NCC) coefficient, which is the default similarity metric. We'll keep the 20 best matching orientations. A number of about 4125 * 35000 comparisons is quite small, which we can do in memory all at once. However, in cases where the number of comparisons are too big for our memory to handle, we can separate our simulated pattern data into slices. We'll use 20 slices here.\n",
    "\n",
    "Let's perform `dictionary_indexing()`"
   ]
  },
  {
   "cell_type": "code",
   "execution_count": null,
   "id": "e6d66897",
   "metadata": {},
   "outputs": [],
   "source": [
    "# perform the actual dictionary indexing on the signal using the simulated dictionary\n",
    "\n",
    "\n",
    "\n",
    "\n",
    "\n"
   ]
  },
  {
   "cell_type": "markdown",
   "id": "24b2a058",
   "metadata": {},
   "source": [
    "Inspect the returned [CrystalMap](https://orix.readthedocs.io/en/stable/crystal_map.html)"
   ]
  },
  {
   "cell_type": "code",
   "execution_count": null,
   "id": "dc2730f2",
   "metadata": {},
   "outputs": [],
   "source": [
    "# inspect the crystalmap in \"xmap\"\n"
   ]
  },
  {
   "cell_type": "markdown",
   "id": "7b08cfd7",
   "metadata": {},
   "source": [
    "We can write the indexing results to file using one of orix' writers. orix' own HDF5 file format stores all results to in HDF5 file, while the .ang file writer only stores the best matching orientation"
   ]
  },
  {
   "cell_type": "code",
   "execution_count": null,
   "id": "d2958cca",
   "metadata": {},
   "outputs": [],
   "source": [
    "#io.save(\"di_results_ni1.h5\", xmap)\n",
    "#io.save(\"di_results_ni1.ang\", xmap)"
   ]
  },
  {
   "cell_type": "markdown",
   "id": "cd3bb947",
   "metadata": {},
   "source": [
    "# <a id='6'>6. Inspect indexing results</a>\n",
    "\n",
    "<a href='#toc'>Table of contents</a>\n",
    "\n",
    "## Indexing maps\n",
    "\n",
    "So far, orix cannot produce any orientation color maps, pole figures etc. This has to be done in other software, like [MTEX](https://mtex-toolbox.github.io/).\n",
    "\n",
    "Here, we'll inspect the map of best matching scores and a so-called orientation similarity map, which compares the best matching orientations for each pattern to it's nearest neighbours.\n",
    "\n",
    "Get the NCC map in the correct shape from the CrystalMap's `scores` property"
   ]
  },
  {
   "cell_type": "code",
   "execution_count": null,
   "id": "a8335823",
   "metadata": {},
   "outputs": [],
   "source": [
    "# calculate normalized cross correlation map\n"
   ]
  },
  {
   "cell_type": "markdown",
   "id": "7360a9a2",
   "metadata": {},
   "source": [
    "Get the `indexing.orientation_similarity_map()` using the full list of 20 best matches per pattern/point"
   ]
  },
  {
   "cell_type": "code",
   "execution_count": null,
   "id": "1acd8946",
   "metadata": {},
   "outputs": [],
   "source": [
    "# calculate orientation similarity map\n"
   ]
  },
  {
   "cell_type": "markdown",
   "id": "3bc54078",
   "metadata": {},
   "source": [
    "Plot the maps using `Matplotlib`"
   ]
  },
  {
   "cell_type": "code",
   "execution_count": null,
   "id": "cf7a1909",
   "metadata": {},
   "outputs": [],
   "source": [
    "# plot the maps from the last step\n",
    "\n",
    "\n",
    "\n",
    "\n",
    "\n"
   ]
  },
  {
   "cell_type": "markdown",
   "id": "35b75a76",
   "metadata": {},
   "source": [
    "## Compare to dynamical simulations\n",
    "\n",
    "We can visually compare the experimental and best matching pattern side by side. First, we extract the best matching indices into the dictionary from the CrystalMap property `simulation_indices`"
   ]
  },
  {
   "cell_type": "code",
   "execution_count": null,
   "id": "5ba2f9f4",
   "metadata": {},
   "outputs": [],
   "source": [
    "# extract the best matching pattern\n"
   ]
  },
  {
   "cell_type": "markdown",
   "id": "3d97da95",
   "metadata": {},
   "source": [
    "Then we extract the simulated patterns corresponding to the indices, reshape the array to the same shape as the experimental data, and create an EBSD signal from it"
   ]
  },
  {
   "cell_type": "code",
   "execution_count": null,
   "id": "1322f22e",
   "metadata": {},
   "outputs": [],
   "source": [
    "# Extract the simulated patterns and reshape to match experimental data\n",
    "\n",
    "\n",
    "# create EBSD signal from it\n",
    "\n"
   ]
  },
  {
   "cell_type": "markdown",
   "id": "e383e0d6",
   "metadata": {},
   "source": [
    "Plot the experimental and simulated patterns (this is not easily done via Binder...) side by side using HyperSpy's `plot_signals()`, navigating in the NCC map"
   ]
  },
  {
   "cell_type": "code",
   "execution_count": null,
   "id": "f9c863ef",
   "metadata": {
    "scrolled": false
   },
   "outputs": [],
   "source": [
    "# use plot_signals to compare the experimental and simulated patterns\n",
    "\n"
   ]
  },
  {
   "cell_type": "markdown",
   "id": "267ef391",
   "metadata": {},
   "source": [
    "## Compare to geometrical simulations\n",
    "\n",
    "We can can also add bands and zone axes from the best matching orientations as markers to the experimental EBSD data. The simulations are based on the work by Aimo Winkelmann in the supplementary material to the excellent tutorial paper by Britton et al. (2016) ([doi](https://doi.org/10.1016/j.matchar.2016.04.008)). See also the [geometrical EBSD simulations user guide](https://kikuchipy.org/en/stable/geometrical_ebsd_simulations.html) for more information than is given here.\n",
    "\n",
    "**Note: At the moment, geometrical simulations can only be done for cubic crystals. (For those very interested, see [this pull request](https://github.com/pyxem/diffsims/pull/146) in diffsims.)**\n",
    "\n",
    "First, we set up the relevant Kikuchi bands (the zone axes follows from these), namely $(hkl)$ = (111), (200), (220), and (311), using [diffsims'](https://diffsims.readthedocs.io) `ReciprocalLatticeVector`"
   ]
  },
  {
   "cell_type": "code",
   "execution_count": null,
   "id": "de798990",
   "metadata": {},
   "outputs": [],
   "source": [
    "# set up the kikuchi bands for geometrical simulation using ReciprocalLatticeVector\n",
    "\n",
    "\n",
    "\n"
   ]
  },
  {
   "cell_type": "markdown",
   "id": "c72f158a",
   "metadata": {},
   "source": [
    "Get the symmetrically equivalent bands using `symmetrise()`"
   ]
  },
  {
   "cell_type": "code",
   "execution_count": null,
   "id": "fd8882c3",
   "metadata": {},
   "outputs": [],
   "source": [
    "# get the equivalent symmetry bands\n"
   ]
  },
  {
   "cell_type": "markdown",
   "id": "82bc1380",
   "metadata": {},
   "source": [
    "Create an `KikuchiPatternSimulator` (remember to reshape the best matching rotations array to the experimental data shape!)"
   ]
  },
  {
   "cell_type": "code",
   "execution_count": null,
   "id": "c4fbfd41",
   "metadata": {},
   "outputs": [],
   "source": [
    "# Create a KikuchiPatternSimulator\n",
    "\n"
   ]
  },
  {
   "cell_type": "markdown",
   "id": "99e3bcc7",
   "metadata": {},
   "source": [
    "Generate bands and zone axes visible on the detector for the best matching orientations using `on_detector()`"
   ]
  },
  {
   "cell_type": "code",
   "execution_count": null,
   "id": "1f5dcbf3",
   "metadata": {},
   "outputs": [],
   "source": [
    "# generate bands and ZA visible on the detector for the best matching orientations\n",
    "\n"
   ]
  },
  {
   "cell_type": "markdown",
   "id": "41b4af94",
   "metadata": {},
   "source": [
    "Use `as_markers()` to make HyperSpy markers from the geometrical simulations and add them to the experimental patterns with `add_marker()`"
   ]
  },
  {
   "cell_type": "code",
   "execution_count": null,
   "id": "d3d953dd",
   "metadata": {},
   "outputs": [],
   "source": [
    "# Create and add markers for the zone axes\n",
    "\n"
   ]
  },
  {
   "cell_type": "markdown",
   "id": "61de2dd0",
   "metadata": {},
   "source": [
    "Plot the experimental data, navigating in the NCC map"
   ]
  },
  {
   "cell_type": "code",
   "execution_count": null,
   "id": "36f730eb",
   "metadata": {},
   "outputs": [],
   "source": [
    "# plot the experimental data with markers\n"
   ]
  },
  {
   "cell_type": "markdown",
   "id": "af7bfe50",
   "metadata": {},
   "source": [
    "# <a id='7'>7. Going further</a>\n",
    "\n",
    "<a href='#toc'>Table of contents</a>\n",
    "\n",
    "This notebook includes the majority of the functionality kikuchipy has to offer. Want to do more with EBSD patterns in kikuchipy and the related pyxem family of packages (diffsims, orix)? If so, please submit a feature request on the GitHub repository's [issues pages](https://github.com/pyxem/kikuchipy/issues) or your code as a [pull request](https://github.com/pyxem/kikuchipy/pulls)! We also have a [GitHub discussions page](https://github.com/pyxem/kikuchipy/discussions) and a [Gitter channel](https://gitter.im/pyxem/kikuchipy). Feel free to just say hi!\n",
    "\n",
    "Also, here is a short list of on-going work within the pyxem family of packages and other things that might be of interest:\n",
    "* Orientation and/or PC refinement using reprojection of dynamically simulated patterns from a master pattern will be released as part of v0.5 of kikuchipy (see [this pull request](https://github.com/pyxem/kikuchipy/pull/387)).\n",
    "* Coloring of orientations using the inverse pole figure and a given sample direction with orix is discussed in [this issue](https://github.com/pyxem/orix/issues/166) and [this issue](https://github.com/pyxem/orix/issues/169). The start of inverse pole figure functionality in orix is [this pull request](https://github.com/pyxem/orix/pull/213).\n",
    "* There are a number of other great open-source packages useful for EBSD analysis out there. Some of them are listed [here](https://kikuchipy.org/en/stable/related_projects.html)."
   ]
  }
 ],
 "metadata": {
  "kernelspec": {
   "display_name": "Python [conda env:root] *",
   "language": "python",
   "name": "conda-root-py"
  },
  "language_info": {
   "codemirror_mode": {
    "name": "ipython",
    "version": 3
   },
   "file_extension": ".py",
   "mimetype": "text/x-python",
   "name": "python",
   "nbconvert_exporter": "python",
   "pygments_lexer": "ipython3",
   "version": "3.9.13"
  }
 },
 "nbformat": 4,
 "nbformat_minor": 5
}
